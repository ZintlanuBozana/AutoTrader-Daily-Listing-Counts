{
  "nbformat": 4,
  "nbformat_minor": 0,
  "metadata": {
    "colab": {
      "provenance": [],
      "authorship_tag": "ABX9TyO/SL6hhcpdYJq73ZKc4X8K",
      "include_colab_link": true
    },
    "kernelspec": {
      "name": "python3",
      "display_name": "Python 3"
    },
    "language_info": {
      "name": "python"
    }
  },
  "cells": [
    {
      "cell_type": "markdown",
      "metadata": {
        "id": "view-in-github",
        "colab_type": "text"
      },
      "source": [
        "<a href=\"https://colab.research.google.com/github/ZintlanuBozana/AutoTrader-Daily-Listing-Counts/blob/main/V_Mobile_Use_Case_Project.ipynb\" target=\"_parent\"><img src=\"https://colab.research.google.com/assets/colab-badge.svg\" alt=\"Open In Colab\"/></a>"
      ]
    },
    {
      "cell_type": "code",
      "execution_count": 6,
      "metadata": {
        "id": "04ES8ggjYUgd"
      },
      "outputs": [],
      "source": [
        "import pandas as pd\n",
        "from datetime import datetime"
      ]
    },
    {
      "cell_type": "code",
      "source": [
        "from google.colab import files\n",
        "\n",
        "# This will prompt you to upload the file\n",
        "uploaded = files.upload()"
      ],
      "metadata": {
        "colab": {
          "base_uri": "https://localhost:8080/",
          "height": 177
        },
        "id": "1MOSORT9cuT8",
        "outputId": "b23282ac-c643-4d92-cefa-546efc52d81e"
      },
      "execution_count": 9,
      "outputs": [
        {
          "output_type": "display_data",
          "data": {
            "text/plain": [
              "<IPython.core.display.HTML object>"
            ],
            "text/html": [
              "\n",
              "     <input type=\"file\" id=\"files-b5aa1a96-2967-4886-a4bd-ef4a3de1d7aa\" name=\"files[]\" multiple disabled\n",
              "        style=\"border:none\" />\n",
              "     <output id=\"result-b5aa1a96-2967-4886-a4bd-ef4a3de1d7aa\">\n",
              "      Upload widget is only available when the cell has been executed in the\n",
              "      current browser session. Please rerun this cell to enable.\n",
              "      </output>\n",
              "      <script>// Copyright 2017 Google LLC\n",
              "//\n",
              "// Licensed under the Apache License, Version 2.0 (the \"License\");\n",
              "// you may not use this file except in compliance with the License.\n",
              "// You may obtain a copy of the License at\n",
              "//\n",
              "//      http://www.apache.org/licenses/LICENSE-2.0\n",
              "//\n",
              "// Unless required by applicable law or agreed to in writing, software\n",
              "// distributed under the License is distributed on an \"AS IS\" BASIS,\n",
              "// WITHOUT WARRANTIES OR CONDITIONS OF ANY KIND, either express or implied.\n",
              "// See the License for the specific language governing permissions and\n",
              "// limitations under the License.\n",
              "\n",
              "/**\n",
              " * @fileoverview Helpers for google.colab Python module.\n",
              " */\n",
              "(function(scope) {\n",
              "function span(text, styleAttributes = {}) {\n",
              "  const element = document.createElement('span');\n",
              "  element.textContent = text;\n",
              "  for (const key of Object.keys(styleAttributes)) {\n",
              "    element.style[key] = styleAttributes[key];\n",
              "  }\n",
              "  return element;\n",
              "}\n",
              "\n",
              "// Max number of bytes which will be uploaded at a time.\n",
              "const MAX_PAYLOAD_SIZE = 100 * 1024;\n",
              "\n",
              "function _uploadFiles(inputId, outputId) {\n",
              "  const steps = uploadFilesStep(inputId, outputId);\n",
              "  const outputElement = document.getElementById(outputId);\n",
              "  // Cache steps on the outputElement to make it available for the next call\n",
              "  // to uploadFilesContinue from Python.\n",
              "  outputElement.steps = steps;\n",
              "\n",
              "  return _uploadFilesContinue(outputId);\n",
              "}\n",
              "\n",
              "// This is roughly an async generator (not supported in the browser yet),\n",
              "// where there are multiple asynchronous steps and the Python side is going\n",
              "// to poll for completion of each step.\n",
              "// This uses a Promise to block the python side on completion of each step,\n",
              "// then passes the result of the previous step as the input to the next step.\n",
              "function _uploadFilesContinue(outputId) {\n",
              "  const outputElement = document.getElementById(outputId);\n",
              "  const steps = outputElement.steps;\n",
              "\n",
              "  const next = steps.next(outputElement.lastPromiseValue);\n",
              "  return Promise.resolve(next.value.promise).then((value) => {\n",
              "    // Cache the last promise value to make it available to the next\n",
              "    // step of the generator.\n",
              "    outputElement.lastPromiseValue = value;\n",
              "    return next.value.response;\n",
              "  });\n",
              "}\n",
              "\n",
              "/**\n",
              " * Generator function which is called between each async step of the upload\n",
              " * process.\n",
              " * @param {string} inputId Element ID of the input file picker element.\n",
              " * @param {string} outputId Element ID of the output display.\n",
              " * @return {!Iterable<!Object>} Iterable of next steps.\n",
              " */\n",
              "function* uploadFilesStep(inputId, outputId) {\n",
              "  const inputElement = document.getElementById(inputId);\n",
              "  inputElement.disabled = false;\n",
              "\n",
              "  const outputElement = document.getElementById(outputId);\n",
              "  outputElement.innerHTML = '';\n",
              "\n",
              "  const pickedPromise = new Promise((resolve) => {\n",
              "    inputElement.addEventListener('change', (e) => {\n",
              "      resolve(e.target.files);\n",
              "    });\n",
              "  });\n",
              "\n",
              "  const cancel = document.createElement('button');\n",
              "  inputElement.parentElement.appendChild(cancel);\n",
              "  cancel.textContent = 'Cancel upload';\n",
              "  const cancelPromise = new Promise((resolve) => {\n",
              "    cancel.onclick = () => {\n",
              "      resolve(null);\n",
              "    };\n",
              "  });\n",
              "\n",
              "  // Wait for the user to pick the files.\n",
              "  const files = yield {\n",
              "    promise: Promise.race([pickedPromise, cancelPromise]),\n",
              "    response: {\n",
              "      action: 'starting',\n",
              "    }\n",
              "  };\n",
              "\n",
              "  cancel.remove();\n",
              "\n",
              "  // Disable the input element since further picks are not allowed.\n",
              "  inputElement.disabled = true;\n",
              "\n",
              "  if (!files) {\n",
              "    return {\n",
              "      response: {\n",
              "        action: 'complete',\n",
              "      }\n",
              "    };\n",
              "  }\n",
              "\n",
              "  for (const file of files) {\n",
              "    const li = document.createElement('li');\n",
              "    li.append(span(file.name, {fontWeight: 'bold'}));\n",
              "    li.append(span(\n",
              "        `(${file.type || 'n/a'}) - ${file.size} bytes, ` +\n",
              "        `last modified: ${\n",
              "            file.lastModifiedDate ? file.lastModifiedDate.toLocaleDateString() :\n",
              "                                    'n/a'} - `));\n",
              "    const percent = span('0% done');\n",
              "    li.appendChild(percent);\n",
              "\n",
              "    outputElement.appendChild(li);\n",
              "\n",
              "    const fileDataPromise = new Promise((resolve) => {\n",
              "      const reader = new FileReader();\n",
              "      reader.onload = (e) => {\n",
              "        resolve(e.target.result);\n",
              "      };\n",
              "      reader.readAsArrayBuffer(file);\n",
              "    });\n",
              "    // Wait for the data to be ready.\n",
              "    let fileData = yield {\n",
              "      promise: fileDataPromise,\n",
              "      response: {\n",
              "        action: 'continue',\n",
              "      }\n",
              "    };\n",
              "\n",
              "    // Use a chunked sending to avoid message size limits. See b/62115660.\n",
              "    let position = 0;\n",
              "    do {\n",
              "      const length = Math.min(fileData.byteLength - position, MAX_PAYLOAD_SIZE);\n",
              "      const chunk = new Uint8Array(fileData, position, length);\n",
              "      position += length;\n",
              "\n",
              "      const base64 = btoa(String.fromCharCode.apply(null, chunk));\n",
              "      yield {\n",
              "        response: {\n",
              "          action: 'append',\n",
              "          file: file.name,\n",
              "          data: base64,\n",
              "        },\n",
              "      };\n",
              "\n",
              "      let percentDone = fileData.byteLength === 0 ?\n",
              "          100 :\n",
              "          Math.round((position / fileData.byteLength) * 100);\n",
              "      percent.textContent = `${percentDone}% done`;\n",
              "\n",
              "    } while (position < fileData.byteLength);\n",
              "  }\n",
              "\n",
              "  // All done.\n",
              "  yield {\n",
              "    response: {\n",
              "      action: 'complete',\n",
              "    }\n",
              "  };\n",
              "}\n",
              "\n",
              "scope.google = scope.google || {};\n",
              "scope.google.colab = scope.google.colab || {};\n",
              "scope.google.colab._files = {\n",
              "  _uploadFiles,\n",
              "  _uploadFilesContinue,\n",
              "};\n",
              "})(self);\n",
              "</script> "
            ]
          },
          "metadata": {}
        },
        {
          "output_type": "stream",
          "name": "stdout",
          "text": [
            "Saving VMobile_city_lookup.csv to VMobile_city_lookup.csv\n",
            "Saving VMobile_subscribers.csv to VMobile_subscribers.csv\n",
            "Saving VMobile_subscribers_arrowmobile.csv to VMobile_subscribers_arrowmobile.csv\n",
            "Saving VMobile_subscribers_bluemobile.csv to VMobile_subscribers_bluemobile.csv\n"
          ]
        }
      ]
    },
    {
      "cell_type": "code",
      "source": [
        "from google.colab import files\n",
        "\n",
        "# This will prompt you to upload the file\n",
        "uploaded = files.upload()"
      ],
      "metadata": {
        "colab": {
          "base_uri": "https://localhost:8080/",
          "height": 142
        },
        "id": "A8-pwcIH_bcp",
        "outputId": "30334a03-7f71-4ae8-be26-c9f526fb736c"
      },
      "execution_count": 10,
      "outputs": [
        {
          "output_type": "display_data",
          "data": {
            "text/plain": [
              "<IPython.core.display.HTML object>"
            ],
            "text/html": [
              "\n",
              "     <input type=\"file\" id=\"files-75ad133b-ae98-40da-8ca3-07f5824d3a12\" name=\"files[]\" multiple disabled\n",
              "        style=\"border:none\" />\n",
              "     <output id=\"result-75ad133b-ae98-40da-8ca3-07f5824d3a12\">\n",
              "      Upload widget is only available when the cell has been executed in the\n",
              "      current browser session. Please rerun this cell to enable.\n",
              "      </output>\n",
              "      <script>// Copyright 2017 Google LLC\n",
              "//\n",
              "// Licensed under the Apache License, Version 2.0 (the \"License\");\n",
              "// you may not use this file except in compliance with the License.\n",
              "// You may obtain a copy of the License at\n",
              "//\n",
              "//      http://www.apache.org/licenses/LICENSE-2.0\n",
              "//\n",
              "// Unless required by applicable law or agreed to in writing, software\n",
              "// distributed under the License is distributed on an \"AS IS\" BASIS,\n",
              "// WITHOUT WARRANTIES OR CONDITIONS OF ANY KIND, either express or implied.\n",
              "// See the License for the specific language governing permissions and\n",
              "// limitations under the License.\n",
              "\n",
              "/**\n",
              " * @fileoverview Helpers for google.colab Python module.\n",
              " */\n",
              "(function(scope) {\n",
              "function span(text, styleAttributes = {}) {\n",
              "  const element = document.createElement('span');\n",
              "  element.textContent = text;\n",
              "  for (const key of Object.keys(styleAttributes)) {\n",
              "    element.style[key] = styleAttributes[key];\n",
              "  }\n",
              "  return element;\n",
              "}\n",
              "\n",
              "// Max number of bytes which will be uploaded at a time.\n",
              "const MAX_PAYLOAD_SIZE = 100 * 1024;\n",
              "\n",
              "function _uploadFiles(inputId, outputId) {\n",
              "  const steps = uploadFilesStep(inputId, outputId);\n",
              "  const outputElement = document.getElementById(outputId);\n",
              "  // Cache steps on the outputElement to make it available for the next call\n",
              "  // to uploadFilesContinue from Python.\n",
              "  outputElement.steps = steps;\n",
              "\n",
              "  return _uploadFilesContinue(outputId);\n",
              "}\n",
              "\n",
              "// This is roughly an async generator (not supported in the browser yet),\n",
              "// where there are multiple asynchronous steps and the Python side is going\n",
              "// to poll for completion of each step.\n",
              "// This uses a Promise to block the python side on completion of each step,\n",
              "// then passes the result of the previous step as the input to the next step.\n",
              "function _uploadFilesContinue(outputId) {\n",
              "  const outputElement = document.getElementById(outputId);\n",
              "  const steps = outputElement.steps;\n",
              "\n",
              "  const next = steps.next(outputElement.lastPromiseValue);\n",
              "  return Promise.resolve(next.value.promise).then((value) => {\n",
              "    // Cache the last promise value to make it available to the next\n",
              "    // step of the generator.\n",
              "    outputElement.lastPromiseValue = value;\n",
              "    return next.value.response;\n",
              "  });\n",
              "}\n",
              "\n",
              "/**\n",
              " * Generator function which is called between each async step of the upload\n",
              " * process.\n",
              " * @param {string} inputId Element ID of the input file picker element.\n",
              " * @param {string} outputId Element ID of the output display.\n",
              " * @return {!Iterable<!Object>} Iterable of next steps.\n",
              " */\n",
              "function* uploadFilesStep(inputId, outputId) {\n",
              "  const inputElement = document.getElementById(inputId);\n",
              "  inputElement.disabled = false;\n",
              "\n",
              "  const outputElement = document.getElementById(outputId);\n",
              "  outputElement.innerHTML = '';\n",
              "\n",
              "  const pickedPromise = new Promise((resolve) => {\n",
              "    inputElement.addEventListener('change', (e) => {\n",
              "      resolve(e.target.files);\n",
              "    });\n",
              "  });\n",
              "\n",
              "  const cancel = document.createElement('button');\n",
              "  inputElement.parentElement.appendChild(cancel);\n",
              "  cancel.textContent = 'Cancel upload';\n",
              "  const cancelPromise = new Promise((resolve) => {\n",
              "    cancel.onclick = () => {\n",
              "      resolve(null);\n",
              "    };\n",
              "  });\n",
              "\n",
              "  // Wait for the user to pick the files.\n",
              "  const files = yield {\n",
              "    promise: Promise.race([pickedPromise, cancelPromise]),\n",
              "    response: {\n",
              "      action: 'starting',\n",
              "    }\n",
              "  };\n",
              "\n",
              "  cancel.remove();\n",
              "\n",
              "  // Disable the input element since further picks are not allowed.\n",
              "  inputElement.disabled = true;\n",
              "\n",
              "  if (!files) {\n",
              "    return {\n",
              "      response: {\n",
              "        action: 'complete',\n",
              "      }\n",
              "    };\n",
              "  }\n",
              "\n",
              "  for (const file of files) {\n",
              "    const li = document.createElement('li');\n",
              "    li.append(span(file.name, {fontWeight: 'bold'}));\n",
              "    li.append(span(\n",
              "        `(${file.type || 'n/a'}) - ${file.size} bytes, ` +\n",
              "        `last modified: ${\n",
              "            file.lastModifiedDate ? file.lastModifiedDate.toLocaleDateString() :\n",
              "                                    'n/a'} - `));\n",
              "    const percent = span('0% done');\n",
              "    li.appendChild(percent);\n",
              "\n",
              "    outputElement.appendChild(li);\n",
              "\n",
              "    const fileDataPromise = new Promise((resolve) => {\n",
              "      const reader = new FileReader();\n",
              "      reader.onload = (e) => {\n",
              "        resolve(e.target.result);\n",
              "      };\n",
              "      reader.readAsArrayBuffer(file);\n",
              "    });\n",
              "    // Wait for the data to be ready.\n",
              "    let fileData = yield {\n",
              "      promise: fileDataPromise,\n",
              "      response: {\n",
              "        action: 'continue',\n",
              "      }\n",
              "    };\n",
              "\n",
              "    // Use a chunked sending to avoid message size limits. See b/62115660.\n",
              "    let position = 0;\n",
              "    do {\n",
              "      const length = Math.min(fileData.byteLength - position, MAX_PAYLOAD_SIZE);\n",
              "      const chunk = new Uint8Array(fileData, position, length);\n",
              "      position += length;\n",
              "\n",
              "      const base64 = btoa(String.fromCharCode.apply(null, chunk));\n",
              "      yield {\n",
              "        response: {\n",
              "          action: 'append',\n",
              "          file: file.name,\n",
              "          data: base64,\n",
              "        },\n",
              "      };\n",
              "\n",
              "      let percentDone = fileData.byteLength === 0 ?\n",
              "          100 :\n",
              "          Math.round((position / fileData.byteLength) * 100);\n",
              "      percent.textContent = `${percentDone}% done`;\n",
              "\n",
              "    } while (position < fileData.byteLength);\n",
              "  }\n",
              "\n",
              "  // All done.\n",
              "  yield {\n",
              "    response: {\n",
              "      action: 'complete',\n",
              "    }\n",
              "  };\n",
              "}\n",
              "\n",
              "scope.google = scope.google || {};\n",
              "scope.google.colab = scope.google.colab || {};\n",
              "scope.google.colab._files = {\n",
              "  _uploadFiles,\n",
              "  _uploadFilesContinue,\n",
              "};\n",
              "})(self);\n",
              "</script> "
            ]
          },
          "metadata": {}
        },
        {
          "output_type": "stream",
          "name": "stdout",
          "text": [
            "Saving VMobile_usage_event_lookup.csv to VMobile_usage_event_lookup.csv\n",
            "Saving VMobile_usage_records.csv to VMobile_usage_records.csv\n",
            "Saving VMobile_usage_records_week_2.csv to VMobile_usage_records_week_2.csv\n"
          ]
        }
      ]
    },
    {
      "cell_type": "code",
      "source": [
        "#Subscribers datasets\n",
        "\n",
        "subscribers_VMobile = pd.read_csv(\"VMobile_subscribers.csv\")\n",
        "subscribers_ArrowMobile = pd.read_csv(\"VMobile_subscribers_arrowmobile.csv\")\n",
        "subscribers_BlueMobile = pd.read_csv(\"VMobile_subscribers_bluemobile.csv\")\n",
        "city_lookup = pd.read_csv(\"VMobile_city_lookup.csv\")"
      ],
      "metadata": {
        "id": "IiiKevpfY6xd"
      },
      "execution_count": 11,
      "outputs": []
    },
    {
      "cell_type": "code",
      "source": [
        "subscribers_VMobile = pd.read_csv(\"VMobile_subscribers.csv\", sep=\";\")\n",
        "subscribers_ArrowMobile = pd.read_csv(\"VMobile_subscribers_arrowmobile.csv\", sep=\";\")\n",
        "subscribers_BlueMobile = pd.read_csv(\"VMobile_subscribers_bluemobile.csv\", sep=\";\")\n",
        "city_lookup = pd.read_csv(\"VMobile_city_lookup.csv\", sep=\";\")"
      ],
      "metadata": {
        "id": "9nfA9z93lSMX"
      },
      "execution_count": 12,
      "outputs": []
    },
    {
      "cell_type": "code",
      "source": [
        "#Process Usage Data\n",
        "\n",
        "VMobile_Usage_Event_lookup = pd.read_csv(\"VMobile_usage_event_lookup.csv\", sep=\";\")\n",
        "VMobile_Usage_Records = pd.read_csv(\"VMobile_usage_records.csv\", sep=\";\")\n",
        "VMobile_Usage_Records_week_2 = pd.read_csv(\"VMobile_usage_records_week_2.csv\", sep=\";\")"
      ],
      "metadata": {
        "id": "ChV2pZTNABRy"
      },
      "execution_count": 142,
      "outputs": []
    },
    {
      "cell_type": "code",
      "source": [
        "print(subscribers_VMobile)"
      ],
      "metadata": {
        "colab": {
          "base_uri": "https://localhost:8080/"
        },
        "id": "-pycX5LXdIrm",
        "outputId": "52f376e0-bf49-4e06-d82c-0ceb875e4d21"
      },
      "execution_count": 14,
      "outputs": [
        {
          "output_type": "stream",
          "name": "stdout",
          "text": [
            "           Location  Cell Number SIM Activation Date       First Name  \\\n",
            "0      Johannesburg  27701302724          10 01 2024         Sibonelo   \n",
            "1          Pretoria  27702088773          15 11 2024        Gugulethu   \n",
            "2         West Rand  27702970958          16 04 2025        Nokulunga   \n",
            "3    Port Elizabeth  27703320064          10 04 2024           Owethu   \n",
            "4         Cape Town  27704131178          22 09 2024          Lindsay   \n",
            "..              ...          ...                 ...              ...   \n",
            "104    Johannesburg  27796205527          12 02 2024  SimphiweyiNkosi   \n",
            "105       Cape Town  27796677912          09 12 2023          Allison   \n",
            "106    Johannesburg  27797558478          04 09 2023          Randall   \n",
            "107      Ekurhuleni  27798844055          26 10 2024       Mthokozisi   \n",
            "108        Pretoria  27799698904          26 10 2023          Jeffrey   \n",
            "\n",
            "    Last Name    Birthday  \n",
            "0      Jiyane  31 05 1965  \n",
            "1     Dimbani  17 11 1976  \n",
            "2     Mhlungu  11 03 1977  \n",
            "3    Khanyile  11 07 1997  \n",
            "4       Blair  31 01 1976  \n",
            "..        ...         ...  \n",
            "104     Msani  27 04 1978  \n",
            "105    Obrien  20 03 2005  \n",
            "106     Rocha  25 10 1970  \n",
            "107   Sishiya  28 03 1977  \n",
            "108    Bright  07 04 1974  \n",
            "\n",
            "[109 rows x 6 columns]\n"
          ]
        }
      ]
    },
    {
      "cell_type": "code",
      "source": [
        "subscribers_VMobile = subscribers_VMobile.rename(columns={\n",
        "    \"Cell Number\": \"cell_number\",\n",
        "    \"SIM Activation Date\": \"sim_activation_date\",\n",
        "    \"First Name\": \"first_name\",\n",
        "    \"Last Name\": \"last_name\",\n",
        "    \"Birthday\": \"dob\",\n",
        "    \"Location\": \"region\"\n",
        "})"
      ],
      "metadata": {
        "id": "wqwx6irbozvn"
      },
      "execution_count": 15,
      "outputs": []
    },
    {
      "cell_type": "code",
      "source": [
        "print(subscribers_VMobile)"
      ],
      "metadata": {
        "colab": {
          "base_uri": "https://localhost:8080/"
        },
        "id": "eW90vTIDeKLi",
        "outputId": "3d5d8d02-88c4-489a-c529-92fcd11b9769"
      },
      "execution_count": 16,
      "outputs": [
        {
          "output_type": "stream",
          "name": "stdout",
          "text": [
            "             region  cell_number sim_activation_date       first_name  \\\n",
            "0      Johannesburg  27701302724          10 01 2024         Sibonelo   \n",
            "1          Pretoria  27702088773          15 11 2024        Gugulethu   \n",
            "2         West Rand  27702970958          16 04 2025        Nokulunga   \n",
            "3    Port Elizabeth  27703320064          10 04 2024           Owethu   \n",
            "4         Cape Town  27704131178          22 09 2024          Lindsay   \n",
            "..              ...          ...                 ...              ...   \n",
            "104    Johannesburg  27796205527          12 02 2024  SimphiweyiNkosi   \n",
            "105       Cape Town  27796677912          09 12 2023          Allison   \n",
            "106    Johannesburg  27797558478          04 09 2023          Randall   \n",
            "107      Ekurhuleni  27798844055          26 10 2024       Mthokozisi   \n",
            "108        Pretoria  27799698904          26 10 2023          Jeffrey   \n",
            "\n",
            "    last_name         dob  \n",
            "0      Jiyane  31 05 1965  \n",
            "1     Dimbani  17 11 1976  \n",
            "2     Mhlungu  11 03 1977  \n",
            "3    Khanyile  11 07 1997  \n",
            "4       Blair  31 01 1976  \n",
            "..        ...         ...  \n",
            "104     Msani  27 04 1978  \n",
            "105    Obrien  20 03 2005  \n",
            "106     Rocha  25 10 1970  \n",
            "107   Sishiya  28 03 1977  \n",
            "108    Bright  07 04 1974  \n",
            "\n",
            "[109 rows x 6 columns]\n"
          ]
        }
      ]
    },
    {
      "cell_type": "code",
      "source": [
        "print(subscribers_ArrowMobile)"
      ],
      "metadata": {
        "colab": {
          "base_uri": "https://localhost:8080/"
        },
        "id": "7cXXDjrIqmRu",
        "outputId": "86749c55-a9e3-4c09-c5d9-4635ea616e62"
      },
      "execution_count": 17,
      "outputs": [
        {
          "output_type": "stream",
          "name": "stdout",
          "text": [
            "          CellNo    FirstName   LastName              Area     SIMDate\n",
            "0    27704465602         John       Tran          Pretoria  08 09 2024\n",
            "1    27708030287        Linda     Mellor            Durban  12 05 2024\n",
            "2    27700594567       Donald       Lowe        Ekurhuleni  20 07 2023\n",
            "3    27701525711    Sibongile  Gxabhashe            Welkom  17 07 2023\n",
            "4    27702796440        Lewis      Evans  Pietermaritzburg  05 12 2024\n",
            "..           ...          ...        ...               ...         ...\n",
            "127  27797256727  Bhekokwakhe      Dwala            Durban  21 09 2024\n",
            "128  27798290960     Veronica     Bowman      Johannesburg  27 07 2024\n",
            "129  27798562157      Jeffrey     Morgan       Krugersdorp  24 07 2024\n",
            "130  27799314934       Gerald     Bailey        Soshanguve  15 11 2023\n",
            "131  27799933613   Sithembiso      Mvubu            Benoni  29 09 2024\n",
            "\n",
            "[132 rows x 5 columns]\n"
          ]
        }
      ]
    },
    {
      "cell_type": "code",
      "source": [
        "subscribers_ArrowMobile = subscribers_ArrowMobile.rename(columns={\n",
        "    \"CellNo\": \"cell_number\",\n",
        "    \"Activate\": \"sim_activation_date\",\n",
        "    \"SIMDate\": \"sim_activation_date\",\n",
        "    \"FirstName\": \"first_name\",\n",
        "    \"LastName\": \"last_name\",\n",
        "    \"Date\": \"dob\",\n",
        "    \"City\": \"region\",\n",
        "    \"Area\":\"region\",\n",
        "    \"Name\": \"first_name\",   # in case ArrowMobile stores first name under 'Name'\n",
        "    \"Surname\": \"last_name\"  # in case ArrowMobile stores surname here\n",
        "})"
      ],
      "metadata": {
        "id": "RNPdF4GJpRY3"
      },
      "execution_count": 18,
      "outputs": []
    },
    {
      "cell_type": "code",
      "source": [
        "print(subscribers_ArrowMobile)"
      ],
      "metadata": {
        "colab": {
          "base_uri": "https://localhost:8080/"
        },
        "id": "Z-0A4MnwfCel",
        "outputId": "1b2c8e88-2bc7-4789-bae7-a5fd3858b246"
      },
      "execution_count": 19,
      "outputs": [
        {
          "output_type": "stream",
          "name": "stdout",
          "text": [
            "     cell_number   first_name  last_name            region sim_activation_date\n",
            "0    27704465602         John       Tran          Pretoria          08 09 2024\n",
            "1    27708030287        Linda     Mellor            Durban          12 05 2024\n",
            "2    27700594567       Donald       Lowe        Ekurhuleni          20 07 2023\n",
            "3    27701525711    Sibongile  Gxabhashe            Welkom          17 07 2023\n",
            "4    27702796440        Lewis      Evans  Pietermaritzburg          05 12 2024\n",
            "..           ...          ...        ...               ...                 ...\n",
            "127  27797256727  Bhekokwakhe      Dwala            Durban          21 09 2024\n",
            "128  27798290960     Veronica     Bowman      Johannesburg          27 07 2024\n",
            "129  27798562157      Jeffrey     Morgan       Krugersdorp          24 07 2024\n",
            "130  27799314934       Gerald     Bailey        Soshanguve          15 11 2023\n",
            "131  27799933613   Sithembiso      Mvubu            Benoni          29 09 2024\n",
            "\n",
            "[132 rows x 5 columns]\n"
          ]
        }
      ]
    },
    {
      "cell_type": "code",
      "source": [
        "print(subscribers_BlueMobile)"
      ],
      "metadata": {
        "colab": {
          "base_uri": "https://localhost:8080/"
        },
        "id": "REYUG4mYr7ft",
        "outputId": "1286e66c-eabb-46cd-c4b7-5a9538e72279"
      },
      "execution_count": 20,
      "outputs": [
        {
          "output_type": "stream",
          "name": "stdout",
          "text": [
            "       Activate        Name            City       Cell        Date    Surname\n",
            "0    23 12 2024       Roger  Port Elizabeth  700408017  17 12 1998  Pritchard\n",
            "1    08 09 2024        Johw         Tshwane  704465602  22 09 2003       Tran\n",
            "2    05 10 2023  Sithembiso       Cape Town  700498064  02 01 1961     Sabelo\n",
            "3    12 05 2024       Linda       eThekwini  708030287  16 07 1987     Mellor\n",
            "4    03 06 2025     Thabani      Soshanguve  700536653  20 10 1960      Phewa\n",
            "..          ...         ...             ...        ...         ...        ...\n",
            "167  08 10 2023      Mandla         Witbank  798062959  24 07 1965        Yei\n",
            "168  27 07 2024    Veronica           Egoli  798290960  29 06 1977     Bowman\n",
            "169  23 01 2025    Simphiwe    Johannesburg  798418621  18 08 1957    Mbhense\n",
            "170  26 10 2024  Mthokozisi       East Rand  798844055  28 03 1977    Sishiya\n",
            "171  26 10 2023        Jefy        Pretoria  799698904  07 04 1974     Bright\n",
            "\n",
            "[172 rows x 6 columns]\n"
          ]
        }
      ]
    },
    {
      "cell_type": "code",
      "source": [
        "subscribers_BlueMobile = subscribers_BlueMobile.rename(columns={\n",
        "    \"Cell\": \"cell_number\",\n",
        "    \"SIMDate\": \"sim_activation_date\",\n",
        "    \"Activate\": \"sim_activation_date\",\n",
        "    \"FirstName\": \"first_name\",\n",
        "    \"LastName\": \"last_name\",\n",
        "    \"Date\": \"dob\",\n",
        "    \"City\": \"region\",\n",
        "    \"Name\": \"first_name\",\n",
        "    \"Surname\": \"last_name\"\n",
        "})"
      ],
      "metadata": {
        "id": "6BMNxgJmp63b"
      },
      "execution_count": 21,
      "outputs": []
    },
    {
      "cell_type": "code",
      "source": [
        "print(subscribers_BlueMobile)"
      ],
      "metadata": {
        "colab": {
          "base_uri": "https://localhost:8080/"
        },
        "id": "wi5m-OgyqO0i",
        "outputId": "42e0d3cf-6f54-4c0d-8b4b-dafb7b16c960"
      },
      "execution_count": 22,
      "outputs": [
        {
          "output_type": "stream",
          "name": "stdout",
          "text": [
            "    sim_activation_date  first_name          region  cell_number         dob  \\\n",
            "0            23 12 2024       Roger  Port Elizabeth    700408017  17 12 1998   \n",
            "1            08 09 2024        Johw         Tshwane    704465602  22 09 2003   \n",
            "2            05 10 2023  Sithembiso       Cape Town    700498064  02 01 1961   \n",
            "3            12 05 2024       Linda       eThekwini    708030287  16 07 1987   \n",
            "4            03 06 2025     Thabani      Soshanguve    700536653  20 10 1960   \n",
            "..                  ...         ...             ...          ...         ...   \n",
            "167          08 10 2023      Mandla         Witbank    798062959  24 07 1965   \n",
            "168          27 07 2024    Veronica           Egoli    798290960  29 06 1977   \n",
            "169          23 01 2025    Simphiwe    Johannesburg    798418621  18 08 1957   \n",
            "170          26 10 2024  Mthokozisi       East Rand    798844055  28 03 1977   \n",
            "171          26 10 2023        Jefy        Pretoria    799698904  07 04 1974   \n",
            "\n",
            "     last_name  \n",
            "0    Pritchard  \n",
            "1         Tran  \n",
            "2       Sabelo  \n",
            "3       Mellor  \n",
            "4        Phewa  \n",
            "..         ...  \n",
            "167        Yei  \n",
            "168     Bowman  \n",
            "169    Mbhense  \n",
            "170    Sishiya  \n",
            "171     Bright  \n",
            "\n",
            "[172 rows x 6 columns]\n"
          ]
        }
      ]
    },
    {
      "cell_type": "code",
      "source": [
        "print(city_lookup)"
      ],
      "metadata": {
        "colab": {
          "base_uri": "https://localhost:8080/"
        },
        "id": "-BppvgbMfex2",
        "outputId": "78e3ed1a-3842-4df0-b640-394902f170a5"
      },
      "execution_count": 23,
      "outputs": [
        {
          "output_type": "stream",
          "name": "stdout",
          "text": [
            "    CITY_ID  PROVINCE_NAME         CITY_NAME ALTERNATIVE_CITY_NAME  \\\n",
            "0         1   Eastern Cape       East London                   NaN   \n",
            "1         2   Eastern Cape    Port Elizabeth              Gqeberha   \n",
            "2         3   Eastern Cape         Uitenhage               Kariega   \n",
            "3         4     Free State      Bloemfontein              Mangaung   \n",
            "4         5     Free State        Botshabelo                   NaN   \n",
            "5         6     Free State         Sasolburg                   NaN   \n",
            "6         7     Free State            Welkom                   NaN   \n",
            "7         8        Gauteng            Benoni                   NaN   \n",
            "8         9        Gauteng          Boksburg                   NaN   \n",
            "9        10        Gauteng        Ekurhuleni             East Rand   \n",
            "10       11        Gauteng      Johannesburg                 Egoli   \n",
            "11       12        Gauteng       Krugersdorp                   NaN   \n",
            "12       13        Gauteng           Midrand                   NaN   \n",
            "13       14        Gauteng          Pretoria               Tshwane   \n",
            "14       15        Gauteng        Soshanguve                   NaN   \n",
            "15       16        Gauteng           Springs                   NaN   \n",
            "16       17        Gauteng       Vereeniging                   NaN   \n",
            "17       18        Gauteng         West Rand                   NaN   \n",
            "18       19  KwaZulu-Natal            Durban             eThekwini   \n",
            "19       20  KwaZulu-Natal         Newcastle                   NaN   \n",
            "20       21  KwaZulu-Natal  Pietermaritzburg                   NaN   \n",
            "21       22  KwaZulu-Natal      Richards Bay                   NaN   \n",
            "22       23        Limpopo         Polokwane           Pietersburg   \n",
            "23       24        Limpopo       Thohoyandou                   NaN   \n",
            "24       25     Mpumalanga        Middelburg                   NaN   \n",
            "25       26     Mpumalanga         Nelspruit              Mbombela   \n",
            "26       27     Mpumalanga           Witbank            Emalahleni   \n",
            "27       28     North West        Klerksdorp                   NaN   \n",
            "28       29     North West     Potchefstroom                   NaN   \n",
            "29       30     North West        Rustenburg                   NaN   \n",
            "30       31  Northern Cape         Kimberley                   NaN   \n",
            "31       32  Northern Cape          Upington                   NaN   \n",
            "32       33   Western Cape         Cape Town              Kaapstad   \n",
            "33       34   Western Cape            George                   NaN   \n",
            "34       35   Western Cape             Paarl                   NaN   \n",
            "\n",
            "   CITY_LATITUDE CITY_LONGITUDE CITY_POPULATION  \n",
            "0      -32,98084       27,90841        756 507   \n",
            "1      -33,96083       25,60217      1 330 500   \n",
            "2      -33,76606       25,38848        198 800   \n",
            "3      -29,12499       26,21998        618 817   \n",
            "4      -29,23688       26,73047        185 900   \n",
            "5      -27,76672       26,79769        114 000   \n",
            "6      -27,97445       26,73149        431 944   \n",
            "7      -26,15688       28,31894        487 700   \n",
            "8      -26,24841       28,24638        348 100   \n",
            "9      -26,14211       28,30644      4 262 130   \n",
            "10     -26,19525       28,03409      6 444 580   \n",
            "11     -26,08715       27,77234        272 400   \n",
            "12     -26,04756       28,09721        168 700   \n",
            "13     -25,74787       28,22927      2 955 410   \n",
            "14     -25,98382       28,22012        919 748   \n",
            "15     -26,26392       28,44182        214 600   \n",
            "16     -26,67484       27,93692        812 913   \n",
            "17     -26,71464       27,78987        961 625   \n",
            "18     -29,85868       31,02184      3 301 090   \n",
            "19     -27,74966       29,92786        309 400   \n",
            "20     -29,61668       30,39277        560 879   \n",
            "21     -28,77424       32,07143         58 400   \n",
            "22     -23,90335       29,45081        506 990   \n",
            "23     -22,94615       30,48443         69 000   \n",
            "24     -25,76535       29,47126        123 700   \n",
            "25     -25,46972       30,98034        112 400   \n",
            "26     -25,87117       29,23594        523 611   \n",
            "27     -26,86783       26,66702        161 000   \n",
            "28     -26,71504       27,10275        122 100   \n",
            "29     -25,66137       27,24385        607 955   \n",
            "30     -28,72849       24,77003        166 100   \n",
            "31     -28,45561       21,25649         74 600   \n",
            "32     -33,92584       18,42322      5 063 580   \n",
            "33     -33,96464       22,45519        116 300   \n",
            "34     -33,73031       18,97025        173 400   \n"
          ]
        }
      ]
    },
    {
      "cell_type": "code",
      "source": [
        "# Expected columns in subscriber files:\n",
        "# [\"subscriber_id\",\"first_name\",\"last_name\",\"cell_number\",\"dob\",\"city_id\",\"sim_activation_date\"]\n",
        "\n",
        "# Add a source column to each\n",
        "subscribers_VMobile[\"source_system\"] = \"VMobile\"\n",
        "subscribers_ArrowMobile[\"source_system\"] = \"ArrowMobile\"\n",
        "subscribers_BlueMobile[\"source_system\"] = \"BlueMobile\""
      ],
      "metadata": {
        "id": "LMHBo3AmgcaW"
      },
      "execution_count": 110,
      "outputs": []
    },
    {
      "cell_type": "code",
      "source": [
        "print(subscribers_VMobile)"
      ],
      "metadata": {
        "colab": {
          "base_uri": "https://localhost:8080/"
        },
        "id": "E0sJJ9c5hoig",
        "outputId": "19cf5dae-92d1-43c6-a7fd-7a3914235ecb"
      },
      "execution_count": 111,
      "outputs": [
        {
          "output_type": "stream",
          "name": "stdout",
          "text": [
            "             region  cell_number sim_activation_date       first_name  \\\n",
            "0      Johannesburg  27701302724          10 01 2024         Sibonelo   \n",
            "1          Pretoria  27702088773          15 11 2024        Gugulethu   \n",
            "2         West Rand  27702970958          16 04 2025        Nokulunga   \n",
            "3    Port Elizabeth  27703320064          10 04 2024           Owethu   \n",
            "4         Cape Town  27704131178          22 09 2024          Lindsay   \n",
            "..              ...          ...                 ...              ...   \n",
            "104    Johannesburg  27796205527          12 02 2024  SimphiweyiNkosi   \n",
            "105       Cape Town  27796677912          09 12 2023          Allison   \n",
            "106    Johannesburg  27797558478          04 09 2023          Randall   \n",
            "107      Ekurhuleni  27798844055          26 10 2024       Mthokozisi   \n",
            "108        Pretoria  27799698904          26 10 2023          Jeffrey   \n",
            "\n",
            "    last_name         dob source_system  \n",
            "0      Jiyane  31 05 1965       VMobile  \n",
            "1     Dimbani  17 11 1976       VMobile  \n",
            "2     Mhlungu  11 03 1977       VMobile  \n",
            "3    Khanyile  11 07 1997       VMobile  \n",
            "4       Blair  31 01 1976       VMobile  \n",
            "..        ...         ...           ...  \n",
            "104     Msani  27 04 1978       VMobile  \n",
            "105    Obrien  20 03 2005       VMobile  \n",
            "106     Rocha  25 10 1970       VMobile  \n",
            "107   Sishiya  28 03 1977       VMobile  \n",
            "108    Bright  07 04 1974       VMobile  \n",
            "\n",
            "[109 rows x 7 columns]\n"
          ]
        }
      ]
    },
    {
      "cell_type": "code",
      "source": [
        "print(subscribers_ArrowMobile)"
      ],
      "metadata": {
        "colab": {
          "base_uri": "https://localhost:8080/"
        },
        "id": "yMj_r3vwiHBB",
        "outputId": "01ad430f-0329-4742-c48f-cb46f272889f"
      },
      "execution_count": 113,
      "outputs": [
        {
          "output_type": "stream",
          "name": "stdout",
          "text": [
            "     cell_number   first_name  last_name            region  \\\n",
            "0    27704465602         John       Tran          Pretoria   \n",
            "1    27708030287        Linda     Mellor            Durban   \n",
            "2    27700594567       Donald       Lowe        Ekurhuleni   \n",
            "3    27701525711    Sibongile  Gxabhashe            Welkom   \n",
            "4    27702796440        Lewis      Evans  Pietermaritzburg   \n",
            "..           ...          ...        ...               ...   \n",
            "127  27797256727  Bhekokwakhe      Dwala            Durban   \n",
            "128  27798290960     Veronica     Bowman      Johannesburg   \n",
            "129  27798562157      Jeffrey     Morgan       Krugersdorp   \n",
            "130  27799314934       Gerald     Bailey        Soshanguve   \n",
            "131  27799933613   Sithembiso      Mvubu            Benoni   \n",
            "\n",
            "    sim_activation_date source_system  \n",
            "0            08 09 2024   ArrowMobile  \n",
            "1            12 05 2024   ArrowMobile  \n",
            "2            20 07 2023   ArrowMobile  \n",
            "3            17 07 2023   ArrowMobile  \n",
            "4            05 12 2024   ArrowMobile  \n",
            "..                  ...           ...  \n",
            "127          21 09 2024   ArrowMobile  \n",
            "128          27 07 2024   ArrowMobile  \n",
            "129          24 07 2024   ArrowMobile  \n",
            "130          15 11 2023   ArrowMobile  \n",
            "131          29 09 2024   ArrowMobile  \n",
            "\n",
            "[132 rows x 6 columns]\n"
          ]
        }
      ]
    },
    {
      "cell_type": "code",
      "source": [
        "print(subscribers_BlueMobile)"
      ],
      "metadata": {
        "colab": {
          "base_uri": "https://localhost:8080/"
        },
        "id": "NiFm86owiZnQ",
        "outputId": "d5eae134-c573-4d64-e6e2-78b03a6f9960"
      },
      "execution_count": 114,
      "outputs": [
        {
          "output_type": "stream",
          "name": "stdout",
          "text": [
            "    sim_activation_date  first_name          region  cell_number         dob  \\\n",
            "0            23 12 2024       Roger  Port Elizabeth    700408017  17 12 1998   \n",
            "1            08 09 2024        Johw         Tshwane    704465602  22 09 2003   \n",
            "2            05 10 2023  Sithembiso       Cape Town    700498064  02 01 1961   \n",
            "3            12 05 2024       Linda       eThekwini    708030287  16 07 1987   \n",
            "4            03 06 2025     Thabani      Soshanguve    700536653  20 10 1960   \n",
            "..                  ...         ...             ...          ...         ...   \n",
            "167          08 10 2023      Mandla         Witbank    798062959  24 07 1965   \n",
            "168          27 07 2024    Veronica           Egoli    798290960  29 06 1977   \n",
            "169          23 01 2025    Simphiwe    Johannesburg    798418621  18 08 1957   \n",
            "170          26 10 2024  Mthokozisi       East Rand    798844055  28 03 1977   \n",
            "171          26 10 2023        Jefy        Pretoria    799698904  07 04 1974   \n",
            "\n",
            "     last_name source_system  \n",
            "0    Pritchard    BlueMobile  \n",
            "1         Tran    BlueMobile  \n",
            "2       Sabelo    BlueMobile  \n",
            "3       Mellor    BlueMobile  \n",
            "4        Phewa    BlueMobile  \n",
            "..         ...           ...  \n",
            "167        Yei    BlueMobile  \n",
            "168     Bowman    BlueMobile  \n",
            "169    Mbhense    BlueMobile  \n",
            "170    Sishiya    BlueMobile  \n",
            "171     Bright    BlueMobile  \n",
            "\n",
            "[172 rows x 7 columns]\n"
          ]
        }
      ]
    },
    {
      "cell_type": "code",
      "source": [
        "# Combine into one dataset\n",
        "subscribers_all = pd.concat([subscribers_VMobile, subscribers_ArrowMobile, subscribers_BlueMobile], ignore_index=True)\n",
        "print(subscribers_all)"
      ],
      "metadata": {
        "colab": {
          "base_uri": "https://localhost:8080/"
        },
        "id": "r44jt00mhLOG",
        "outputId": "0f471fb5-3ef9-453b-b981-17b32a9a2a4e"
      },
      "execution_count": 115,
      "outputs": [
        {
          "output_type": "stream",
          "name": "stdout",
          "text": [
            "             region  cell_number sim_activation_date  first_name last_name  \\\n",
            "0      Johannesburg  27701302724          10 01 2024    Sibonelo    Jiyane   \n",
            "1          Pretoria  27702088773          15 11 2024   Gugulethu   Dimbani   \n",
            "2         West Rand  27702970958          16 04 2025   Nokulunga   Mhlungu   \n",
            "3    Port Elizabeth  27703320064          10 04 2024      Owethu  Khanyile   \n",
            "4         Cape Town  27704131178          22 09 2024     Lindsay     Blair   \n",
            "..              ...          ...                 ...         ...       ...   \n",
            "408         Witbank    798062959          08 10 2023      Mandla       Yei   \n",
            "409           Egoli    798290960          27 07 2024    Veronica    Bowman   \n",
            "410    Johannesburg    798418621          23 01 2025    Simphiwe   Mbhense   \n",
            "411       East Rand    798844055          26 10 2024  Mthokozisi   Sishiya   \n",
            "412        Pretoria    799698904          26 10 2023        Jefy    Bright   \n",
            "\n",
            "            dob source_system  \n",
            "0    31 05 1965       VMobile  \n",
            "1    17 11 1976       VMobile  \n",
            "2    11 03 1977       VMobile  \n",
            "3    11 07 1997       VMobile  \n",
            "4    31 01 1976       VMobile  \n",
            "..          ...           ...  \n",
            "408  24 07 1965    BlueMobile  \n",
            "409  29 06 1977    BlueMobile  \n",
            "410  18 08 1957    BlueMobile  \n",
            "411  28 03 1977    BlueMobile  \n",
            "412  07 04 1974    BlueMobile  \n",
            "\n",
            "[413 rows x 7 columns]\n"
          ]
        }
      ]
    },
    {
      "cell_type": "code",
      "source": [
        "#convert the sim_activation_date to a datetime\n",
        "subscribers_all[\"sim_activation_date\"] = pd.to_datetime(\n",
        "    subscribers_all[\"sim_activation_date\"], errors=\"coerce\", dayfirst=True\n",
        ")\n",
        "subscribers_all[\"dob\"] = pd.to_datetime(\n",
        "    subscribers_all[\"dob\"], errors=\"coerce\", dayfirst=True\n",
        ")"
      ],
      "metadata": {
        "id": "CZ4C6hKdjzkY"
      },
      "execution_count": 116,
      "outputs": []
    },
    {
      "cell_type": "code",
      "source": [
        "print(subscribers_all)"
      ],
      "metadata": {
        "colab": {
          "base_uri": "https://localhost:8080/"
        },
        "id": "KChxmX0DyVh3",
        "outputId": "f9d0d226-2983-487d-cb82-397fa99a2ee8"
      },
      "execution_count": 117,
      "outputs": [
        {
          "output_type": "stream",
          "name": "stdout",
          "text": [
            "             region  cell_number sim_activation_date  first_name last_name  \\\n",
            "0      Johannesburg  27701302724          2024-01-10    Sibonelo    Jiyane   \n",
            "1          Pretoria  27702088773          2024-11-15   Gugulethu   Dimbani   \n",
            "2         West Rand  27702970958          2025-04-16   Nokulunga   Mhlungu   \n",
            "3    Port Elizabeth  27703320064          2024-04-10      Owethu  Khanyile   \n",
            "4         Cape Town  27704131178          2024-09-22     Lindsay     Blair   \n",
            "..              ...          ...                 ...         ...       ...   \n",
            "408         Witbank    798062959          2023-10-08      Mandla       Yei   \n",
            "409           Egoli    798290960          2024-07-27    Veronica    Bowman   \n",
            "410    Johannesburg    798418621          2025-01-23    Simphiwe   Mbhense   \n",
            "411       East Rand    798844055          2024-10-26  Mthokozisi   Sishiya   \n",
            "412        Pretoria    799698904          2023-10-26        Jefy    Bright   \n",
            "\n",
            "           dob source_system  \n",
            "0   1965-05-31       VMobile  \n",
            "1   1976-11-17       VMobile  \n",
            "2   1977-03-11       VMobile  \n",
            "3   1997-07-11       VMobile  \n",
            "4   1976-01-31       VMobile  \n",
            "..         ...           ...  \n",
            "408 1965-07-24    BlueMobile  \n",
            "409 1977-06-29    BlueMobile  \n",
            "410 1957-08-18    BlueMobile  \n",
            "411 1977-03-28    BlueMobile  \n",
            "412 1974-04-07    BlueMobile  \n",
            "\n",
            "[413 rows x 7 columns]\n"
          ]
        }
      ]
    },
    {
      "cell_type": "code",
      "source": [
        "# STEP 2: Apply Master Record Rules\n",
        "# -------------------------\n",
        "\n",
        "def resolve_master(group):\n",
        "    # Rule 1: If subscriber exists in VMobile, that’s master\n",
        "    if \"VMobile\" in group[\"source_system\"].values:\n",
        "        group[\"is_master\"] = group[\"source_system\"].eq(\"VMobile\")\n",
        "        return group\n",
        "\n",
        "    # Rule 2: Else pick record with latest SIM activation date\n",
        "    max_date = group[\"sim_activation_date\"].max()\n",
        "    latest = group[group[\"sim_activation_date\"] == max_date]\n",
        "\n",
        "    if len(latest) == 1:\n",
        "        group[\"is_master\"] = group.index.isin(latest.index)\n",
        "    else:\n",
        "        # Rule 3: Tie → BlueMobile wins\n",
        "        if \"BlueMobile\" in latest[\"source_system\"].values:\n",
        "            group[\"is_master\"] = group[\"source_system\"].eq(\"BlueMobile\")\n",
        "        else:\n",
        "            group[\"is_master\"] = group[\"source_system\"].eq(\"ArrowMobile\")\n",
        "\n",
        "    return group\n",
        "\n",
        "subscribers_all = subscribers_all.groupby(\"cell_number\", group_keys=False).apply(resolve_master)"
      ],
      "metadata": {
        "colab": {
          "base_uri": "https://localhost:8080/"
        },
        "id": "ywo036yh0r6g",
        "outputId": "70aa011c-c9bd-4ae7-fcf4-02f0e5886d56"
      },
      "execution_count": 118,
      "outputs": [
        {
          "output_type": "stream",
          "name": "stderr",
          "text": [
            "/tmp/ipython-input-2551983086.py:25: DeprecationWarning: DataFrameGroupBy.apply operated on the grouping columns. This behavior is deprecated, and in a future version of pandas the grouping columns will be excluded from the operation. Either pass `include_groups=False` to exclude the groupings or explicitly select the grouping columns after groupby to silence this warning.\n",
            "  subscribers_all = subscribers_all.groupby(\"cell_number\", group_keys=False).apply(resolve_master)\n"
          ]
        }
      ]
    },
    {
      "cell_type": "code",
      "source": [
        "subscribers_all"
      ],
      "metadata": {
        "colab": {
          "base_uri": "https://localhost:8080/",
          "height": 424
        },
        "id": "ND46wg7y19tr",
        "outputId": "de965d51-5a1b-48b0-c270-5ab6e421bdb0"
      },
      "execution_count": 119,
      "outputs": [
        {
          "output_type": "execute_result",
          "data": {
            "text/plain": [
              "             region  cell_number sim_activation_date  first_name last_name  \\\n",
              "0      Johannesburg  27701302724          2024-01-10    Sibonelo    Jiyane   \n",
              "1          Pretoria  27702088773          2024-11-15   Gugulethu   Dimbani   \n",
              "2         West Rand  27702970958          2025-04-16   Nokulunga   Mhlungu   \n",
              "3    Port Elizabeth  27703320064          2024-04-10      Owethu  Khanyile   \n",
              "4         Cape Town  27704131178          2024-09-22     Lindsay     Blair   \n",
              "..              ...          ...                 ...         ...       ...   \n",
              "408         Witbank    798062959          2023-10-08      Mandla       Yei   \n",
              "409           Egoli    798290960          2024-07-27    Veronica    Bowman   \n",
              "410    Johannesburg    798418621          2025-01-23    Simphiwe   Mbhense   \n",
              "411       East Rand    798844055          2024-10-26  Mthokozisi   Sishiya   \n",
              "412        Pretoria    799698904          2023-10-26        Jefy    Bright   \n",
              "\n",
              "           dob source_system  is_master  \n",
              "0   1965-05-31       VMobile       True  \n",
              "1   1976-11-17       VMobile       True  \n",
              "2   1977-03-11       VMobile       True  \n",
              "3   1997-07-11       VMobile       True  \n",
              "4   1976-01-31       VMobile       True  \n",
              "..         ...           ...        ...  \n",
              "408 1965-07-24    BlueMobile       True  \n",
              "409 1977-06-29    BlueMobile       True  \n",
              "410 1957-08-18    BlueMobile       True  \n",
              "411 1977-03-28    BlueMobile       True  \n",
              "412 1974-04-07    BlueMobile       True  \n",
              "\n",
              "[413 rows x 8 columns]"
            ],
            "text/html": [
              "\n",
              "  <div id=\"df-ff066564-5b4f-4db5-b13d-f7bb7e2ffb2d\" class=\"colab-df-container\">\n",
              "    <div>\n",
              "<style scoped>\n",
              "    .dataframe tbody tr th:only-of-type {\n",
              "        vertical-align: middle;\n",
              "    }\n",
              "\n",
              "    .dataframe tbody tr th {\n",
              "        vertical-align: top;\n",
              "    }\n",
              "\n",
              "    .dataframe thead th {\n",
              "        text-align: right;\n",
              "    }\n",
              "</style>\n",
              "<table border=\"1\" class=\"dataframe\">\n",
              "  <thead>\n",
              "    <tr style=\"text-align: right;\">\n",
              "      <th></th>\n",
              "      <th>region</th>\n",
              "      <th>cell_number</th>\n",
              "      <th>sim_activation_date</th>\n",
              "      <th>first_name</th>\n",
              "      <th>last_name</th>\n",
              "      <th>dob</th>\n",
              "      <th>source_system</th>\n",
              "      <th>is_master</th>\n",
              "    </tr>\n",
              "  </thead>\n",
              "  <tbody>\n",
              "    <tr>\n",
              "      <th>0</th>\n",
              "      <td>Johannesburg</td>\n",
              "      <td>27701302724</td>\n",
              "      <td>2024-01-10</td>\n",
              "      <td>Sibonelo</td>\n",
              "      <td>Jiyane</td>\n",
              "      <td>1965-05-31</td>\n",
              "      <td>VMobile</td>\n",
              "      <td>True</td>\n",
              "    </tr>\n",
              "    <tr>\n",
              "      <th>1</th>\n",
              "      <td>Pretoria</td>\n",
              "      <td>27702088773</td>\n",
              "      <td>2024-11-15</td>\n",
              "      <td>Gugulethu</td>\n",
              "      <td>Dimbani</td>\n",
              "      <td>1976-11-17</td>\n",
              "      <td>VMobile</td>\n",
              "      <td>True</td>\n",
              "    </tr>\n",
              "    <tr>\n",
              "      <th>2</th>\n",
              "      <td>West Rand</td>\n",
              "      <td>27702970958</td>\n",
              "      <td>2025-04-16</td>\n",
              "      <td>Nokulunga</td>\n",
              "      <td>Mhlungu</td>\n",
              "      <td>1977-03-11</td>\n",
              "      <td>VMobile</td>\n",
              "      <td>True</td>\n",
              "    </tr>\n",
              "    <tr>\n",
              "      <th>3</th>\n",
              "      <td>Port Elizabeth</td>\n",
              "      <td>27703320064</td>\n",
              "      <td>2024-04-10</td>\n",
              "      <td>Owethu</td>\n",
              "      <td>Khanyile</td>\n",
              "      <td>1997-07-11</td>\n",
              "      <td>VMobile</td>\n",
              "      <td>True</td>\n",
              "    </tr>\n",
              "    <tr>\n",
              "      <th>4</th>\n",
              "      <td>Cape Town</td>\n",
              "      <td>27704131178</td>\n",
              "      <td>2024-09-22</td>\n",
              "      <td>Lindsay</td>\n",
              "      <td>Blair</td>\n",
              "      <td>1976-01-31</td>\n",
              "      <td>VMobile</td>\n",
              "      <td>True</td>\n",
              "    </tr>\n",
              "    <tr>\n",
              "      <th>...</th>\n",
              "      <td>...</td>\n",
              "      <td>...</td>\n",
              "      <td>...</td>\n",
              "      <td>...</td>\n",
              "      <td>...</td>\n",
              "      <td>...</td>\n",
              "      <td>...</td>\n",
              "      <td>...</td>\n",
              "    </tr>\n",
              "    <tr>\n",
              "      <th>408</th>\n",
              "      <td>Witbank</td>\n",
              "      <td>798062959</td>\n",
              "      <td>2023-10-08</td>\n",
              "      <td>Mandla</td>\n",
              "      <td>Yei</td>\n",
              "      <td>1965-07-24</td>\n",
              "      <td>BlueMobile</td>\n",
              "      <td>True</td>\n",
              "    </tr>\n",
              "    <tr>\n",
              "      <th>409</th>\n",
              "      <td>Egoli</td>\n",
              "      <td>798290960</td>\n",
              "      <td>2024-07-27</td>\n",
              "      <td>Veronica</td>\n",
              "      <td>Bowman</td>\n",
              "      <td>1977-06-29</td>\n",
              "      <td>BlueMobile</td>\n",
              "      <td>True</td>\n",
              "    </tr>\n",
              "    <tr>\n",
              "      <th>410</th>\n",
              "      <td>Johannesburg</td>\n",
              "      <td>798418621</td>\n",
              "      <td>2025-01-23</td>\n",
              "      <td>Simphiwe</td>\n",
              "      <td>Mbhense</td>\n",
              "      <td>1957-08-18</td>\n",
              "      <td>BlueMobile</td>\n",
              "      <td>True</td>\n",
              "    </tr>\n",
              "    <tr>\n",
              "      <th>411</th>\n",
              "      <td>East Rand</td>\n",
              "      <td>798844055</td>\n",
              "      <td>2024-10-26</td>\n",
              "      <td>Mthokozisi</td>\n",
              "      <td>Sishiya</td>\n",
              "      <td>1977-03-28</td>\n",
              "      <td>BlueMobile</td>\n",
              "      <td>True</td>\n",
              "    </tr>\n",
              "    <tr>\n",
              "      <th>412</th>\n",
              "      <td>Pretoria</td>\n",
              "      <td>799698904</td>\n",
              "      <td>2023-10-26</td>\n",
              "      <td>Jefy</td>\n",
              "      <td>Bright</td>\n",
              "      <td>1974-04-07</td>\n",
              "      <td>BlueMobile</td>\n",
              "      <td>True</td>\n",
              "    </tr>\n",
              "  </tbody>\n",
              "</table>\n",
              "<p>413 rows × 8 columns</p>\n",
              "</div>\n",
              "    <div class=\"colab-df-buttons\">\n",
              "\n",
              "  <div class=\"colab-df-container\">\n",
              "    <button class=\"colab-df-convert\" onclick=\"convertToInteractive('df-ff066564-5b4f-4db5-b13d-f7bb7e2ffb2d')\"\n",
              "            title=\"Convert this dataframe to an interactive table.\"\n",
              "            style=\"display:none;\">\n",
              "\n",
              "  <svg xmlns=\"http://www.w3.org/2000/svg\" height=\"24px\" viewBox=\"0 -960 960 960\">\n",
              "    <path d=\"M120-120v-720h720v720H120Zm60-500h600v-160H180v160Zm220 220h160v-160H400v160Zm0 220h160v-160H400v160ZM180-400h160v-160H180v160Zm440 0h160v-160H620v160ZM180-180h160v-160H180v160Zm440 0h160v-160H620v160Z\"/>\n",
              "  </svg>\n",
              "    </button>\n",
              "\n",
              "  <style>\n",
              "    .colab-df-container {\n",
              "      display:flex;\n",
              "      gap: 12px;\n",
              "    }\n",
              "\n",
              "    .colab-df-convert {\n",
              "      background-color: #E8F0FE;\n",
              "      border: none;\n",
              "      border-radius: 50%;\n",
              "      cursor: pointer;\n",
              "      display: none;\n",
              "      fill: #1967D2;\n",
              "      height: 32px;\n",
              "      padding: 0 0 0 0;\n",
              "      width: 32px;\n",
              "    }\n",
              "\n",
              "    .colab-df-convert:hover {\n",
              "      background-color: #E2EBFA;\n",
              "      box-shadow: 0px 1px 2px rgba(60, 64, 67, 0.3), 0px 1px 3px 1px rgba(60, 64, 67, 0.15);\n",
              "      fill: #174EA6;\n",
              "    }\n",
              "\n",
              "    .colab-df-buttons div {\n",
              "      margin-bottom: 4px;\n",
              "    }\n",
              "\n",
              "    [theme=dark] .colab-df-convert {\n",
              "      background-color: #3B4455;\n",
              "      fill: #D2E3FC;\n",
              "    }\n",
              "\n",
              "    [theme=dark] .colab-df-convert:hover {\n",
              "      background-color: #434B5C;\n",
              "      box-shadow: 0px 1px 3px 1px rgba(0, 0, 0, 0.15);\n",
              "      filter: drop-shadow(0px 1px 2px rgba(0, 0, 0, 0.3));\n",
              "      fill: #FFFFFF;\n",
              "    }\n",
              "  </style>\n",
              "\n",
              "    <script>\n",
              "      const buttonEl =\n",
              "        document.querySelector('#df-ff066564-5b4f-4db5-b13d-f7bb7e2ffb2d button.colab-df-convert');\n",
              "      buttonEl.style.display =\n",
              "        google.colab.kernel.accessAllowed ? 'block' : 'none';\n",
              "\n",
              "      async function convertToInteractive(key) {\n",
              "        const element = document.querySelector('#df-ff066564-5b4f-4db5-b13d-f7bb7e2ffb2d');\n",
              "        const dataTable =\n",
              "          await google.colab.kernel.invokeFunction('convertToInteractive',\n",
              "                                                    [key], {});\n",
              "        if (!dataTable) return;\n",
              "\n",
              "        const docLinkHtml = 'Like what you see? Visit the ' +\n",
              "          '<a target=\"_blank\" href=https://colab.research.google.com/notebooks/data_table.ipynb>data table notebook</a>'\n",
              "          + ' to learn more about interactive tables.';\n",
              "        element.innerHTML = '';\n",
              "        dataTable['output_type'] = 'display_data';\n",
              "        await google.colab.output.renderOutput(dataTable, element);\n",
              "        const docLink = document.createElement('div');\n",
              "        docLink.innerHTML = docLinkHtml;\n",
              "        element.appendChild(docLink);\n",
              "      }\n",
              "    </script>\n",
              "  </div>\n",
              "\n",
              "\n",
              "    <div id=\"df-3b186c66-fe54-469e-93b6-ab6559b42d46\">\n",
              "      <button class=\"colab-df-quickchart\" onclick=\"quickchart('df-3b186c66-fe54-469e-93b6-ab6559b42d46')\"\n",
              "                title=\"Suggest charts\"\n",
              "                style=\"display:none;\">\n",
              "\n",
              "<svg xmlns=\"http://www.w3.org/2000/svg\" height=\"24px\"viewBox=\"0 0 24 24\"\n",
              "     width=\"24px\">\n",
              "    <g>\n",
              "        <path d=\"M19 3H5c-1.1 0-2 .9-2 2v14c0 1.1.9 2 2 2h14c1.1 0 2-.9 2-2V5c0-1.1-.9-2-2-2zM9 17H7v-7h2v7zm4 0h-2V7h2v10zm4 0h-2v-4h2v4z\"/>\n",
              "    </g>\n",
              "</svg>\n",
              "      </button>\n",
              "\n",
              "<style>\n",
              "  .colab-df-quickchart {\n",
              "      --bg-color: #E8F0FE;\n",
              "      --fill-color: #1967D2;\n",
              "      --hover-bg-color: #E2EBFA;\n",
              "      --hover-fill-color: #174EA6;\n",
              "      --disabled-fill-color: #AAA;\n",
              "      --disabled-bg-color: #DDD;\n",
              "  }\n",
              "\n",
              "  [theme=dark] .colab-df-quickchart {\n",
              "      --bg-color: #3B4455;\n",
              "      --fill-color: #D2E3FC;\n",
              "      --hover-bg-color: #434B5C;\n",
              "      --hover-fill-color: #FFFFFF;\n",
              "      --disabled-bg-color: #3B4455;\n",
              "      --disabled-fill-color: #666;\n",
              "  }\n",
              "\n",
              "  .colab-df-quickchart {\n",
              "    background-color: var(--bg-color);\n",
              "    border: none;\n",
              "    border-radius: 50%;\n",
              "    cursor: pointer;\n",
              "    display: none;\n",
              "    fill: var(--fill-color);\n",
              "    height: 32px;\n",
              "    padding: 0;\n",
              "    width: 32px;\n",
              "  }\n",
              "\n",
              "  .colab-df-quickchart:hover {\n",
              "    background-color: var(--hover-bg-color);\n",
              "    box-shadow: 0 1px 2px rgba(60, 64, 67, 0.3), 0 1px 3px 1px rgba(60, 64, 67, 0.15);\n",
              "    fill: var(--button-hover-fill-color);\n",
              "  }\n",
              "\n",
              "  .colab-df-quickchart-complete:disabled,\n",
              "  .colab-df-quickchart-complete:disabled:hover {\n",
              "    background-color: var(--disabled-bg-color);\n",
              "    fill: var(--disabled-fill-color);\n",
              "    box-shadow: none;\n",
              "  }\n",
              "\n",
              "  .colab-df-spinner {\n",
              "    border: 2px solid var(--fill-color);\n",
              "    border-color: transparent;\n",
              "    border-bottom-color: var(--fill-color);\n",
              "    animation:\n",
              "      spin 1s steps(1) infinite;\n",
              "  }\n",
              "\n",
              "  @keyframes spin {\n",
              "    0% {\n",
              "      border-color: transparent;\n",
              "      border-bottom-color: var(--fill-color);\n",
              "      border-left-color: var(--fill-color);\n",
              "    }\n",
              "    20% {\n",
              "      border-color: transparent;\n",
              "      border-left-color: var(--fill-color);\n",
              "      border-top-color: var(--fill-color);\n",
              "    }\n",
              "    30% {\n",
              "      border-color: transparent;\n",
              "      border-left-color: var(--fill-color);\n",
              "      border-top-color: var(--fill-color);\n",
              "      border-right-color: var(--fill-color);\n",
              "    }\n",
              "    40% {\n",
              "      border-color: transparent;\n",
              "      border-right-color: var(--fill-color);\n",
              "      border-top-color: var(--fill-color);\n",
              "    }\n",
              "    60% {\n",
              "      border-color: transparent;\n",
              "      border-right-color: var(--fill-color);\n",
              "    }\n",
              "    80% {\n",
              "      border-color: transparent;\n",
              "      border-right-color: var(--fill-color);\n",
              "      border-bottom-color: var(--fill-color);\n",
              "    }\n",
              "    90% {\n",
              "      border-color: transparent;\n",
              "      border-bottom-color: var(--fill-color);\n",
              "    }\n",
              "  }\n",
              "</style>\n",
              "\n",
              "      <script>\n",
              "        async function quickchart(key) {\n",
              "          const quickchartButtonEl =\n",
              "            document.querySelector('#' + key + ' button');\n",
              "          quickchartButtonEl.disabled = true;  // To prevent multiple clicks.\n",
              "          quickchartButtonEl.classList.add('colab-df-spinner');\n",
              "          try {\n",
              "            const charts = await google.colab.kernel.invokeFunction(\n",
              "                'suggestCharts', [key], {});\n",
              "          } catch (error) {\n",
              "            console.error('Error during call to suggestCharts:', error);\n",
              "          }\n",
              "          quickchartButtonEl.classList.remove('colab-df-spinner');\n",
              "          quickchartButtonEl.classList.add('colab-df-quickchart-complete');\n",
              "        }\n",
              "        (() => {\n",
              "          let quickchartButtonEl =\n",
              "            document.querySelector('#df-3b186c66-fe54-469e-93b6-ab6559b42d46 button');\n",
              "          quickchartButtonEl.style.display =\n",
              "            google.colab.kernel.accessAllowed ? 'block' : 'none';\n",
              "        })();\n",
              "      </script>\n",
              "    </div>\n",
              "\n",
              "  <div id=\"id_1ad4f9fc-4bcb-4a50-8e33-a9da67312c8a\">\n",
              "    <style>\n",
              "      .colab-df-generate {\n",
              "        background-color: #E8F0FE;\n",
              "        border: none;\n",
              "        border-radius: 50%;\n",
              "        cursor: pointer;\n",
              "        display: none;\n",
              "        fill: #1967D2;\n",
              "        height: 32px;\n",
              "        padding: 0 0 0 0;\n",
              "        width: 32px;\n",
              "      }\n",
              "\n",
              "      .colab-df-generate:hover {\n",
              "        background-color: #E2EBFA;\n",
              "        box-shadow: 0px 1px 2px rgba(60, 64, 67, 0.3), 0px 1px 3px 1px rgba(60, 64, 67, 0.15);\n",
              "        fill: #174EA6;\n",
              "      }\n",
              "\n",
              "      [theme=dark] .colab-df-generate {\n",
              "        background-color: #3B4455;\n",
              "        fill: #D2E3FC;\n",
              "      }\n",
              "\n",
              "      [theme=dark] .colab-df-generate:hover {\n",
              "        background-color: #434B5C;\n",
              "        box-shadow: 0px 1px 3px 1px rgba(0, 0, 0, 0.15);\n",
              "        filter: drop-shadow(0px 1px 2px rgba(0, 0, 0, 0.3));\n",
              "        fill: #FFFFFF;\n",
              "      }\n",
              "    </style>\n",
              "    <button class=\"colab-df-generate\" onclick=\"generateWithVariable('subscribers_all')\"\n",
              "            title=\"Generate code using this dataframe.\"\n",
              "            style=\"display:none;\">\n",
              "\n",
              "  <svg xmlns=\"http://www.w3.org/2000/svg\" height=\"24px\"viewBox=\"0 0 24 24\"\n",
              "       width=\"24px\">\n",
              "    <path d=\"M7,19H8.4L18.45,9,17,7.55,7,17.6ZM5,21V16.75L18.45,3.32a2,2,0,0,1,2.83,0l1.4,1.43a1.91,1.91,0,0,1,.58,1.4,1.91,1.91,0,0,1-.58,1.4L9.25,21ZM18.45,9,17,7.55Zm-12,3A5.31,5.31,0,0,0,4.9,8.1,5.31,5.31,0,0,0,1,6.5,5.31,5.31,0,0,0,4.9,4.9,5.31,5.31,0,0,0,6.5,1,5.31,5.31,0,0,0,8.1,4.9,5.31,5.31,0,0,0,12,6.5,5.46,5.46,0,0,0,6.5,12Z\"/>\n",
              "  </svg>\n",
              "    </button>\n",
              "    <script>\n",
              "      (() => {\n",
              "      const buttonEl =\n",
              "        document.querySelector('#id_1ad4f9fc-4bcb-4a50-8e33-a9da67312c8a button.colab-df-generate');\n",
              "      buttonEl.style.display =\n",
              "        google.colab.kernel.accessAllowed ? 'block' : 'none';\n",
              "\n",
              "      buttonEl.onclick = () => {\n",
              "        google.colab.notebook.generateWithVariable('subscribers_all');\n",
              "      }\n",
              "      })();\n",
              "    </script>\n",
              "  </div>\n",
              "\n",
              "    </div>\n",
              "  </div>\n"
            ],
            "application/vnd.google.colaboratory.intrinsic+json": {
              "type": "dataframe",
              "variable_name": "subscribers_all",
              "summary": "{\n  \"name\": \"subscribers_all\",\n  \"rows\": 413,\n  \"fields\": [\n    {\n      \"column\": \"region\",\n      \"properties\": {\n        \"dtype\": \"category\",\n        \"num_unique_values\": 36,\n        \"samples\": [\n          \"Botshabelo\",\n          \"Kimberley\",\n          \"Springs\"\n        ],\n        \"semantic_type\": \"\",\n        \"description\": \"\"\n      }\n    },\n    {\n      \"column\": \"cell_number\",\n      \"properties\": {\n        \"dtype\": \"number\",\n        \"std\": 13327509100,\n        \"min\": 700408017,\n        \"max\": 27799933613,\n        \"num_unique_values\": 401,\n        \"samples\": [\n          724493478,\n          722330476,\n          27732045020\n        ],\n        \"semantic_type\": \"\",\n        \"description\": \"\"\n      }\n    },\n    {\n      \"column\": \"sim_activation_date\",\n      \"properties\": {\n        \"dtype\": \"date\",\n        \"min\": \"2023-07-16 00:00:00\",\n        \"max\": \"2025-06-13 00:00:00\",\n        \"num_unique_values\": 280,\n        \"samples\": [\n          \"2024-03-27 00:00:00\",\n          \"2025-02-07 00:00:00\",\n          \"2024-01-02 00:00:00\"\n        ],\n        \"semantic_type\": \"\",\n        \"description\": \"\"\n      }\n    },\n    {\n      \"column\": \"first_name\",\n      \"properties\": {\n        \"dtype\": \"string\",\n        \"num_unique_values\": 228,\n        \"samples\": [\n          \"Kart\",\n          \"Amahle\",\n          \"David\"\n        ],\n        \"semantic_type\": \"\",\n        \"description\": \"\"\n      }\n    },\n    {\n      \"column\": \"last_name\",\n      \"properties\": {\n        \"dtype\": \"string\",\n        \"num_unique_values\": 300,\n        \"samples\": [\n          \"Thumbela\",\n          \"Mchunu\",\n          \"Ndabansele\"\n        ],\n        \"semantic_type\": \"\",\n        \"description\": \"\"\n      }\n    },\n    {\n      \"column\": \"dob\",\n      \"properties\": {\n        \"dtype\": \"date\",\n        \"min\": \"1940-01-30 00:00:00\",\n        \"max\": \"2007-05-18 00:00:00\",\n        \"num_unique_values\": 232,\n        \"samples\": [\n          \"1943-02-01 00:00:00\",\n          \"1943-09-19 00:00:00\",\n          \"1944-12-14 00:00:00\"\n        ],\n        \"semantic_type\": \"\",\n        \"description\": \"\"\n      }\n    },\n    {\n      \"column\": \"source_system\",\n      \"properties\": {\n        \"dtype\": \"category\",\n        \"num_unique_values\": 3,\n        \"samples\": [\n          \"VMobile\",\n          \"ArrowMobile\",\n          \"BlueMobile\"\n        ],\n        \"semantic_type\": \"\",\n        \"description\": \"\"\n      }\n    },\n    {\n      \"column\": \"is_master\",\n      \"properties\": {\n        \"dtype\": \"boolean\",\n        \"num_unique_values\": 1,\n        \"samples\": [\n          true\n        ],\n        \"semantic_type\": \"\",\n        \"description\": \"\"\n      }\n    }\n  ]\n}"
            }
          },
          "metadata": {},
          "execution_count": 119
        }
      ]
    },
    {
      "cell_type": "code",
      "source": [
        "print(city_lookup)"
      ],
      "metadata": {
        "colab": {
          "base_uri": "https://localhost:8080/"
        },
        "id": "ynC6IFNy3Scy",
        "outputId": "ee463d99-0d15-4d68-b5f9-489adbeed9a3"
      },
      "execution_count": 120,
      "outputs": [
        {
          "output_type": "stream",
          "name": "stdout",
          "text": [
            "    CITY_ID  PROVINCE_NAME         CITY_NAME ALTERNATIVE_CITY_NAME  \\\n",
            "0         1   Eastern Cape       East London                   NaN   \n",
            "1         2   Eastern Cape    Port Elizabeth              Gqeberha   \n",
            "2         3   Eastern Cape         Uitenhage               Kariega   \n",
            "3         4     Free State      Bloemfontein              Mangaung   \n",
            "4         5     Free State        Botshabelo                   NaN   \n",
            "5         6     Free State         Sasolburg                   NaN   \n",
            "6         7     Free State            Welkom                   NaN   \n",
            "7         8        Gauteng            Benoni                   NaN   \n",
            "8         9        Gauteng          Boksburg                   NaN   \n",
            "9        10        Gauteng        Ekurhuleni             East Rand   \n",
            "10       11        Gauteng      Johannesburg                 Egoli   \n",
            "11       12        Gauteng       Krugersdorp                   NaN   \n",
            "12       13        Gauteng           Midrand                   NaN   \n",
            "13       14        Gauteng          Pretoria               Tshwane   \n",
            "14       15        Gauteng        Soshanguve                   NaN   \n",
            "15       16        Gauteng           Springs                   NaN   \n",
            "16       17        Gauteng       Vereeniging                   NaN   \n",
            "17       18        Gauteng         West Rand                   NaN   \n",
            "18       19  KwaZulu-Natal            Durban             eThekwini   \n",
            "19       20  KwaZulu-Natal         Newcastle                   NaN   \n",
            "20       21  KwaZulu-Natal  Pietermaritzburg                   NaN   \n",
            "21       22  KwaZulu-Natal      Richards Bay                   NaN   \n",
            "22       23        Limpopo         Polokwane           Pietersburg   \n",
            "23       24        Limpopo       Thohoyandou                   NaN   \n",
            "24       25     Mpumalanga        Middelburg                   NaN   \n",
            "25       26     Mpumalanga         Nelspruit              Mbombela   \n",
            "26       27     Mpumalanga           Witbank            Emalahleni   \n",
            "27       28     North West        Klerksdorp                   NaN   \n",
            "28       29     North West     Potchefstroom                   NaN   \n",
            "29       30     North West        Rustenburg                   NaN   \n",
            "30       31  Northern Cape         Kimberley                   NaN   \n",
            "31       32  Northern Cape          Upington                   NaN   \n",
            "32       33   Western Cape         Cape Town              Kaapstad   \n",
            "33       34   Western Cape            George                   NaN   \n",
            "34       35   Western Cape             Paarl                   NaN   \n",
            "\n",
            "   CITY_LATITUDE CITY_LONGITUDE CITY_POPULATION  \n",
            "0      -32,98084       27,90841        756 507   \n",
            "1      -33,96083       25,60217      1 330 500   \n",
            "2      -33,76606       25,38848        198 800   \n",
            "3      -29,12499       26,21998        618 817   \n",
            "4      -29,23688       26,73047        185 900   \n",
            "5      -27,76672       26,79769        114 000   \n",
            "6      -27,97445       26,73149        431 944   \n",
            "7      -26,15688       28,31894        487 700   \n",
            "8      -26,24841       28,24638        348 100   \n",
            "9      -26,14211       28,30644      4 262 130   \n",
            "10     -26,19525       28,03409      6 444 580   \n",
            "11     -26,08715       27,77234        272 400   \n",
            "12     -26,04756       28,09721        168 700   \n",
            "13     -25,74787       28,22927      2 955 410   \n",
            "14     -25,98382       28,22012        919 748   \n",
            "15     -26,26392       28,44182        214 600   \n",
            "16     -26,67484       27,93692        812 913   \n",
            "17     -26,71464       27,78987        961 625   \n",
            "18     -29,85868       31,02184      3 301 090   \n",
            "19     -27,74966       29,92786        309 400   \n",
            "20     -29,61668       30,39277        560 879   \n",
            "21     -28,77424       32,07143         58 400   \n",
            "22     -23,90335       29,45081        506 990   \n",
            "23     -22,94615       30,48443         69 000   \n",
            "24     -25,76535       29,47126        123 700   \n",
            "25     -25,46972       30,98034        112 400   \n",
            "26     -25,87117       29,23594        523 611   \n",
            "27     -26,86783       26,66702        161 000   \n",
            "28     -26,71504       27,10275        122 100   \n",
            "29     -25,66137       27,24385        607 955   \n",
            "30     -28,72849       24,77003        166 100   \n",
            "31     -28,45561       21,25649         74 600   \n",
            "32     -33,92584       18,42322      5 063 580   \n",
            "33     -33,96464       22,45519        116 300   \n",
            "34     -33,73031       18,97025        173 400   \n"
          ]
        }
      ]
    },
    {
      "cell_type": "code",
      "source": [
        "print(city_lookup.columns)"
      ],
      "metadata": {
        "colab": {
          "base_uri": "https://localhost:8080/"
        },
        "id": "8xCbw-vi4upS",
        "outputId": "4c7bf0a7-e50b-48bd-b7a2-d6b0e00e8ee0"
      },
      "execution_count": 121,
      "outputs": [
        {
          "output_type": "stream",
          "name": "stdout",
          "text": [
            "Index(['CITY_ID', 'PROVINCE_NAME', 'CITY_NAME', 'ALTERNATIVE_CITY_NAME',\n",
            "       'CITY_LATITUDE', 'CITY_LONGITUDE', 'CITY_POPULATION'],\n",
            "      dtype='object')\n"
          ]
        }
      ]
    },
    {
      "cell_type": "code",
      "source": [
        "print(subscribers_all.columns)"
      ],
      "metadata": {
        "colab": {
          "base_uri": "https://localhost:8080/"
        },
        "id": "CGLfqyBA5pWg",
        "outputId": "92273b60-5fdd-47d7-b3ba-6ea477c83b74"
      },
      "execution_count": 122,
      "outputs": [
        {
          "output_type": "stream",
          "name": "stdout",
          "text": [
            "Index(['region', 'cell_number', 'sim_activation_date', 'first_name',\n",
            "       'last_name', 'dob', 'source_system', 'is_master'],\n",
            "      dtype='object')\n"
          ]
        }
      ]
    },
    {
      "cell_type": "code",
      "source": [
        "# Step 1: Merge subscribers with city_lookup\n",
        "\n",
        "#subscribers_all = subscribers_all.merge(city_lookup, on=\"CITY_ID\", how=\"left\")"
      ],
      "metadata": {
        "colab": {
          "base_uri": "https://localhost:8080/",
          "height": 321
        },
        "id": "Ed9i2JSj7e45",
        "outputId": "459ee88a-d0bf-4974-b86b-6fcb3b293450"
      },
      "execution_count": 143,
      "outputs": [
        {
          "output_type": "error",
          "ename": "KeyError",
          "evalue": "'CITY_ID'",
          "traceback": [
            "\u001b[0;31m---------------------------------------------------------------------------\u001b[0m",
            "\u001b[0;31mKeyError\u001b[0m                                  Traceback (most recent call last)",
            "\u001b[0;32m/tmp/ipython-input-701537613.py\u001b[0m in \u001b[0;36m<cell line: 0>\u001b[0;34m()\u001b[0m\n\u001b[1;32m      1\u001b[0m \u001b[0;31m# Step 1: Merge subscribers with city_lookup\u001b[0m\u001b[0;34m\u001b[0m\u001b[0;34m\u001b[0m\u001b[0m\n\u001b[1;32m      2\u001b[0m \u001b[0;34m\u001b[0m\u001b[0m\n\u001b[0;32m----> 3\u001b[0;31m \u001b[0msubscribers_all\u001b[0m \u001b[0;34m=\u001b[0m \u001b[0msubscribers_all\u001b[0m\u001b[0;34m.\u001b[0m\u001b[0mmerge\u001b[0m\u001b[0;34m(\u001b[0m\u001b[0mcity_lookup\u001b[0m\u001b[0;34m,\u001b[0m \u001b[0mon\u001b[0m\u001b[0;34m=\u001b[0m\u001b[0;34m\"CITY_ID\"\u001b[0m\u001b[0;34m,\u001b[0m \u001b[0mhow\u001b[0m\u001b[0;34m=\u001b[0m\u001b[0;34m\"left\"\u001b[0m\u001b[0;34m)\u001b[0m\u001b[0;34m\u001b[0m\u001b[0;34m\u001b[0m\u001b[0m\n\u001b[0m",
            "\u001b[0;32m/usr/local/lib/python3.12/dist-packages/pandas/core/frame.py\u001b[0m in \u001b[0;36mmerge\u001b[0;34m(self, right, how, on, left_on, right_on, left_index, right_index, sort, suffixes, copy, indicator, validate)\u001b[0m\n\u001b[1;32m  10830\u001b[0m         \u001b[0;32mfrom\u001b[0m \u001b[0mpandas\u001b[0m\u001b[0;34m.\u001b[0m\u001b[0mcore\u001b[0m\u001b[0;34m.\u001b[0m\u001b[0mreshape\u001b[0m\u001b[0;34m.\u001b[0m\u001b[0mmerge\u001b[0m \u001b[0;32mimport\u001b[0m \u001b[0mmerge\u001b[0m\u001b[0;34m\u001b[0m\u001b[0;34m\u001b[0m\u001b[0m\n\u001b[1;32m  10831\u001b[0m \u001b[0;34m\u001b[0m\u001b[0m\n\u001b[0;32m> 10832\u001b[0;31m         return merge(\n\u001b[0m\u001b[1;32m  10833\u001b[0m             \u001b[0mself\u001b[0m\u001b[0;34m,\u001b[0m\u001b[0;34m\u001b[0m\u001b[0;34m\u001b[0m\u001b[0m\n\u001b[1;32m  10834\u001b[0m             \u001b[0mright\u001b[0m\u001b[0;34m,\u001b[0m\u001b[0;34m\u001b[0m\u001b[0;34m\u001b[0m\u001b[0m\n",
            "\u001b[0;32m/usr/local/lib/python3.12/dist-packages/pandas/core/reshape/merge.py\u001b[0m in \u001b[0;36mmerge\u001b[0;34m(left, right, how, on, left_on, right_on, left_index, right_index, sort, suffixes, copy, indicator, validate)\u001b[0m\n\u001b[1;32m    168\u001b[0m         )\n\u001b[1;32m    169\u001b[0m     \u001b[0;32melse\u001b[0m\u001b[0;34m:\u001b[0m\u001b[0;34m\u001b[0m\u001b[0;34m\u001b[0m\u001b[0m\n\u001b[0;32m--> 170\u001b[0;31m         op = _MergeOperation(\n\u001b[0m\u001b[1;32m    171\u001b[0m             \u001b[0mleft_df\u001b[0m\u001b[0;34m,\u001b[0m\u001b[0;34m\u001b[0m\u001b[0;34m\u001b[0m\u001b[0m\n\u001b[1;32m    172\u001b[0m             \u001b[0mright_df\u001b[0m\u001b[0;34m,\u001b[0m\u001b[0;34m\u001b[0m\u001b[0;34m\u001b[0m\u001b[0m\n",
            "\u001b[0;32m/usr/local/lib/python3.12/dist-packages/pandas/core/reshape/merge.py\u001b[0m in \u001b[0;36m__init__\u001b[0;34m(self, left, right, how, on, left_on, right_on, left_index, right_index, sort, suffixes, indicator, validate)\u001b[0m\n\u001b[1;32m    792\u001b[0m             \u001b[0mleft_drop\u001b[0m\u001b[0;34m,\u001b[0m\u001b[0;34m\u001b[0m\u001b[0;34m\u001b[0m\u001b[0m\n\u001b[1;32m    793\u001b[0m             \u001b[0mright_drop\u001b[0m\u001b[0;34m,\u001b[0m\u001b[0;34m\u001b[0m\u001b[0;34m\u001b[0m\u001b[0m\n\u001b[0;32m--> 794\u001b[0;31m         ) = self._get_merge_keys()\n\u001b[0m\u001b[1;32m    795\u001b[0m \u001b[0;34m\u001b[0m\u001b[0m\n\u001b[1;32m    796\u001b[0m         \u001b[0;32mif\u001b[0m \u001b[0mleft_drop\u001b[0m\u001b[0;34m:\u001b[0m\u001b[0;34m\u001b[0m\u001b[0;34m\u001b[0m\u001b[0m\n",
            "\u001b[0;32m/usr/local/lib/python3.12/dist-packages/pandas/core/reshape/merge.py\u001b[0m in \u001b[0;36m_get_merge_keys\u001b[0;34m(self)\u001b[0m\n\u001b[1;32m   1308\u001b[0m                         \u001b[0;31m#  the latter of which will raise\u001b[0m\u001b[0;34m\u001b[0m\u001b[0;34m\u001b[0m\u001b[0m\n\u001b[1;32m   1309\u001b[0m                         \u001b[0mlk\u001b[0m \u001b[0;34m=\u001b[0m \u001b[0mcast\u001b[0m\u001b[0;34m(\u001b[0m\u001b[0mHashable\u001b[0m\u001b[0;34m,\u001b[0m \u001b[0mlk\u001b[0m\u001b[0;34m)\u001b[0m\u001b[0;34m\u001b[0m\u001b[0;34m\u001b[0m\u001b[0m\n\u001b[0;32m-> 1310\u001b[0;31m                         \u001b[0mleft_keys\u001b[0m\u001b[0;34m.\u001b[0m\u001b[0mappend\u001b[0m\u001b[0;34m(\u001b[0m\u001b[0mleft\u001b[0m\u001b[0;34m.\u001b[0m\u001b[0m_get_label_or_level_values\u001b[0m\u001b[0;34m(\u001b[0m\u001b[0mlk\u001b[0m\u001b[0;34m)\u001b[0m\u001b[0;34m)\u001b[0m\u001b[0;34m\u001b[0m\u001b[0;34m\u001b[0m\u001b[0m\n\u001b[0m\u001b[1;32m   1311\u001b[0m                         \u001b[0mjoin_names\u001b[0m\u001b[0;34m.\u001b[0m\u001b[0mappend\u001b[0m\u001b[0;34m(\u001b[0m\u001b[0mlk\u001b[0m\u001b[0;34m)\u001b[0m\u001b[0;34m\u001b[0m\u001b[0;34m\u001b[0m\u001b[0m\n\u001b[1;32m   1312\u001b[0m                     \u001b[0;32melse\u001b[0m\u001b[0;34m:\u001b[0m\u001b[0;34m\u001b[0m\u001b[0;34m\u001b[0m\u001b[0m\n",
            "\u001b[0;32m/usr/local/lib/python3.12/dist-packages/pandas/core/generic.py\u001b[0m in \u001b[0;36m_get_label_or_level_values\u001b[0;34m(self, key, axis)\u001b[0m\n\u001b[1;32m   1909\u001b[0m             \u001b[0mvalues\u001b[0m \u001b[0;34m=\u001b[0m \u001b[0mself\u001b[0m\u001b[0;34m.\u001b[0m\u001b[0maxes\u001b[0m\u001b[0;34m[\u001b[0m\u001b[0maxis\u001b[0m\u001b[0;34m]\u001b[0m\u001b[0;34m.\u001b[0m\u001b[0mget_level_values\u001b[0m\u001b[0;34m(\u001b[0m\u001b[0mkey\u001b[0m\u001b[0;34m)\u001b[0m\u001b[0;34m.\u001b[0m\u001b[0m_values\u001b[0m\u001b[0;34m\u001b[0m\u001b[0;34m\u001b[0m\u001b[0m\n\u001b[1;32m   1910\u001b[0m         \u001b[0;32melse\u001b[0m\u001b[0;34m:\u001b[0m\u001b[0;34m\u001b[0m\u001b[0;34m\u001b[0m\u001b[0m\n\u001b[0;32m-> 1911\u001b[0;31m             \u001b[0;32mraise\u001b[0m \u001b[0mKeyError\u001b[0m\u001b[0;34m(\u001b[0m\u001b[0mkey\u001b[0m\u001b[0;34m)\u001b[0m\u001b[0;34m\u001b[0m\u001b[0;34m\u001b[0m\u001b[0m\n\u001b[0m\u001b[1;32m   1912\u001b[0m \u001b[0;34m\u001b[0m\u001b[0m\n\u001b[1;32m   1913\u001b[0m         \u001b[0;31m# Check for duplicates\u001b[0m\u001b[0;34m\u001b[0m\u001b[0;34m\u001b[0m\u001b[0m\n",
            "\u001b[0;31mKeyError\u001b[0m: 'CITY_ID'"
          ]
        }
      ]
    },
    {
      "cell_type": "code",
      "source": [
        " #Step 1: Merge subscribers with city_lookup\n",
        "\n",
        "subscribers_all = subscribers_all.merge(\n",
        "    city_lookup[[\"CITY_NAME\", \"PROVINCE_NAME\"]],\n",
        "    left_on=\"region\",     # your column\n",
        "    right_on=\"CITY_NAME\", # lookup column\n",
        "    how=\"left\"\n",
        ")"
      ],
      "metadata": {
        "id": "FtHeQDuAczWl"
      },
      "execution_count": 198,
      "outputs": []
    },
    {
      "cell_type": "code",
      "source": [
        "print(subscribers_all.columns)\n"
      ],
      "metadata": {
        "colab": {
          "base_uri": "https://localhost:8080/"
        },
        "id": "bK3Hvl8o8dpC",
        "outputId": "2cfad773-2097-4c73-bf70-1a1f2746b88a"
      },
      "execution_count": 199,
      "outputs": [
        {
          "output_type": "stream",
          "name": "stdout",
          "text": [
            "Index(['region', 'cell_number', 'sim_activation_date', 'first_name',\n",
            "       'last_name', 'dob', 'source_system', 'is_master', 'province',\n",
            "       'province', 'CITY_NAME', 'PROVINCE_NAME'],\n",
            "      dtype='object')\n"
          ]
        }
      ]
    },
    {
      "cell_type": "code",
      "source": [
        "# Step 2: Clean up extra columns\n",
        "if \"CITY_NAME\" in subscribers_all.columns:\n",
        "    subscribers_all = subscribers_all.drop(columns=[\"CITY_NAME\"])\n",
        "\n",
        "subscribers_all = subscribers_all.rename(columns={\"PROVINCE_NAME\": \"province\"})"
      ],
      "metadata": {
        "id": "IRekgvep88Lq"
      },
      "execution_count": 200,
      "outputs": []
    },
    {
      "cell_type": "code",
      "source": [
        "print(subscribers_all)"
      ],
      "metadata": {
        "colab": {
          "base_uri": "https://localhost:8080/"
        },
        "id": "EsjNXiEv9c_a",
        "outputId": "b789503d-72f7-4f92-ab42-e8dfc068be21"
      },
      "execution_count": 201,
      "outputs": [
        {
          "output_type": "stream",
          "name": "stdout",
          "text": [
            "             region  cell_number sim_activation_date  first_name last_name  \\\n",
            "0      Johannesburg  27701302724          2024-01-10    Sibonelo    Jiyane   \n",
            "1          Pretoria  27702088773          2024-11-15   Gugulethu   Dimbani   \n",
            "2         West Rand  27702970958          2025-04-16   Nokulunga   Mhlungu   \n",
            "3    Port Elizabeth  27703320064          2024-04-10      Owethu  Khanyile   \n",
            "4         Cape Town  27704131178          2024-09-22     Lindsay     Blair   \n",
            "..              ...          ...                 ...         ...       ...   \n",
            "408         Witbank    798062959          2023-10-08      Mandla       Yei   \n",
            "409           Egoli    798290960          2024-07-27    Veronica    Bowman   \n",
            "410    Johannesburg    798418621          2025-01-23    Simphiwe   Mbhense   \n",
            "411       East Rand    798844055          2024-10-26  Mthokozisi   Sishiya   \n",
            "412        Pretoria    799698904          2023-10-26        Jefy    Bright   \n",
            "\n",
            "           dob source_system  is_master      province      province  \\\n",
            "0   1965-05-31       VMobile       True       Gauteng       Gauteng   \n",
            "1   1976-11-17       VMobile       True       Gauteng       Gauteng   \n",
            "2   1977-03-11       VMobile       True       Gauteng       Gauteng   \n",
            "3   1997-07-11       VMobile       True  Eastern Cape  Eastern Cape   \n",
            "4   1976-01-31       VMobile       True  Western Cape  Western Cape   \n",
            "..         ...           ...        ...           ...           ...   \n",
            "408 1965-07-24    BlueMobile       True    Mpumalanga    Mpumalanga   \n",
            "409 1977-06-29    BlueMobile       True           NaN           NaN   \n",
            "410 1957-08-18    BlueMobile       True       Gauteng       Gauteng   \n",
            "411 1977-03-28    BlueMobile       True           NaN           NaN   \n",
            "412 1974-04-07    BlueMobile       True       Gauteng       Gauteng   \n",
            "\n",
            "         province  \n",
            "0         Gauteng  \n",
            "1         Gauteng  \n",
            "2         Gauteng  \n",
            "3    Eastern Cape  \n",
            "4    Western Cape  \n",
            "..            ...  \n",
            "408    Mpumalanga  \n",
            "409           NaN  \n",
            "410       Gauteng  \n",
            "411           NaN  \n",
            "412       Gauteng  \n",
            "\n",
            "[413 rows x 11 columns]\n"
          ]
        }
      ]
    },
    {
      "cell_type": "code",
      "source": [
        "print(VMobile_Usage_Records)"
      ],
      "metadata": {
        "colab": {
          "base_uri": "https://localhost:8080/"
        },
        "id": "EcQCyHMAJff3",
        "outputId": "dfb8756f-4174-4759-8d62-f40b489c16f8"
      },
      "execution_count": 202,
      "outputs": [
        {
          "output_type": "stream",
          "name": "stdout",
          "text": [
            "           MSISDN USAGE_EVENT_DATE_TIME  USAGE_EVENT_CITY_ID  \\\n",
            "0     27745858892   2025-07-18 10:53:00                   10   \n",
            "1     27759277187   2025-07-15 13:52:00                   10   \n",
            "2     27709798813   2025-07-16 13:54:00                    5   \n",
            "3     27702126483   2025-07-19 13:37:00                   35   \n",
            "4     27774160565   2025-07-14 16:34:00                   22   \n",
            "...           ...                   ...                  ...   \n",
            "5343  27797558478   2025-07-16 07:48:00                   11   \n",
            "5344  27774163254   2025-07-18 04:50:00                   35   \n",
            "5345  27770570082   2025-07-15 14:31:00                    8   \n",
            "5346  27738312041   2025-07-17 10:21:00                   10   \n",
            "5347  27734011187   2025-07-18 07:58:00                   12   \n",
            "\n",
            "      USAGE_EVENT_TYPE_ID  USAGE_EVENT_TRACKING_QUANTITY  \\\n",
            "0                       5                            257   \n",
            "1                       5                            241   \n",
            "2                       5                            240   \n",
            "3                       1                            201   \n",
            "4                       1                            169   \n",
            "...                   ...                            ...   \n",
            "5343                    8                             12   \n",
            "5344                    5                            128   \n",
            "5345                    1                            154   \n",
            "5346                    1                            146   \n",
            "5347                    1                             95   \n",
            "\n",
            "     USAGE_EVENT_TRACKING_UNIT  USAGE_EVENT_BILLING_QUANTITY  \\\n",
            "0                      seconds                           257   \n",
            "1                      seconds                           241   \n",
            "2                      seconds                           240   \n",
            "3                          MBs                           201   \n",
            "4                          MBs                           169   \n",
            "...                        ...                           ...   \n",
            "5343                   seconds                            12   \n",
            "5344                   seconds                           128   \n",
            "5345                       MBs                           154   \n",
            "5346                       MBs                           146   \n",
            "5347                       MBs                            95   \n",
            "\n",
            "     USAGE_EVENT_BILLING_UNIT  USAGE_EVENT_REVENUE  \\\n",
            "0                     seconds                 1028   \n",
            "1                     seconds                  723   \n",
            "2                     seconds                   96   \n",
            "3                         MBs                 1809   \n",
            "4                         MBs                 2028   \n",
            "...                       ...                  ...   \n",
            "5343                  seconds                   24   \n",
            "5344                  seconds                  256   \n",
            "5345                      MBs                 2618   \n",
            "5346                      MBs                 2482   \n",
            "5347                      MBs                   95   \n",
            "\n",
            "                  USAGE_EVENT_TYPE  \n",
            "0           on-net-call-per-second  \n",
            "1           on-net-call-per-second  \n",
            "2           on-net-call-per-second  \n",
            "3             data-usage-in-bundle  \n",
            "4             data-usage-in-bundle  \n",
            "...                            ...  \n",
            "5343  other-mobile-call-per-second  \n",
            "5344        on-net-call-per-second  \n",
            "5345          data-usage-in-bundle  \n",
            "5346          data-usage-in-bundle  \n",
            "5347          data-usage-in-bundle  \n",
            "\n",
            "[5348 rows x 10 columns]\n"
          ]
        }
      ]
    },
    {
      "cell_type": "code",
      "source": [
        "print(VMobile_Usage_Event_lookup.columns)"
      ],
      "metadata": {
        "colab": {
          "base_uri": "https://localhost:8080/"
        },
        "id": "8SNTFrGe-FNB",
        "outputId": "73a42b7b-e4bb-46c0-a3b6-179050c4a7b9"
      },
      "execution_count": 203,
      "outputs": [
        {
          "output_type": "stream",
          "name": "stdout",
          "text": [
            "Index(['USAGE_EVENT_TYPE_ID', 'USAGE_EVENT_TYPE'], dtype='object')\n"
          ]
        }
      ]
    },
    {
      "cell_type": "code",
      "source": [
        "print(VMobile_Usage_Records)"
      ],
      "metadata": {
        "colab": {
          "base_uri": "https://localhost:8080/"
        },
        "id": "4PnoaqzbCkDx",
        "outputId": "2f82bcf7-8489-40bc-e12f-e56724c8ebe3"
      },
      "execution_count": 204,
      "outputs": [
        {
          "output_type": "stream",
          "name": "stdout",
          "text": [
            "           MSISDN USAGE_EVENT_DATE_TIME  USAGE_EVENT_CITY_ID  \\\n",
            "0     27745858892   2025-07-18 10:53:00                   10   \n",
            "1     27759277187   2025-07-15 13:52:00                   10   \n",
            "2     27709798813   2025-07-16 13:54:00                    5   \n",
            "3     27702126483   2025-07-19 13:37:00                   35   \n",
            "4     27774160565   2025-07-14 16:34:00                   22   \n",
            "...           ...                   ...                  ...   \n",
            "5343  27797558478   2025-07-16 07:48:00                   11   \n",
            "5344  27774163254   2025-07-18 04:50:00                   35   \n",
            "5345  27770570082   2025-07-15 14:31:00                    8   \n",
            "5346  27738312041   2025-07-17 10:21:00                   10   \n",
            "5347  27734011187   2025-07-18 07:58:00                   12   \n",
            "\n",
            "      USAGE_EVENT_TYPE_ID  USAGE_EVENT_TRACKING_QUANTITY  \\\n",
            "0                       5                            257   \n",
            "1                       5                            241   \n",
            "2                       5                            240   \n",
            "3                       1                            201   \n",
            "4                       1                            169   \n",
            "...                   ...                            ...   \n",
            "5343                    8                             12   \n",
            "5344                    5                            128   \n",
            "5345                    1                            154   \n",
            "5346                    1                            146   \n",
            "5347                    1                             95   \n",
            "\n",
            "     USAGE_EVENT_TRACKING_UNIT  USAGE_EVENT_BILLING_QUANTITY  \\\n",
            "0                      seconds                           257   \n",
            "1                      seconds                           241   \n",
            "2                      seconds                           240   \n",
            "3                          MBs                           201   \n",
            "4                          MBs                           169   \n",
            "...                        ...                           ...   \n",
            "5343                   seconds                            12   \n",
            "5344                   seconds                           128   \n",
            "5345                       MBs                           154   \n",
            "5346                       MBs                           146   \n",
            "5347                       MBs                            95   \n",
            "\n",
            "     USAGE_EVENT_BILLING_UNIT  USAGE_EVENT_REVENUE  \\\n",
            "0                     seconds                 1028   \n",
            "1                     seconds                  723   \n",
            "2                     seconds                   96   \n",
            "3                         MBs                 1809   \n",
            "4                         MBs                 2028   \n",
            "...                       ...                  ...   \n",
            "5343                  seconds                   24   \n",
            "5344                  seconds                  256   \n",
            "5345                      MBs                 2618   \n",
            "5346                      MBs                 2482   \n",
            "5347                      MBs                   95   \n",
            "\n",
            "                  USAGE_EVENT_TYPE  \n",
            "0           on-net-call-per-second  \n",
            "1           on-net-call-per-second  \n",
            "2           on-net-call-per-second  \n",
            "3             data-usage-in-bundle  \n",
            "4             data-usage-in-bundle  \n",
            "...                            ...  \n",
            "5343  other-mobile-call-per-second  \n",
            "5344        on-net-call-per-second  \n",
            "5345          data-usage-in-bundle  \n",
            "5346          data-usage-in-bundle  \n",
            "5347          data-usage-in-bundle  \n",
            "\n",
            "[5348 rows x 10 columns]\n"
          ]
        }
      ]
    },
    {
      "cell_type": "code",
      "source": [
        "# Convert date column with day-first format\n",
        "VMobile_Usage_Records[\"USAGE_EVENT_DATE_TIME\"] = pd.to_datetime(\n",
        "    VMobile_Usage_Records[\"USAGE_EVENT_DATE_TIME\"],\n",
        "    dayfirst=True,\n",
        "    errors=\"coerce\"\n",
        ")\n",
        "\n",
        "# Merge with lookup\n",
        "VMobile_Usage_Records = VMobile_Usage_Records.merge(\n",
        "    VMobile_Usage_Event_lookup,\n",
        "    on=\"USAGE_EVENT_TYPE_ID\",\n",
        "    how=\"left\"\n",
        ")\n",
        "\n",
        "print(VMobile_Usage_Records.head())\n"
      ],
      "metadata": {
        "colab": {
          "base_uri": "https://localhost:8080/"
        },
        "id": "DDvGdmmgLmUD",
        "outputId": "fa2ea4d4-3375-4488-94a1-19f820f2b10d"
      },
      "execution_count": 151,
      "outputs": [
        {
          "output_type": "stream",
          "name": "stdout",
          "text": [
            "        MSISDN USAGE_EVENT_DATE_TIME  USAGE_EVENT_CITY_ID  \\\n",
            "0  27745858892   2025-07-18 10:53:00                   10   \n",
            "1  27759277187   2025-07-15 13:52:00                   10   \n",
            "2  27709798813   2025-07-16 13:54:00                    5   \n",
            "3  27702126483   2025-07-19 13:37:00                   35   \n",
            "4  27774160565   2025-07-14 16:34:00                   22   \n",
            "\n",
            "   USAGE_EVENT_TYPE_ID  USAGE_EVENT_TRACKING_QUANTITY  \\\n",
            "0                    5                            257   \n",
            "1                    5                            241   \n",
            "2                    5                            240   \n",
            "3                    1                            201   \n",
            "4                    1                            169   \n",
            "\n",
            "  USAGE_EVENT_TRACKING_UNIT  USAGE_EVENT_BILLING_QUANTITY  \\\n",
            "0                   seconds                           257   \n",
            "1                   seconds                           241   \n",
            "2                   seconds                           240   \n",
            "3                       MBs                           201   \n",
            "4                       MBs                           169   \n",
            "\n",
            "  USAGE_EVENT_BILLING_UNIT USAGE_EVENT_REVENUE        USAGE_EVENT_TYPE  \n",
            "0                  seconds               10,28  on-net-call-per-second  \n",
            "1                  seconds                7,23  on-net-call-per-second  \n",
            "2                  seconds                 9,6  on-net-call-per-second  \n",
            "3                      MBs               18,09    data-usage-in-bundle  \n",
            "4                      MBs               20,28    data-usage-in-bundle  \n"
          ]
        }
      ]
    },
    {
      "cell_type": "code",
      "source": [
        "print(VMobile_Usage_Records.columns)"
      ],
      "metadata": {
        "colab": {
          "base_uri": "https://localhost:8080/"
        },
        "id": "Gj173aFpSq1m",
        "outputId": "92b14f08-b889-42ec-952b-b55fe18576d0"
      },
      "execution_count": 205,
      "outputs": [
        {
          "output_type": "stream",
          "name": "stdout",
          "text": [
            "Index(['MSISDN', 'USAGE_EVENT_DATE_TIME', 'USAGE_EVENT_CITY_ID',\n",
            "       'USAGE_EVENT_TYPE_ID', 'USAGE_EVENT_TRACKING_QUANTITY',\n",
            "       'USAGE_EVENT_TRACKING_UNIT', 'USAGE_EVENT_BILLING_QUANTITY',\n",
            "       'USAGE_EVENT_BILLING_UNIT', 'USAGE_EVENT_REVENUE', 'USAGE_EVENT_TYPE'],\n",
            "      dtype='object')\n"
          ]
        }
      ]
    },
    {
      "cell_type": "code",
      "source": [
        "# Step 4: Aggregate per subscriber\n",
        "\n",
        "report = VMobile_Usage_Records.groupby(\"MSISDN\").agg(\n",
        "    total_revenue=(\"USAGE_EVENT_REVENUE\", \"sum\"),\n",
        "    sms_count=(\"USAGE_EVENT_TYPE\", lambda x: (x == \"SMS\").sum()),\n",
        "    voice_count=(\"USAGE_EVENT_TYPE\", lambda x: (x == \"VOICE\").sum()),\n",
        "    total_events=(\"USAGE_EVENT_TYPE\", \"count\")\n",
        ").reset_index()\n",
        "\n",
        "print(report.head())"
      ],
      "metadata": {
        "colab": {
          "base_uri": "https://localhost:8080/"
        },
        "id": "eUVlrlKqL3Ot",
        "outputId": "e7f1aa13-42e2-4282-f278-1259736249d8"
      },
      "execution_count": 206,
      "outputs": [
        {
          "output_type": "stream",
          "name": "stdout",
          "text": [
            "        MSISDN  total_revenue  sms_count  voice_count  total_events\n",
            "0  27700408017          27745          0            0            17\n",
            "1  27700498064          23758          0            0            16\n",
            "2  27700536653          10392          0            0            16\n",
            "3  27700594567           7305          0            0            14\n",
            "4  27701302724          15676          0            0            11\n"
          ]
        }
      ]
    },
    {
      "cell_type": "code",
      "source": [
        "# Ensure revenue is numeric\n",
        "VMobile_Usage_Records[\"USAGE_EVENT_REVENUE\"] = (\n",
        "    VMobile_Usage_Records[\"USAGE_EVENT_REVENUE\"]\n",
        "    .astype(str)               # make sure it's a string\n",
        "    .str.replace(\",\", \"\", regex=True)  # remove commas if they exist\n",
        ")\n",
        "\n",
        "VMobile_Usage_Records[\"USAGE_EVENT_REVENUE\"] = pd.to_numeric(\n",
        "    VMobile_Usage_Records[\"USAGE_EVENT_REVENUE\"],\n",
        "    errors=\"coerce\"            # invalid values -> NaN\n",
        ")\n"
      ],
      "metadata": {
        "id": "xaBg7YClWV0z"
      },
      "execution_count": 159,
      "outputs": []
    },
    {
      "cell_type": "code",
      "source": [
        "# STEP 5: Filter by Revenue ≥ 30\n",
        "\n",
        "report = report[report[\"total_revenue\"] >= 30]\n",
        "print(report)"
      ],
      "metadata": {
        "colab": {
          "base_uri": "https://localhost:8080/"
        },
        "id": "y4U0jF30Uvtp",
        "outputId": "5c0bd336-e5bb-4d9a-fd0c-8f6f9de66b99"
      },
      "execution_count": 166,
      "outputs": [
        {
          "output_type": "stream",
          "name": "stdout",
          "text": [
            "          MSISDN  total_revenue  sms_count  voice_count  total_events\n",
            "0    27700408017          27745          0            0            17\n",
            "1    27700498064          23758          0            0            16\n",
            "2    27700536653          10392          0            0            16\n",
            "3    27700594567           7305          0            0            14\n",
            "4    27701302724          15676          0            0            11\n",
            "..           ...            ...        ...          ...           ...\n",
            "354  27798562157          11203          0            0            11\n",
            "355  27798844055          16741          0            0            11\n",
            "356  27799314934          10894          0            0            13\n",
            "357  27799698904          10297          0            0            15\n",
            "358  27799933613          29014          0            0            14\n",
            "\n",
            "[359 rows x 5 columns]\n"
          ]
        }
      ]
    },
    {
      "cell_type": "code",
      "source": [
        "print(subscribers_all)"
      ],
      "metadata": {
        "colab": {
          "base_uri": "https://localhost:8080/"
        },
        "id": "M1iJWU6dYb-t",
        "outputId": "4b2a588e-19c1-4195-e53f-52ec16de97f3"
      },
      "execution_count": 207,
      "outputs": [
        {
          "output_type": "stream",
          "name": "stdout",
          "text": [
            "             region  cell_number sim_activation_date  first_name last_name  \\\n",
            "0      Johannesburg  27701302724          2024-01-10    Sibonelo    Jiyane   \n",
            "1          Pretoria  27702088773          2024-11-15   Gugulethu   Dimbani   \n",
            "2         West Rand  27702970958          2025-04-16   Nokulunga   Mhlungu   \n",
            "3    Port Elizabeth  27703320064          2024-04-10      Owethu  Khanyile   \n",
            "4         Cape Town  27704131178          2024-09-22     Lindsay     Blair   \n",
            "..              ...          ...                 ...         ...       ...   \n",
            "408         Witbank    798062959          2023-10-08      Mandla       Yei   \n",
            "409           Egoli    798290960          2024-07-27    Veronica    Bowman   \n",
            "410    Johannesburg    798418621          2025-01-23    Simphiwe   Mbhense   \n",
            "411       East Rand    798844055          2024-10-26  Mthokozisi   Sishiya   \n",
            "412        Pretoria    799698904          2023-10-26        Jefy    Bright   \n",
            "\n",
            "           dob source_system  is_master      province      province  \\\n",
            "0   1965-05-31       VMobile       True       Gauteng       Gauteng   \n",
            "1   1976-11-17       VMobile       True       Gauteng       Gauteng   \n",
            "2   1977-03-11       VMobile       True       Gauteng       Gauteng   \n",
            "3   1997-07-11       VMobile       True  Eastern Cape  Eastern Cape   \n",
            "4   1976-01-31       VMobile       True  Western Cape  Western Cape   \n",
            "..         ...           ...        ...           ...           ...   \n",
            "408 1965-07-24    BlueMobile       True    Mpumalanga    Mpumalanga   \n",
            "409 1977-06-29    BlueMobile       True           NaN           NaN   \n",
            "410 1957-08-18    BlueMobile       True       Gauteng       Gauteng   \n",
            "411 1977-03-28    BlueMobile       True           NaN           NaN   \n",
            "412 1974-04-07    BlueMobile       True       Gauteng       Gauteng   \n",
            "\n",
            "         province  \n",
            "0         Gauteng  \n",
            "1         Gauteng  \n",
            "2         Gauteng  \n",
            "3    Eastern Cape  \n",
            "4    Western Cape  \n",
            "..            ...  \n",
            "408    Mpumalanga  \n",
            "409           NaN  \n",
            "410       Gauteng  \n",
            "411           NaN  \n",
            "412       Gauteng  \n",
            "\n",
            "[413 rows x 11 columns]\n"
          ]
        }
      ]
    },
    {
      "cell_type": "code",
      "source": [
        "# STEP 6: Merge with Subscriber Master\n",
        "# -------------------------\n",
        "# Only keep master records\n",
        "#master_subs = subscribers_all[subscribers_all[\"is_master\"] == True]\n",
        "\n",
        "#final_report = report.merge(master_subs, on=\"MSISDN\", how=\"left\")"
      ],
      "metadata": {
        "colab": {
          "base_uri": "https://localhost:8080/",
          "height": 321
        },
        "id": "XDlYEstEXAVS",
        "outputId": "9d8d2702-5b95-4813-92d6-2ec6a1eac471"
      },
      "execution_count": 209,
      "outputs": [
        {
          "output_type": "error",
          "ename": "KeyError",
          "evalue": "'MSISDN'",
          "traceback": [
            "\u001b[0;31m---------------------------------------------------------------------------\u001b[0m",
            "\u001b[0;31mKeyError\u001b[0m                                  Traceback (most recent call last)",
            "\u001b[0;32m/tmp/ipython-input-1904081478.py\u001b[0m in \u001b[0;36m<cell line: 0>\u001b[0;34m()\u001b[0m\n\u001b[1;32m      4\u001b[0m \u001b[0mmaster_subs\u001b[0m \u001b[0;34m=\u001b[0m \u001b[0msubscribers_all\u001b[0m\u001b[0;34m[\u001b[0m\u001b[0msubscribers_all\u001b[0m\u001b[0;34m[\u001b[0m\u001b[0;34m\"is_master\"\u001b[0m\u001b[0;34m]\u001b[0m \u001b[0;34m==\u001b[0m \u001b[0;32mTrue\u001b[0m\u001b[0;34m]\u001b[0m\u001b[0;34m\u001b[0m\u001b[0;34m\u001b[0m\u001b[0m\n\u001b[1;32m      5\u001b[0m \u001b[0;34m\u001b[0m\u001b[0m\n\u001b[0;32m----> 6\u001b[0;31m \u001b[0mfinal_report\u001b[0m \u001b[0;34m=\u001b[0m \u001b[0mreport\u001b[0m\u001b[0;34m.\u001b[0m\u001b[0mmerge\u001b[0m\u001b[0;34m(\u001b[0m\u001b[0mmaster_subs\u001b[0m\u001b[0;34m,\u001b[0m \u001b[0mon\u001b[0m\u001b[0;34m=\u001b[0m\u001b[0;34m\"MSISDN\"\u001b[0m\u001b[0;34m,\u001b[0m \u001b[0mhow\u001b[0m\u001b[0;34m=\u001b[0m\u001b[0;34m\"left\"\u001b[0m\u001b[0;34m)\u001b[0m\u001b[0;34m\u001b[0m\u001b[0;34m\u001b[0m\u001b[0m\n\u001b[0m",
            "\u001b[0;32m/usr/local/lib/python3.12/dist-packages/pandas/core/frame.py\u001b[0m in \u001b[0;36mmerge\u001b[0;34m(self, right, how, on, left_on, right_on, left_index, right_index, sort, suffixes, copy, indicator, validate)\u001b[0m\n\u001b[1;32m  10830\u001b[0m         \u001b[0;32mfrom\u001b[0m \u001b[0mpandas\u001b[0m\u001b[0;34m.\u001b[0m\u001b[0mcore\u001b[0m\u001b[0;34m.\u001b[0m\u001b[0mreshape\u001b[0m\u001b[0;34m.\u001b[0m\u001b[0mmerge\u001b[0m \u001b[0;32mimport\u001b[0m \u001b[0mmerge\u001b[0m\u001b[0;34m\u001b[0m\u001b[0;34m\u001b[0m\u001b[0m\n\u001b[1;32m  10831\u001b[0m \u001b[0;34m\u001b[0m\u001b[0m\n\u001b[0;32m> 10832\u001b[0;31m         return merge(\n\u001b[0m\u001b[1;32m  10833\u001b[0m             \u001b[0mself\u001b[0m\u001b[0;34m,\u001b[0m\u001b[0;34m\u001b[0m\u001b[0;34m\u001b[0m\u001b[0m\n\u001b[1;32m  10834\u001b[0m             \u001b[0mright\u001b[0m\u001b[0;34m,\u001b[0m\u001b[0;34m\u001b[0m\u001b[0;34m\u001b[0m\u001b[0m\n",
            "\u001b[0;32m/usr/local/lib/python3.12/dist-packages/pandas/core/reshape/merge.py\u001b[0m in \u001b[0;36mmerge\u001b[0;34m(left, right, how, on, left_on, right_on, left_index, right_index, sort, suffixes, copy, indicator, validate)\u001b[0m\n\u001b[1;32m    168\u001b[0m         )\n\u001b[1;32m    169\u001b[0m     \u001b[0;32melse\u001b[0m\u001b[0;34m:\u001b[0m\u001b[0;34m\u001b[0m\u001b[0;34m\u001b[0m\u001b[0m\n\u001b[0;32m--> 170\u001b[0;31m         op = _MergeOperation(\n\u001b[0m\u001b[1;32m    171\u001b[0m             \u001b[0mleft_df\u001b[0m\u001b[0;34m,\u001b[0m\u001b[0;34m\u001b[0m\u001b[0;34m\u001b[0m\u001b[0m\n\u001b[1;32m    172\u001b[0m             \u001b[0mright_df\u001b[0m\u001b[0;34m,\u001b[0m\u001b[0;34m\u001b[0m\u001b[0;34m\u001b[0m\u001b[0m\n",
            "\u001b[0;32m/usr/local/lib/python3.12/dist-packages/pandas/core/reshape/merge.py\u001b[0m in \u001b[0;36m__init__\u001b[0;34m(self, left, right, how, on, left_on, right_on, left_index, right_index, sort, suffixes, indicator, validate)\u001b[0m\n\u001b[1;32m    792\u001b[0m             \u001b[0mleft_drop\u001b[0m\u001b[0;34m,\u001b[0m\u001b[0;34m\u001b[0m\u001b[0;34m\u001b[0m\u001b[0m\n\u001b[1;32m    793\u001b[0m             \u001b[0mright_drop\u001b[0m\u001b[0;34m,\u001b[0m\u001b[0;34m\u001b[0m\u001b[0;34m\u001b[0m\u001b[0m\n\u001b[0;32m--> 794\u001b[0;31m         ) = self._get_merge_keys()\n\u001b[0m\u001b[1;32m    795\u001b[0m \u001b[0;34m\u001b[0m\u001b[0m\n\u001b[1;32m    796\u001b[0m         \u001b[0;32mif\u001b[0m \u001b[0mleft_drop\u001b[0m\u001b[0;34m:\u001b[0m\u001b[0;34m\u001b[0m\u001b[0;34m\u001b[0m\u001b[0m\n",
            "\u001b[0;32m/usr/local/lib/python3.12/dist-packages/pandas/core/reshape/merge.py\u001b[0m in \u001b[0;36m_get_merge_keys\u001b[0;34m(self)\u001b[0m\n\u001b[1;32m   1295\u001b[0m                         \u001b[0mrk\u001b[0m \u001b[0;34m=\u001b[0m \u001b[0mcast\u001b[0m\u001b[0;34m(\u001b[0m\u001b[0mHashable\u001b[0m\u001b[0;34m,\u001b[0m \u001b[0mrk\u001b[0m\u001b[0;34m)\u001b[0m\u001b[0;34m\u001b[0m\u001b[0;34m\u001b[0m\u001b[0m\n\u001b[1;32m   1296\u001b[0m                         \u001b[0;32mif\u001b[0m \u001b[0mrk\u001b[0m \u001b[0;32mis\u001b[0m \u001b[0;32mnot\u001b[0m \u001b[0;32mNone\u001b[0m\u001b[0;34m:\u001b[0m\u001b[0;34m\u001b[0m\u001b[0;34m\u001b[0m\u001b[0m\n\u001b[0;32m-> 1297\u001b[0;31m                             \u001b[0mright_keys\u001b[0m\u001b[0;34m.\u001b[0m\u001b[0mappend\u001b[0m\u001b[0;34m(\u001b[0m\u001b[0mright\u001b[0m\u001b[0;34m.\u001b[0m\u001b[0m_get_label_or_level_values\u001b[0m\u001b[0;34m(\u001b[0m\u001b[0mrk\u001b[0m\u001b[0;34m)\u001b[0m\u001b[0;34m)\u001b[0m\u001b[0;34m\u001b[0m\u001b[0;34m\u001b[0m\u001b[0m\n\u001b[0m\u001b[1;32m   1298\u001b[0m                         \u001b[0;32melse\u001b[0m\u001b[0;34m:\u001b[0m\u001b[0;34m\u001b[0m\u001b[0;34m\u001b[0m\u001b[0m\n\u001b[1;32m   1299\u001b[0m                             \u001b[0;31m# work-around for merge_asof(right_index=True)\u001b[0m\u001b[0;34m\u001b[0m\u001b[0;34m\u001b[0m\u001b[0m\n",
            "\u001b[0;32m/usr/local/lib/python3.12/dist-packages/pandas/core/generic.py\u001b[0m in \u001b[0;36m_get_label_or_level_values\u001b[0;34m(self, key, axis)\u001b[0m\n\u001b[1;32m   1909\u001b[0m             \u001b[0mvalues\u001b[0m \u001b[0;34m=\u001b[0m \u001b[0mself\u001b[0m\u001b[0;34m.\u001b[0m\u001b[0maxes\u001b[0m\u001b[0;34m[\u001b[0m\u001b[0maxis\u001b[0m\u001b[0;34m]\u001b[0m\u001b[0;34m.\u001b[0m\u001b[0mget_level_values\u001b[0m\u001b[0;34m(\u001b[0m\u001b[0mkey\u001b[0m\u001b[0;34m)\u001b[0m\u001b[0;34m.\u001b[0m\u001b[0m_values\u001b[0m\u001b[0;34m\u001b[0m\u001b[0;34m\u001b[0m\u001b[0m\n\u001b[1;32m   1910\u001b[0m         \u001b[0;32melse\u001b[0m\u001b[0;34m:\u001b[0m\u001b[0;34m\u001b[0m\u001b[0;34m\u001b[0m\u001b[0m\n\u001b[0;32m-> 1911\u001b[0;31m             \u001b[0;32mraise\u001b[0m \u001b[0mKeyError\u001b[0m\u001b[0;34m(\u001b[0m\u001b[0mkey\u001b[0m\u001b[0;34m)\u001b[0m\u001b[0;34m\u001b[0m\u001b[0;34m\u001b[0m\u001b[0m\n\u001b[0m\u001b[1;32m   1912\u001b[0m \u001b[0;34m\u001b[0m\u001b[0m\n\u001b[1;32m   1913\u001b[0m         \u001b[0;31m# Check for duplicates\u001b[0m\u001b[0;34m\u001b[0m\u001b[0;34m\u001b[0m\u001b[0m\n",
            "\u001b[0;31mKeyError\u001b[0m: 'MSISDN'"
          ]
        }
      ]
    },
    {
      "cell_type": "code",
      "source": [
        "# STEP 6: Merge with Subscriber Master\n",
        "# -------------------------\n",
        "# Only keep master records\n",
        "\n",
        "master_subs = subscribers_all[subscribers_all[\"is_master\"] == True]\n",
        "\n",
        "final_report = report.merge(\n",
        "    master_subs,\n",
        "    left_on=\"MSISDN\",       # from usage report\n",
        "    right_on=\"cell_number\", # from subscriber master\n",
        "    how=\"left\"\n",
        ")"
      ],
      "metadata": {
        "id": "n88iewWElTlI"
      },
      "execution_count": 210,
      "outputs": []
    },
    {
      "cell_type": "code",
      "source": [
        "final_report = final_report.drop(columns=[\"cell_number\"])"
      ],
      "metadata": {
        "id": "F9oihbBoy_dK"
      },
      "execution_count": 211,
      "outputs": []
    },
    {
      "cell_type": "code",
      "source": [
        "print(final_report)"
      ],
      "metadata": {
        "colab": {
          "base_uri": "https://localhost:8080/"
        },
        "id": "hdbUnikflmWV",
        "outputId": "5c2688d7-62c9-4654-c3b9-53925e01a950"
      },
      "execution_count": 212,
      "outputs": [
        {
          "output_type": "stream",
          "name": "stdout",
          "text": [
            "          MSISDN  total_revenue  sms_count  voice_count  total_events  \\\n",
            "0    27700408017          27745          0            0            17   \n",
            "1    27700498064          23758          0            0            16   \n",
            "2    27700536653          10392          0            0            16   \n",
            "3    27700594567           7305          0            0            14   \n",
            "4    27701302724          15676          0            0            11   \n",
            "..           ...            ...        ...          ...           ...   \n",
            "355  27798562157          11203          0            0            11   \n",
            "356  27798844055          16741          0            0            11   \n",
            "357  27799314934          10894          0            0            13   \n",
            "358  27799698904          10297          0            0            15   \n",
            "359  27799933613          29014          0            0            14   \n",
            "\n",
            "           region sim_activation_date  first_name last_name        dob  \\\n",
            "0             NaN                 NaT         NaN       NaN        NaT   \n",
            "1             NaN                 NaT         NaN       NaN        NaT   \n",
            "2             NaN                 NaT         NaN       NaN        NaT   \n",
            "3      Ekurhuleni          2023-07-20      Donald      Lowe        NaT   \n",
            "4    Johannesburg          2024-01-10    Sibonelo    Jiyane 1965-05-31   \n",
            "..            ...                 ...         ...       ...        ...   \n",
            "355   Krugersdorp          2024-07-24     Jeffrey    Morgan        NaT   \n",
            "356    Ekurhuleni          2024-10-26  Mthokozisi   Sishiya 1977-03-28   \n",
            "357    Soshanguve          2023-11-15      Gerald    Bailey        NaT   \n",
            "358      Pretoria          2023-10-26     Jeffrey    Bright 1974-04-07   \n",
            "359        Benoni          2024-09-29  Sithembiso     Mvubu        NaT   \n",
            "\n",
            "    source_system is_master province province province  \n",
            "0             NaN       NaN      NaN      NaN      NaN  \n",
            "1             NaN       NaN      NaN      NaN      NaN  \n",
            "2             NaN       NaN      NaN      NaN      NaN  \n",
            "3     ArrowMobile      True  Gauteng  Gauteng  Gauteng  \n",
            "4         VMobile      True  Gauteng  Gauteng  Gauteng  \n",
            "..            ...       ...      ...      ...      ...  \n",
            "355   ArrowMobile      True  Gauteng  Gauteng  Gauteng  \n",
            "356       VMobile      True  Gauteng  Gauteng  Gauteng  \n",
            "357   ArrowMobile      True  Gauteng  Gauteng  Gauteng  \n",
            "358       VMobile      True  Gauteng  Gauteng  Gauteng  \n",
            "359   ArrowMobile      True  Gauteng  Gauteng  Gauteng  \n",
            "\n",
            "[360 rows x 15 columns]\n"
          ]
        }
      ]
    },
    {
      "cell_type": "code",
      "source": [
        "# STEP 7: Add Week Dates\n",
        "# -------------------------\n",
        "week_start = VMobile_Usage_Records[\"USAGE_EVENT_DATE_TIME\"].min().strftime(\"%Y%m%d\")\n",
        "week_end = VMobile_Usage_Records[\"USAGE_EVENT_DATE_TIME\"].max().strftime(\"%Y%m%d\")\n",
        "reporting_date = datetime.now().strftime(\"%Y%m%d\")\n",
        "\n",
        "final_report[\"week_start\"] = week_start\n",
        "final_report[\"week_end\"] = week_end\n",
        "final_report[\"reporting_date\"] = reporting_date"
      ],
      "metadata": {
        "id": "v-kQQZJvmXFk"
      },
      "execution_count": 213,
      "outputs": []
    },
    {
      "cell_type": "code",
      "source": [
        "print(final_report.columns)"
      ],
      "metadata": {
        "colab": {
          "base_uri": "https://localhost:8080/"
        },
        "id": "oXaDCvBzoUtD",
        "outputId": "f63be22f-3412-4bc8-ceed-00bbcc73eaa4"
      },
      "execution_count": 223,
      "outputs": [
        {
          "output_type": "stream",
          "name": "stdout",
          "text": [
            "Index(['first_name', 'last_name', 'MSISDN', 'dob', 'region',\n",
            "       'sim_activation_date', 'source_system', 'total_revenue', 'sms_count',\n",
            "       'voice_count', 'total_events'],\n",
            "      dtype='object')\n"
          ]
        }
      ]
    },
    {
      "cell_type": "code",
      "source": [
        "final_report = report.merge(\n",
        "    master_subs,\n",
        "    left_on=\"MSISDN\",\n",
        "    right_on=\"cell_number\",\n",
        "    how=\"left\"\n",
        ").drop(columns=[\"cell_number\"])   # keep MSISDN only\n",
        "\n",
        "# When selecting columns, replace \"cell_number\" with \"MSISDN\"\n",
        "final_report = final_report[[\n",
        "    \"first_name\",\"last_name\",\"MSISDN\",\"dob\",\"region\",\n",
        "    \"sim_activation_date\",\"source_system\",\n",
        "    \"total_revenue\",\"sms_count\",\"voice_count\",\"total_events\"\n",
        "]]\n"
      ],
      "metadata": {
        "id": "lW25hLMn2BAF"
      },
      "execution_count": 224,
      "outputs": []
    },
    {
      "cell_type": "code",
      "source": [
        "print(final_report)"
      ],
      "metadata": {
        "colab": {
          "base_uri": "https://localhost:8080/"
        },
        "id": "7Vlv6FvE2Msa",
        "outputId": "ad754bbf-45a8-48b3-ee85-d96bf4419426"
      },
      "execution_count": 225,
      "outputs": [
        {
          "output_type": "stream",
          "name": "stdout",
          "text": [
            "     first_name last_name       MSISDN        dob        region  \\\n",
            "0           NaN       NaN  27700408017        NaT           NaN   \n",
            "1           NaN       NaN  27700498064        NaT           NaN   \n",
            "2           NaN       NaN  27700536653        NaT           NaN   \n",
            "3        Donald      Lowe  27700594567        NaT    Ekurhuleni   \n",
            "4      Sibonelo    Jiyane  27701302724 1965-05-31  Johannesburg   \n",
            "..          ...       ...          ...        ...           ...   \n",
            "355     Jeffrey    Morgan  27798562157        NaT   Krugersdorp   \n",
            "356  Mthokozisi   Sishiya  27798844055 1977-03-28    Ekurhuleni   \n",
            "357      Gerald    Bailey  27799314934        NaT    Soshanguve   \n",
            "358     Jeffrey    Bright  27799698904 1974-04-07      Pretoria   \n",
            "359  Sithembiso     Mvubu  27799933613        NaT        Benoni   \n",
            "\n",
            "    sim_activation_date source_system  total_revenue  sms_count  voice_count  \\\n",
            "0                   NaT           NaN          27745          0            0   \n",
            "1                   NaT           NaN          23758          0            0   \n",
            "2                   NaT           NaN          10392          0            0   \n",
            "3            2023-07-20   ArrowMobile           7305          0            0   \n",
            "4            2024-01-10       VMobile          15676          0            0   \n",
            "..                  ...           ...            ...        ...          ...   \n",
            "355          2024-07-24   ArrowMobile          11203          0            0   \n",
            "356          2024-10-26       VMobile          16741          0            0   \n",
            "357          2023-11-15   ArrowMobile          10894          0            0   \n",
            "358          2023-10-26       VMobile          10297          0            0   \n",
            "359          2024-09-29   ArrowMobile          29014          0            0   \n",
            "\n",
            "     total_events  \n",
            "0              17  \n",
            "1              16  \n",
            "2              16  \n",
            "3              14  \n",
            "4              11  \n",
            "..            ...  \n",
            "355            11  \n",
            "356            11  \n",
            "357            13  \n",
            "358            15  \n",
            "359            14  \n",
            "\n",
            "[360 rows x 11 columns]\n"
          ]
        }
      ]
    },
    {
      "cell_type": "code",
      "source": [
        "# STEP 8: Save Report\n",
        "# -------------------------\n",
        "final_report = final_report[[\n",
        "    \"first_name\",\"last_name\",\"cell_number\",\"dob\",\"region\",\n",
        "    \"sim_activation_date\",\"source_system\",\n",
        "    \"total_revenue\",\"sms_count\",\"voice_count\",\n",
        "    \"week_start\",\"week_end\",\"reporting_date\"\n",
        "]]\n",
        "\n",
        "final_report.to_csv(\"weekly_report.csv\", index=False)\n",
        "\n",
        "print(\"✅ Weekly report generated: weekly_report.csv\")"
      ],
      "metadata": {
        "colab": {
          "base_uri": "https://localhost:8080/",
          "height": 356
        },
        "id": "G6R6M7hWoC1T",
        "outputId": "f6c467a2-538b-4910-f2b9-922a53484e90"
      },
      "execution_count": 222,
      "outputs": [
        {
          "output_type": "error",
          "ename": "KeyError",
          "evalue": "\"['cell_number', 'week_start', 'week_end', 'reporting_date'] not in index\"",
          "traceback": [
            "\u001b[0;31m---------------------------------------------------------------------------\u001b[0m",
            "\u001b[0;31mKeyError\u001b[0m                                  Traceback (most recent call last)",
            "\u001b[0;32m/tmp/ipython-input-3987315892.py\u001b[0m in \u001b[0;36m<cell line: 0>\u001b[0;34m()\u001b[0m\n\u001b[1;32m      1\u001b[0m \u001b[0;31m# STEP 8: Save Report\u001b[0m\u001b[0;34m\u001b[0m\u001b[0;34m\u001b[0m\u001b[0m\n\u001b[1;32m      2\u001b[0m \u001b[0;31m# -------------------------\u001b[0m\u001b[0;34m\u001b[0m\u001b[0;34m\u001b[0m\u001b[0m\n\u001b[0;32m----> 3\u001b[0;31m final_report = final_report[[\n\u001b[0m\u001b[1;32m      4\u001b[0m     \u001b[0;34m\"first_name\"\u001b[0m\u001b[0;34m,\u001b[0m\u001b[0;34m\"last_name\"\u001b[0m\u001b[0;34m,\u001b[0m\u001b[0;34m\"cell_number\"\u001b[0m\u001b[0;34m,\u001b[0m\u001b[0;34m\"dob\"\u001b[0m\u001b[0;34m,\u001b[0m\u001b[0;34m\"region\"\u001b[0m\u001b[0;34m,\u001b[0m\u001b[0;34m\u001b[0m\u001b[0;34m\u001b[0m\u001b[0m\n\u001b[1;32m      5\u001b[0m     \u001b[0;34m\"sim_activation_date\"\u001b[0m\u001b[0;34m,\u001b[0m\u001b[0;34m\"source_system\"\u001b[0m\u001b[0;34m,\u001b[0m\u001b[0;34m\u001b[0m\u001b[0;34m\u001b[0m\u001b[0m\n",
            "\u001b[0;32m/usr/local/lib/python3.12/dist-packages/pandas/core/frame.py\u001b[0m in \u001b[0;36m__getitem__\u001b[0;34m(self, key)\u001b[0m\n\u001b[1;32m   4106\u001b[0m             \u001b[0;32mif\u001b[0m \u001b[0mis_iterator\u001b[0m\u001b[0;34m(\u001b[0m\u001b[0mkey\u001b[0m\u001b[0;34m)\u001b[0m\u001b[0;34m:\u001b[0m\u001b[0;34m\u001b[0m\u001b[0;34m\u001b[0m\u001b[0m\n\u001b[1;32m   4107\u001b[0m                 \u001b[0mkey\u001b[0m \u001b[0;34m=\u001b[0m \u001b[0mlist\u001b[0m\u001b[0;34m(\u001b[0m\u001b[0mkey\u001b[0m\u001b[0;34m)\u001b[0m\u001b[0;34m\u001b[0m\u001b[0;34m\u001b[0m\u001b[0m\n\u001b[0;32m-> 4108\u001b[0;31m             \u001b[0mindexer\u001b[0m \u001b[0;34m=\u001b[0m \u001b[0mself\u001b[0m\u001b[0;34m.\u001b[0m\u001b[0mcolumns\u001b[0m\u001b[0;34m.\u001b[0m\u001b[0m_get_indexer_strict\u001b[0m\u001b[0;34m(\u001b[0m\u001b[0mkey\u001b[0m\u001b[0;34m,\u001b[0m \u001b[0;34m\"columns\"\u001b[0m\u001b[0;34m)\u001b[0m\u001b[0;34m[\u001b[0m\u001b[0;36m1\u001b[0m\u001b[0;34m]\u001b[0m\u001b[0;34m\u001b[0m\u001b[0;34m\u001b[0m\u001b[0m\n\u001b[0m\u001b[1;32m   4109\u001b[0m \u001b[0;34m\u001b[0m\u001b[0m\n\u001b[1;32m   4110\u001b[0m         \u001b[0;31m# take() does not accept boolean indexers\u001b[0m\u001b[0;34m\u001b[0m\u001b[0;34m\u001b[0m\u001b[0m\n",
            "\u001b[0;32m/usr/local/lib/python3.12/dist-packages/pandas/core/indexes/base.py\u001b[0m in \u001b[0;36m_get_indexer_strict\u001b[0;34m(self, key, axis_name)\u001b[0m\n\u001b[1;32m   6198\u001b[0m             \u001b[0mkeyarr\u001b[0m\u001b[0;34m,\u001b[0m \u001b[0mindexer\u001b[0m\u001b[0;34m,\u001b[0m \u001b[0mnew_indexer\u001b[0m \u001b[0;34m=\u001b[0m \u001b[0mself\u001b[0m\u001b[0;34m.\u001b[0m\u001b[0m_reindex_non_unique\u001b[0m\u001b[0;34m(\u001b[0m\u001b[0mkeyarr\u001b[0m\u001b[0;34m)\u001b[0m\u001b[0;34m\u001b[0m\u001b[0;34m\u001b[0m\u001b[0m\n\u001b[1;32m   6199\u001b[0m \u001b[0;34m\u001b[0m\u001b[0m\n\u001b[0;32m-> 6200\u001b[0;31m         \u001b[0mself\u001b[0m\u001b[0;34m.\u001b[0m\u001b[0m_raise_if_missing\u001b[0m\u001b[0;34m(\u001b[0m\u001b[0mkeyarr\u001b[0m\u001b[0;34m,\u001b[0m \u001b[0mindexer\u001b[0m\u001b[0;34m,\u001b[0m \u001b[0maxis_name\u001b[0m\u001b[0;34m)\u001b[0m\u001b[0;34m\u001b[0m\u001b[0;34m\u001b[0m\u001b[0m\n\u001b[0m\u001b[1;32m   6201\u001b[0m \u001b[0;34m\u001b[0m\u001b[0m\n\u001b[1;32m   6202\u001b[0m         \u001b[0mkeyarr\u001b[0m \u001b[0;34m=\u001b[0m \u001b[0mself\u001b[0m\u001b[0;34m.\u001b[0m\u001b[0mtake\u001b[0m\u001b[0;34m(\u001b[0m\u001b[0mindexer\u001b[0m\u001b[0;34m)\u001b[0m\u001b[0;34m\u001b[0m\u001b[0;34m\u001b[0m\u001b[0m\n",
            "\u001b[0;32m/usr/local/lib/python3.12/dist-packages/pandas/core/indexes/base.py\u001b[0m in \u001b[0;36m_raise_if_missing\u001b[0;34m(self, key, indexer, axis_name)\u001b[0m\n\u001b[1;32m   6250\u001b[0m \u001b[0;34m\u001b[0m\u001b[0m\n\u001b[1;32m   6251\u001b[0m             \u001b[0mnot_found\u001b[0m \u001b[0;34m=\u001b[0m \u001b[0mlist\u001b[0m\u001b[0;34m(\u001b[0m\u001b[0mensure_index\u001b[0m\u001b[0;34m(\u001b[0m\u001b[0mkey\u001b[0m\u001b[0;34m)\u001b[0m\u001b[0;34m[\u001b[0m\u001b[0mmissing_mask\u001b[0m\u001b[0;34m.\u001b[0m\u001b[0mnonzero\u001b[0m\u001b[0;34m(\u001b[0m\u001b[0;34m)\u001b[0m\u001b[0;34m[\u001b[0m\u001b[0;36m0\u001b[0m\u001b[0;34m]\u001b[0m\u001b[0;34m]\u001b[0m\u001b[0;34m.\u001b[0m\u001b[0munique\u001b[0m\u001b[0;34m(\u001b[0m\u001b[0;34m)\u001b[0m\u001b[0;34m)\u001b[0m\u001b[0;34m\u001b[0m\u001b[0;34m\u001b[0m\u001b[0m\n\u001b[0;32m-> 6252\u001b[0;31m             \u001b[0;32mraise\u001b[0m \u001b[0mKeyError\u001b[0m\u001b[0;34m(\u001b[0m\u001b[0;34mf\"{not_found} not in index\"\u001b[0m\u001b[0;34m)\u001b[0m\u001b[0;34m\u001b[0m\u001b[0;34m\u001b[0m\u001b[0m\n\u001b[0m\u001b[1;32m   6253\u001b[0m \u001b[0;34m\u001b[0m\u001b[0m\n\u001b[1;32m   6254\u001b[0m     \u001b[0;34m@\u001b[0m\u001b[0moverload\u001b[0m\u001b[0;34m\u001b[0m\u001b[0;34m\u001b[0m\u001b[0m\n",
            "\u001b[0;31mKeyError\u001b[0m: \"['cell_number', 'week_start', 'week_end', 'reporting_date'] not in index\""
          ]
        }
      ]
    },
    {
      "cell_type": "code",
      "source": [
        "#Read the Weakly Report\n",
        "d = pd.read_csv(\"weekly_report.csv\")\n",
        "d"
      ],
      "metadata": {
        "colab": {
          "base_uri": "https://localhost:8080/",
          "height": 476
        },
        "id": "xdN2bSmFqo2o",
        "outputId": "8d528105-e7b4-4f47-c904-b76308b7307c"
      },
      "execution_count": 226,
      "outputs": [
        {
          "output_type": "execute_result",
          "data": {
            "text/plain": [
              "     first_name last_name       MSISDN         dob        region  \\\n",
              "0           NaN       NaN  27700408017         NaN           NaN   \n",
              "1           NaN       NaN  27700498064         NaN           NaN   \n",
              "2           NaN       NaN  27700536653         NaN           NaN   \n",
              "3        Donald      Lowe  27700594567         NaN    Ekurhuleni   \n",
              "4      Sibonelo    Jiyane  27701302724  1965-05-31  Johannesburg   \n",
              "..          ...       ...          ...         ...           ...   \n",
              "355     Jeffrey    Morgan  27798562157         NaN   Krugersdorp   \n",
              "356  Mthokozisi   Sishiya  27798844055  1977-03-28    Ekurhuleni   \n",
              "357      Gerald    Bailey  27799314934         NaN    Soshanguve   \n",
              "358     Jeffrey    Bright  27799698904  1974-04-07      Pretoria   \n",
              "359  Sithembiso     Mvubu  27799933613         NaN        Benoni   \n",
              "\n",
              "    sim_activation_date source_system  total_revenue  sms_count  voice_count  \\\n",
              "0                   NaN           NaN          27745          0            0   \n",
              "1                   NaN           NaN          23758          0            0   \n",
              "2                   NaN           NaN          10392          0            0   \n",
              "3            2023-07-20   ArrowMobile           7305          0            0   \n",
              "4            2024-01-10       VMobile          15676          0            0   \n",
              "..                  ...           ...            ...        ...          ...   \n",
              "355          2024-07-24   ArrowMobile          11203          0            0   \n",
              "356          2024-10-26       VMobile          16741          0            0   \n",
              "357          2023-11-15   ArrowMobile          10894          0            0   \n",
              "358          2023-10-26       VMobile          10297          0            0   \n",
              "359          2024-09-29   ArrowMobile          29014          0            0   \n",
              "\n",
              "     total_events  \n",
              "0              17  \n",
              "1              16  \n",
              "2              16  \n",
              "3              14  \n",
              "4              11  \n",
              "..            ...  \n",
              "355            11  \n",
              "356            11  \n",
              "357            13  \n",
              "358            15  \n",
              "359            14  \n",
              "\n",
              "[360 rows x 11 columns]"
            ],
            "text/html": [
              "\n",
              "  <div id=\"df-0d8e682b-7c56-4504-973b-3d0e845dad09\" class=\"colab-df-container\">\n",
              "    <div>\n",
              "<style scoped>\n",
              "    .dataframe tbody tr th:only-of-type {\n",
              "        vertical-align: middle;\n",
              "    }\n",
              "\n",
              "    .dataframe tbody tr th {\n",
              "        vertical-align: top;\n",
              "    }\n",
              "\n",
              "    .dataframe thead th {\n",
              "        text-align: right;\n",
              "    }\n",
              "</style>\n",
              "<table border=\"1\" class=\"dataframe\">\n",
              "  <thead>\n",
              "    <tr style=\"text-align: right;\">\n",
              "      <th></th>\n",
              "      <th>first_name</th>\n",
              "      <th>last_name</th>\n",
              "      <th>MSISDN</th>\n",
              "      <th>dob</th>\n",
              "      <th>region</th>\n",
              "      <th>sim_activation_date</th>\n",
              "      <th>source_system</th>\n",
              "      <th>total_revenue</th>\n",
              "      <th>sms_count</th>\n",
              "      <th>voice_count</th>\n",
              "      <th>total_events</th>\n",
              "    </tr>\n",
              "  </thead>\n",
              "  <tbody>\n",
              "    <tr>\n",
              "      <th>0</th>\n",
              "      <td>NaN</td>\n",
              "      <td>NaN</td>\n",
              "      <td>27700408017</td>\n",
              "      <td>NaN</td>\n",
              "      <td>NaN</td>\n",
              "      <td>NaN</td>\n",
              "      <td>NaN</td>\n",
              "      <td>27745</td>\n",
              "      <td>0</td>\n",
              "      <td>0</td>\n",
              "      <td>17</td>\n",
              "    </tr>\n",
              "    <tr>\n",
              "      <th>1</th>\n",
              "      <td>NaN</td>\n",
              "      <td>NaN</td>\n",
              "      <td>27700498064</td>\n",
              "      <td>NaN</td>\n",
              "      <td>NaN</td>\n",
              "      <td>NaN</td>\n",
              "      <td>NaN</td>\n",
              "      <td>23758</td>\n",
              "      <td>0</td>\n",
              "      <td>0</td>\n",
              "      <td>16</td>\n",
              "    </tr>\n",
              "    <tr>\n",
              "      <th>2</th>\n",
              "      <td>NaN</td>\n",
              "      <td>NaN</td>\n",
              "      <td>27700536653</td>\n",
              "      <td>NaN</td>\n",
              "      <td>NaN</td>\n",
              "      <td>NaN</td>\n",
              "      <td>NaN</td>\n",
              "      <td>10392</td>\n",
              "      <td>0</td>\n",
              "      <td>0</td>\n",
              "      <td>16</td>\n",
              "    </tr>\n",
              "    <tr>\n",
              "      <th>3</th>\n",
              "      <td>Donald</td>\n",
              "      <td>Lowe</td>\n",
              "      <td>27700594567</td>\n",
              "      <td>NaN</td>\n",
              "      <td>Ekurhuleni</td>\n",
              "      <td>2023-07-20</td>\n",
              "      <td>ArrowMobile</td>\n",
              "      <td>7305</td>\n",
              "      <td>0</td>\n",
              "      <td>0</td>\n",
              "      <td>14</td>\n",
              "    </tr>\n",
              "    <tr>\n",
              "      <th>4</th>\n",
              "      <td>Sibonelo</td>\n",
              "      <td>Jiyane</td>\n",
              "      <td>27701302724</td>\n",
              "      <td>1965-05-31</td>\n",
              "      <td>Johannesburg</td>\n",
              "      <td>2024-01-10</td>\n",
              "      <td>VMobile</td>\n",
              "      <td>15676</td>\n",
              "      <td>0</td>\n",
              "      <td>0</td>\n",
              "      <td>11</td>\n",
              "    </tr>\n",
              "    <tr>\n",
              "      <th>...</th>\n",
              "      <td>...</td>\n",
              "      <td>...</td>\n",
              "      <td>...</td>\n",
              "      <td>...</td>\n",
              "      <td>...</td>\n",
              "      <td>...</td>\n",
              "      <td>...</td>\n",
              "      <td>...</td>\n",
              "      <td>...</td>\n",
              "      <td>...</td>\n",
              "      <td>...</td>\n",
              "    </tr>\n",
              "    <tr>\n",
              "      <th>355</th>\n",
              "      <td>Jeffrey</td>\n",
              "      <td>Morgan</td>\n",
              "      <td>27798562157</td>\n",
              "      <td>NaN</td>\n",
              "      <td>Krugersdorp</td>\n",
              "      <td>2024-07-24</td>\n",
              "      <td>ArrowMobile</td>\n",
              "      <td>11203</td>\n",
              "      <td>0</td>\n",
              "      <td>0</td>\n",
              "      <td>11</td>\n",
              "    </tr>\n",
              "    <tr>\n",
              "      <th>356</th>\n",
              "      <td>Mthokozisi</td>\n",
              "      <td>Sishiya</td>\n",
              "      <td>27798844055</td>\n",
              "      <td>1977-03-28</td>\n",
              "      <td>Ekurhuleni</td>\n",
              "      <td>2024-10-26</td>\n",
              "      <td>VMobile</td>\n",
              "      <td>16741</td>\n",
              "      <td>0</td>\n",
              "      <td>0</td>\n",
              "      <td>11</td>\n",
              "    </tr>\n",
              "    <tr>\n",
              "      <th>357</th>\n",
              "      <td>Gerald</td>\n",
              "      <td>Bailey</td>\n",
              "      <td>27799314934</td>\n",
              "      <td>NaN</td>\n",
              "      <td>Soshanguve</td>\n",
              "      <td>2023-11-15</td>\n",
              "      <td>ArrowMobile</td>\n",
              "      <td>10894</td>\n",
              "      <td>0</td>\n",
              "      <td>0</td>\n",
              "      <td>13</td>\n",
              "    </tr>\n",
              "    <tr>\n",
              "      <th>358</th>\n",
              "      <td>Jeffrey</td>\n",
              "      <td>Bright</td>\n",
              "      <td>27799698904</td>\n",
              "      <td>1974-04-07</td>\n",
              "      <td>Pretoria</td>\n",
              "      <td>2023-10-26</td>\n",
              "      <td>VMobile</td>\n",
              "      <td>10297</td>\n",
              "      <td>0</td>\n",
              "      <td>0</td>\n",
              "      <td>15</td>\n",
              "    </tr>\n",
              "    <tr>\n",
              "      <th>359</th>\n",
              "      <td>Sithembiso</td>\n",
              "      <td>Mvubu</td>\n",
              "      <td>27799933613</td>\n",
              "      <td>NaN</td>\n",
              "      <td>Benoni</td>\n",
              "      <td>2024-09-29</td>\n",
              "      <td>ArrowMobile</td>\n",
              "      <td>29014</td>\n",
              "      <td>0</td>\n",
              "      <td>0</td>\n",
              "      <td>14</td>\n",
              "    </tr>\n",
              "  </tbody>\n",
              "</table>\n",
              "<p>360 rows × 11 columns</p>\n",
              "</div>\n",
              "    <div class=\"colab-df-buttons\">\n",
              "\n",
              "  <div class=\"colab-df-container\">\n",
              "    <button class=\"colab-df-convert\" onclick=\"convertToInteractive('df-0d8e682b-7c56-4504-973b-3d0e845dad09')\"\n",
              "            title=\"Convert this dataframe to an interactive table.\"\n",
              "            style=\"display:none;\">\n",
              "\n",
              "  <svg xmlns=\"http://www.w3.org/2000/svg\" height=\"24px\" viewBox=\"0 -960 960 960\">\n",
              "    <path d=\"M120-120v-720h720v720H120Zm60-500h600v-160H180v160Zm220 220h160v-160H400v160Zm0 220h160v-160H400v160ZM180-400h160v-160H180v160Zm440 0h160v-160H620v160ZM180-180h160v-160H180v160Zm440 0h160v-160H620v160Z\"/>\n",
              "  </svg>\n",
              "    </button>\n",
              "\n",
              "  <style>\n",
              "    .colab-df-container {\n",
              "      display:flex;\n",
              "      gap: 12px;\n",
              "    }\n",
              "\n",
              "    .colab-df-convert {\n",
              "      background-color: #E8F0FE;\n",
              "      border: none;\n",
              "      border-radius: 50%;\n",
              "      cursor: pointer;\n",
              "      display: none;\n",
              "      fill: #1967D2;\n",
              "      height: 32px;\n",
              "      padding: 0 0 0 0;\n",
              "      width: 32px;\n",
              "    }\n",
              "\n",
              "    .colab-df-convert:hover {\n",
              "      background-color: #E2EBFA;\n",
              "      box-shadow: 0px 1px 2px rgba(60, 64, 67, 0.3), 0px 1px 3px 1px rgba(60, 64, 67, 0.15);\n",
              "      fill: #174EA6;\n",
              "    }\n",
              "\n",
              "    .colab-df-buttons div {\n",
              "      margin-bottom: 4px;\n",
              "    }\n",
              "\n",
              "    [theme=dark] .colab-df-convert {\n",
              "      background-color: #3B4455;\n",
              "      fill: #D2E3FC;\n",
              "    }\n",
              "\n",
              "    [theme=dark] .colab-df-convert:hover {\n",
              "      background-color: #434B5C;\n",
              "      box-shadow: 0px 1px 3px 1px rgba(0, 0, 0, 0.15);\n",
              "      filter: drop-shadow(0px 1px 2px rgba(0, 0, 0, 0.3));\n",
              "      fill: #FFFFFF;\n",
              "    }\n",
              "  </style>\n",
              "\n",
              "    <script>\n",
              "      const buttonEl =\n",
              "        document.querySelector('#df-0d8e682b-7c56-4504-973b-3d0e845dad09 button.colab-df-convert');\n",
              "      buttonEl.style.display =\n",
              "        google.colab.kernel.accessAllowed ? 'block' : 'none';\n",
              "\n",
              "      async function convertToInteractive(key) {\n",
              "        const element = document.querySelector('#df-0d8e682b-7c56-4504-973b-3d0e845dad09');\n",
              "        const dataTable =\n",
              "          await google.colab.kernel.invokeFunction('convertToInteractive',\n",
              "                                                    [key], {});\n",
              "        if (!dataTable) return;\n",
              "\n",
              "        const docLinkHtml = 'Like what you see? Visit the ' +\n",
              "          '<a target=\"_blank\" href=https://colab.research.google.com/notebooks/data_table.ipynb>data table notebook</a>'\n",
              "          + ' to learn more about interactive tables.';\n",
              "        element.innerHTML = '';\n",
              "        dataTable['output_type'] = 'display_data';\n",
              "        await google.colab.output.renderOutput(dataTable, element);\n",
              "        const docLink = document.createElement('div');\n",
              "        docLink.innerHTML = docLinkHtml;\n",
              "        element.appendChild(docLink);\n",
              "      }\n",
              "    </script>\n",
              "  </div>\n",
              "\n",
              "\n",
              "    <div id=\"df-116d4834-8652-41e8-bd77-c6b642b645ff\">\n",
              "      <button class=\"colab-df-quickchart\" onclick=\"quickchart('df-116d4834-8652-41e8-bd77-c6b642b645ff')\"\n",
              "                title=\"Suggest charts\"\n",
              "                style=\"display:none;\">\n",
              "\n",
              "<svg xmlns=\"http://www.w3.org/2000/svg\" height=\"24px\"viewBox=\"0 0 24 24\"\n",
              "     width=\"24px\">\n",
              "    <g>\n",
              "        <path d=\"M19 3H5c-1.1 0-2 .9-2 2v14c0 1.1.9 2 2 2h14c1.1 0 2-.9 2-2V5c0-1.1-.9-2-2-2zM9 17H7v-7h2v7zm4 0h-2V7h2v10zm4 0h-2v-4h2v4z\"/>\n",
              "    </g>\n",
              "</svg>\n",
              "      </button>\n",
              "\n",
              "<style>\n",
              "  .colab-df-quickchart {\n",
              "      --bg-color: #E8F0FE;\n",
              "      --fill-color: #1967D2;\n",
              "      --hover-bg-color: #E2EBFA;\n",
              "      --hover-fill-color: #174EA6;\n",
              "      --disabled-fill-color: #AAA;\n",
              "      --disabled-bg-color: #DDD;\n",
              "  }\n",
              "\n",
              "  [theme=dark] .colab-df-quickchart {\n",
              "      --bg-color: #3B4455;\n",
              "      --fill-color: #D2E3FC;\n",
              "      --hover-bg-color: #434B5C;\n",
              "      --hover-fill-color: #FFFFFF;\n",
              "      --disabled-bg-color: #3B4455;\n",
              "      --disabled-fill-color: #666;\n",
              "  }\n",
              "\n",
              "  .colab-df-quickchart {\n",
              "    background-color: var(--bg-color);\n",
              "    border: none;\n",
              "    border-radius: 50%;\n",
              "    cursor: pointer;\n",
              "    display: none;\n",
              "    fill: var(--fill-color);\n",
              "    height: 32px;\n",
              "    padding: 0;\n",
              "    width: 32px;\n",
              "  }\n",
              "\n",
              "  .colab-df-quickchart:hover {\n",
              "    background-color: var(--hover-bg-color);\n",
              "    box-shadow: 0 1px 2px rgba(60, 64, 67, 0.3), 0 1px 3px 1px rgba(60, 64, 67, 0.15);\n",
              "    fill: var(--button-hover-fill-color);\n",
              "  }\n",
              "\n",
              "  .colab-df-quickchart-complete:disabled,\n",
              "  .colab-df-quickchart-complete:disabled:hover {\n",
              "    background-color: var(--disabled-bg-color);\n",
              "    fill: var(--disabled-fill-color);\n",
              "    box-shadow: none;\n",
              "  }\n",
              "\n",
              "  .colab-df-spinner {\n",
              "    border: 2px solid var(--fill-color);\n",
              "    border-color: transparent;\n",
              "    border-bottom-color: var(--fill-color);\n",
              "    animation:\n",
              "      spin 1s steps(1) infinite;\n",
              "  }\n",
              "\n",
              "  @keyframes spin {\n",
              "    0% {\n",
              "      border-color: transparent;\n",
              "      border-bottom-color: var(--fill-color);\n",
              "      border-left-color: var(--fill-color);\n",
              "    }\n",
              "    20% {\n",
              "      border-color: transparent;\n",
              "      border-left-color: var(--fill-color);\n",
              "      border-top-color: var(--fill-color);\n",
              "    }\n",
              "    30% {\n",
              "      border-color: transparent;\n",
              "      border-left-color: var(--fill-color);\n",
              "      border-top-color: var(--fill-color);\n",
              "      border-right-color: var(--fill-color);\n",
              "    }\n",
              "    40% {\n",
              "      border-color: transparent;\n",
              "      border-right-color: var(--fill-color);\n",
              "      border-top-color: var(--fill-color);\n",
              "    }\n",
              "    60% {\n",
              "      border-color: transparent;\n",
              "      border-right-color: var(--fill-color);\n",
              "    }\n",
              "    80% {\n",
              "      border-color: transparent;\n",
              "      border-right-color: var(--fill-color);\n",
              "      border-bottom-color: var(--fill-color);\n",
              "    }\n",
              "    90% {\n",
              "      border-color: transparent;\n",
              "      border-bottom-color: var(--fill-color);\n",
              "    }\n",
              "  }\n",
              "</style>\n",
              "\n",
              "      <script>\n",
              "        async function quickchart(key) {\n",
              "          const quickchartButtonEl =\n",
              "            document.querySelector('#' + key + ' button');\n",
              "          quickchartButtonEl.disabled = true;  // To prevent multiple clicks.\n",
              "          quickchartButtonEl.classList.add('colab-df-spinner');\n",
              "          try {\n",
              "            const charts = await google.colab.kernel.invokeFunction(\n",
              "                'suggestCharts', [key], {});\n",
              "          } catch (error) {\n",
              "            console.error('Error during call to suggestCharts:', error);\n",
              "          }\n",
              "          quickchartButtonEl.classList.remove('colab-df-spinner');\n",
              "          quickchartButtonEl.classList.add('colab-df-quickchart-complete');\n",
              "        }\n",
              "        (() => {\n",
              "          let quickchartButtonEl =\n",
              "            document.querySelector('#df-116d4834-8652-41e8-bd77-c6b642b645ff button');\n",
              "          quickchartButtonEl.style.display =\n",
              "            google.colab.kernel.accessAllowed ? 'block' : 'none';\n",
              "        })();\n",
              "      </script>\n",
              "    </div>\n",
              "\n",
              "  <div id=\"id_3630de0d-5655-4caa-8880-2e9539ca3093\">\n",
              "    <style>\n",
              "      .colab-df-generate {\n",
              "        background-color: #E8F0FE;\n",
              "        border: none;\n",
              "        border-radius: 50%;\n",
              "        cursor: pointer;\n",
              "        display: none;\n",
              "        fill: #1967D2;\n",
              "        height: 32px;\n",
              "        padding: 0 0 0 0;\n",
              "        width: 32px;\n",
              "      }\n",
              "\n",
              "      .colab-df-generate:hover {\n",
              "        background-color: #E2EBFA;\n",
              "        box-shadow: 0px 1px 2px rgba(60, 64, 67, 0.3), 0px 1px 3px 1px rgba(60, 64, 67, 0.15);\n",
              "        fill: #174EA6;\n",
              "      }\n",
              "\n",
              "      [theme=dark] .colab-df-generate {\n",
              "        background-color: #3B4455;\n",
              "        fill: #D2E3FC;\n",
              "      }\n",
              "\n",
              "      [theme=dark] .colab-df-generate:hover {\n",
              "        background-color: #434B5C;\n",
              "        box-shadow: 0px 1px 3px 1px rgba(0, 0, 0, 0.15);\n",
              "        filter: drop-shadow(0px 1px 2px rgba(0, 0, 0, 0.3));\n",
              "        fill: #FFFFFF;\n",
              "      }\n",
              "    </style>\n",
              "    <button class=\"colab-df-generate\" onclick=\"generateWithVariable('d')\"\n",
              "            title=\"Generate code using this dataframe.\"\n",
              "            style=\"display:none;\">\n",
              "\n",
              "  <svg xmlns=\"http://www.w3.org/2000/svg\" height=\"24px\"viewBox=\"0 0 24 24\"\n",
              "       width=\"24px\">\n",
              "    <path d=\"M7,19H8.4L18.45,9,17,7.55,7,17.6ZM5,21V16.75L18.45,3.32a2,2,0,0,1,2.83,0l1.4,1.43a1.91,1.91,0,0,1,.58,1.4,1.91,1.91,0,0,1-.58,1.4L9.25,21ZM18.45,9,17,7.55Zm-12,3A5.31,5.31,0,0,0,4.9,8.1,5.31,5.31,0,0,0,1,6.5,5.31,5.31,0,0,0,4.9,4.9,5.31,5.31,0,0,0,6.5,1,5.31,5.31,0,0,0,8.1,4.9,5.31,5.31,0,0,0,12,6.5,5.46,5.46,0,0,0,6.5,12Z\"/>\n",
              "  </svg>\n",
              "    </button>\n",
              "    <script>\n",
              "      (() => {\n",
              "      const buttonEl =\n",
              "        document.querySelector('#id_3630de0d-5655-4caa-8880-2e9539ca3093 button.colab-df-generate');\n",
              "      buttonEl.style.display =\n",
              "        google.colab.kernel.accessAllowed ? 'block' : 'none';\n",
              "\n",
              "      buttonEl.onclick = () => {\n",
              "        google.colab.notebook.generateWithVariable('d');\n",
              "      }\n",
              "      })();\n",
              "    </script>\n",
              "  </div>\n",
              "\n",
              "    </div>\n",
              "  </div>\n"
            ],
            "application/vnd.google.colaboratory.intrinsic+json": {
              "type": "dataframe",
              "variable_name": "d",
              "summary": "{\n  \"name\": \"d\",\n  \"rows\": 360,\n  \"fields\": [\n    {\n      \"column\": \"first_name\",\n      \"properties\": {\n        \"dtype\": \"category\",\n        \"num_unique_values\": 155,\n        \"samples\": [\n          \"Mzamo\",\n          \"S'fiso\",\n          \"Mitchell\"\n        ],\n        \"semantic_type\": \"\",\n        \"description\": \"\"\n      }\n    },\n    {\n      \"column\": \"last_name\",\n      \"properties\": {\n        \"dtype\": \"string\",\n        \"num_unique_values\": 218,\n        \"samples\": [\n          \"Sembathwa\",\n          \"Bailey\",\n          \"Makhanya\"\n        ],\n        \"semantic_type\": \"\",\n        \"description\": \"\"\n      }\n    },\n    {\n      \"column\": \"MSISDN\",\n      \"properties\": {\n        \"dtype\": \"number\",\n        \"std\": 29202821,\n        \"min\": 27700408017,\n        \"max\": 27799933613,\n        \"num_unique_values\": 359,\n        \"samples\": [\n          27760632550,\n          27709367729,\n          27776874455\n        ],\n        \"semantic_type\": \"\",\n        \"description\": \"\"\n      }\n    },\n    {\n      \"column\": \"dob\",\n      \"properties\": {\n        \"dtype\": \"date\",\n        \"min\": \"1940-04-01 00:00:00\",\n        \"max\": \"2006-04-08 00:00:00\",\n        \"num_unique_values\": 102,\n        \"samples\": [\n          \"1990-07-02\",\n          \"1993-01-23\",\n          \"1960-08-21\"\n        ],\n        \"semantic_type\": \"\",\n        \"description\": \"\"\n      }\n    },\n    {\n      \"column\": \"region\",\n      \"properties\": {\n        \"dtype\": \"category\",\n        \"num_unique_values\": 29,\n        \"samples\": [\n          \"Middelburg\",\n          \"Klerksdorp\",\n          \"East London\"\n        ],\n        \"semantic_type\": \"\",\n        \"description\": \"\"\n      }\n    },\n    {\n      \"column\": \"sim_activation_date\",\n      \"properties\": {\n        \"dtype\": \"date\",\n        \"min\": \"2023-07-16 00:00:00\",\n        \"max\": \"2025-06-13 00:00:00\",\n        \"num_unique_values\": 202,\n        \"samples\": [\n          \"2023-09-25\",\n          \"2024-10-27\",\n          \"2023-09-10\"\n        ],\n        \"semantic_type\": \"\",\n        \"description\": \"\"\n      }\n    },\n    {\n      \"column\": \"source_system\",\n      \"properties\": {\n        \"dtype\": \"category\",\n        \"num_unique_values\": 2,\n        \"samples\": [\n          \"VMobile\",\n          \"ArrowMobile\"\n        ],\n        \"semantic_type\": \"\",\n        \"description\": \"\"\n      }\n    },\n    {\n      \"column\": \"total_revenue\",\n      \"properties\": {\n        \"dtype\": \"number\",\n        \"std\": 10380,\n        \"min\": 2549,\n        \"max\": 65705,\n        \"num_unique_values\": 359,\n        \"samples\": [\n          16295,\n          8323\n        ],\n        \"semantic_type\": \"\",\n        \"description\": \"\"\n      }\n    },\n    {\n      \"column\": \"sms_count\",\n      \"properties\": {\n        \"dtype\": \"number\",\n        \"std\": 0,\n        \"min\": 0,\n        \"max\": 0,\n        \"num_unique_values\": 1,\n        \"samples\": [\n          0\n        ],\n        \"semantic_type\": \"\",\n        \"description\": \"\"\n      }\n    },\n    {\n      \"column\": \"voice_count\",\n      \"properties\": {\n        \"dtype\": \"number\",\n        \"std\": 0,\n        \"min\": 0,\n        \"max\": 0,\n        \"num_unique_values\": 1,\n        \"samples\": [\n          0\n        ],\n        \"semantic_type\": \"\",\n        \"description\": \"\"\n      }\n    },\n    {\n      \"column\": \"total_events\",\n      \"properties\": {\n        \"dtype\": \"number\",\n        \"std\": 4,\n        \"min\": 5,\n        \"max\": 27,\n        \"num_unique_values\": 23,\n        \"samples\": [\n          25\n        ],\n        \"semantic_type\": \"\",\n        \"description\": \"\"\n      }\n    }\n  ]\n}"
            }
          },
          "metadata": {},
          "execution_count": 226
        }
      ]
    },
    {
      "cell_type": "code",
      "source": [
        "#Now we know that the qualifying customers are those their Total revenue is >=30\n",
        "#Each subscriber can only qualify once per week. So if they appear multiple times, we count them once."
      ],
      "metadata": {
        "id": "b2TqO2fDrW7g"
      },
      "execution_count": null,
      "outputs": []
    },
    {
      "cell_type": "code",
      "source": [
        "# Example: extract week start and end from usage event dates\n",
        "week_start = VMobile_Usage_Records[\"USAGE_EVENT_DATE_TIME\"].min().normalize()\n",
        "week_end   = VMobile_Usage_Records[\"USAGE_EVENT_DATE_TIME\"].max().normalize()\n",
        "report_date = pd.Timestamp.today().normalize()\n",
        "\n",
        "final_report[\"week_start\"] = week_start.strftime(\"%Y%m%d\")\n",
        "final_report[\"week_end\"]   = week_end.strftime(\"%Y%m%d\")\n",
        "final_report[\"report_date\"] = report_date.strftime(\"%Y%m%d\")\n"
      ],
      "metadata": {
        "id": "1zVB4_nutHZm"
      },
      "execution_count": 227,
      "outputs": []
    },
    {
      "cell_type": "code",
      "source": [
        "# Count qualified subscribers per week\n",
        "trend = final_report.groupby(\"week_start\").agg(\n",
        "    qualified_subscribers=(\"MSISDN\", \"nunique\")  # count unique subscribers\n",
        ").reset_index()\n",
        "\n",
        "import matplotlib.pyplot as plt\n",
        "\n",
        "plt.figure(figsize=(8,5))\n",
        "plt.plot(trend[\"week_start\"], trend[\"qualified_subscribers\"], marker=\"o\")\n",
        "plt.title(\"Trend of Qualified Subscribers Over Time\")\n",
        "plt.xlabel(\"Week Start\")\n",
        "plt.ylabel(\"Number of Qualified Subscribers\")\n",
        "plt.xticks(rotation=45)\n",
        "plt.grid(True)\n",
        "plt.show()\n"
      ],
      "metadata": {
        "colab": {
          "base_uri": "https://localhost:8080/",
          "height": 533
        },
        "id": "OpwihaLUtmTW",
        "outputId": "09cc3bd3-4f50-4074-9e8d-437845450afa"
      },
      "execution_count": 228,
      "outputs": [
        {
          "output_type": "display_data",
          "data": {
            "text/plain": [
              "<Figure size 800x500 with 1 Axes>"
            ],
            "image/png": "[encoded data removed]"
          },
          "metadata": {}
        }
      ]
    },
    {
      "cell_type": "code",
      "source": [
        "# Merge usage records with city lookup\n",
        "VMobile_Usage_Records = VMobile_Usage_Records.merge(\n",
        "    city_lookup[[\"CITY_ID\", \"CITY_NAME\"]],\n",
        "    left_on=\"USAGE_EVENT_CITY_ID\",\n",
        "    right_on=\"CITY_ID\",\n",
        "    how=\"left\"\n",
        ")\n",
        "\n",
        "# Identify qualified subscribers (revenue >= 30) per week per city\n",
        "city_trends = final_report.groupby([\"week_start\", \"region\"]).agg(\n",
        "    qualified_subscribers=(\"MSISDN\", \"nunique\")\n",
        ").reset_index()\n",
        "\n",
        "import seaborn as sns\n",
        "\n",
        "plt.figure(figsize=(10,6))\n",
        "sns.barplot(data=city_trends, x=\"week_start\", y=\"qualified_subscribers\", hue=\"region\")\n",
        "plt.title(\"Qualified Subscribers per City per Week\")\n",
        "plt.xlabel(\"Week Start\")\n",
        "plt.ylabel(\"Qualified Subscribers\")\n",
        "plt.legend(title=\"City/Region\", bbox_to_anchor=(1.05, 1), loc='upper left')\n",
        "plt.xticks(rotation=45)\n",
        "plt.show()\n"
      ],
      "metadata": {
        "colab": {
          "base_uri": "https://localhost:8080/",
          "height": 698
        },
        "id": "6iS8tu1_3I1c",
        "outputId": "f5d4a7d8-a563-490a-d165-5686e0d082e8"
      },
      "execution_count": 229,
      "outputs": [
        {
          "output_type": "display_data",
          "data": {
            "text/plain": [
              "<Figure size 1000x600 with 1 Axes>"
            ],
            "image/png": "[encoded data removed]"
          },
          "metadata": {}
        }
      ]
    },
    {
      "cell_type": "code",
      "source": [
        "import plotly.express as px\n",
        "\n",
        "# Interactive trend line\n",
        "fig = px.line(trend, x=\"week_start\", y=\"qualified_subscribers\",\n",
        "              title=\"Trend of Qualified Subscribers Over Time\")\n",
        "fig.show()\n",
        "\n",
        "# Interactive city comparison\n",
        "fig2 = px.bar(city_trends, x=\"week_start\", y=\"qualified_subscribers\",\n",
        "              color=\"region\", barmode=\"group\",\n",
        "              title=\"Qualified Subscribers per City per Week\")\n",
        "fig2.show()\n"
      ],
      "metadata": {
        "colab": {
          "base_uri": "https://localhost:8080/",
          "height": 1000
        },
        "id": "KSzX0Zwu3gUv",
        "outputId": "8295144e-92d1-45d0-b0ba-6864187636de"
      },
      "execution_count": 230,
      "outputs": [
        {
          "output_type": "display_data",
          "data": {
            "text/html": [
              "<html>\n",
              "<head><meta charset=\"utf-8\" /></head>\n",
              "<body>\n",
              "    <div>            <script src=\"https://cdnjs.cloudflare.com/ajax/libs/mathjax/2.7.5/MathJax.js?config=TeX-AMS-MML_SVG\"></script><script type=\"text/javascript\">if (window.MathJax && window.MathJax.Hub && window.MathJax.Hub.Config) {window.MathJax.Hub.Config({SVG: {font: \"STIX-Web\"}});}</script>                <script type=\"text/javascript\">window.PlotlyConfig = {MathJaxConfig: 'local'};</script>\n",
              "        <script charset=\"utf-8\" src=\"https://cdn.plot.ly/plotly-2.35.2.min.js\"></script>                <div id=\"0e4e0a67-1e8c-467b-82e5-dac6afdab888\" class=\"plotly-graph-div\" style=\"height:525px; width:100%;\"></div>            <script type=\"text/javascript\">                                    window.PLOTLYENV=window.PLOTLYENV || {};                                    if (document.getElementById(\"0e4e0a67-1e8c-467b-82e5-dac6afdab888\")) {                    Plotly.newPlot(                        \"0e4e0a67-1e8c-467b-82e5-dac6afdab888\",                        [{\"hovertemplate\":\"week_start=%{x}\\u003cbr\\u003equalified_subscribers=%{y}\\u003cextra\\u003e\\u003c\\u002fextra\\u003e\",\"legendgroup\":\"\",\"line\":{\"color\":\"#636efa\",\"dash\":\"solid\"},\"marker\":{\"symbol\":\"circle\"},\"mode\":\"lines\",\"name\":\"\",\"orientation\":\"v\",\"showlegend\":false,\"x\":[\"20250714\"],\"xaxis\":\"x\",\"y\":[359],\"yaxis\":\"y\",\"type\":\"scatter\"}],                        {\"template\":{\"data\":{\"histogram2dcontour\":[{\"type\":\"histogram2dcontour\",\"colorbar\":{\"outlinewidth\":0,\"ticks\":\"\"},\"colorscale\":[[0.0,\"#0d0887\"],[0.1111111111111111,\"#46039f\"],[0.2222222222222222,\"#7201a8\"],[0.3333333333333333,\"#9c179e\"],[0.4444444444444444,\"#bd3786\"],[0.5555555555555556,\"#d8576b\"],[0.6666666666666666,\"#ed7953\"],[0.7777777777777778,\"#fb9f3a\"],[0.8888888888888888,\"#fdca26\"],[1.0,\"#f0f921\"]]}],\"choropleth\":[{\"type\":\"choropleth\",\"colorbar\":{\"outlinewidth\":0,\"ticks\":\"\"}}],\"histogram2d\":[{\"type\":\"histogram2d\",\"colorbar\":{\"outlinewidth\":0,\"ticks\":\"\"},\"colorscale\":[[0.0,\"#0d0887\"],[0.1111111111111111,\"#46039f\"],[0.2222222222222222,\"#7201a8\"],[0.3333333333333333,\"#9c179e\"],[0.4444444444444444,\"#bd3786\"],[0.5555555555555556,\"#d8576b\"],[0.6666666666666666,\"#ed7953\"],[0.7777777777777778,\"#fb9f3a\"],[0.8888888888888888,\"#fdca26\"],[1.0,\"#f0f921\"]]}],\"heatmap\":[{\"type\":\"heatmap\",\"colorbar\":{\"outlinewidth\":0,\"ticks\":\"\"},\"colorscale\":[[0.0,\"#0d0887\"],[0.1111111111111111,\"#46039f\"],[0.2222222222222222,\"#7201a8\"],[0.3333333333333333,\"#9c179e\"],[0.4444444444444444,\"#bd3786\"],[0.5555555555555556,\"#d8576b\"],[0.6666666666666666,\"#ed7953\"],[0.7777777777777778,\"#fb9f3a\"],[0.8888888888888888,\"#fdca26\"],[1.0,\"#f0f921\"]]}],\"heatmapgl\":[{\"type\":\"heatmapgl\",\"colorbar\":{\"outlinewidth\":0,\"ticks\":\"\"},\"colorscale\":[[0.0,\"#0d0887\"],[0.1111111111111111,\"#46039f\"],[0.2222222222222222,\"#7201a8\"],[0.3333333333333333,\"#9c179e\"],[0.4444444444444444,\"#bd3786\"],[0.5555555555555556,\"#d8576b\"],[0.6666666666666666,\"#ed7953\"],[0.7777777777777778,\"#fb9f3a\"],[0.8888888888888888,\"#fdca26\"],[1.0,\"#f0f921\"]]}],\"contourcarpet\":[{\"type\":\"contourcarpet\",\"colorbar\":{\"outlinewidth\":0,\"ticks\":\"\"}}],\"contour\":[{\"type\":\"contour\",\"colorbar\":{\"outlinewidth\":0,\"ticks\":\"\"},\"colorscale\":[[0.0,\"#0d0887\"],[0.1111111111111111,\"#46039f\"],[0.2222222222222222,\"#7201a8\"],[0.3333333333333333,\"#9c179e\"],[0.4444444444444444,\"#bd3786\"],[0.5555555555555556,\"#d8576b\"],[0.6666666666666666,\"#ed7953\"],[0.7777777777777778,\"#fb9f3a\"],[0.8888888888888888,\"#fdca26\"],[1.0,\"#f0f921\"]]}],\"surface\":[{\"type\":\"surface\",\"colorbar\":{\"outlinewidth\":0,\"ticks\":\"\"},\"colorscale\":[[0.0,\"#0d0887\"],[0.1111111111111111,\"#46039f\"],[0.2222222222222222,\"#7201a8\"],[0.3333333333333333,\"#9c179e\"],[0.4444444444444444,\"#bd3786\"],[0.5555555555555556,\"#d8576b\"],[0.6666666666666666,\"#ed7953\"],[0.7777777777777778,\"#fb9f3a\"],[0.8888888888888888,\"#fdca26\"],[1.0,\"#f0f921\"]]}],\"mesh3d\":[{\"type\":\"mesh3d\",\"colorbar\":{\"outlinewidth\":0,\"ticks\":\"\"}}],\"scatter\":[{\"fillpattern\":{\"fillmode\":\"overlay\",\"size\":10,\"solidity\":0.2},\"type\":\"scatter\"}],\"parcoords\":[{\"type\":\"parcoords\",\"line\":{\"colorbar\":{\"outlinewidth\":0,\"ticks\":\"\"}}}],\"scatterpolargl\":[{\"type\":\"scatterpolargl\",\"marker\":{\"colorbar\":{\"outlinewidth\":0,\"ticks\":\"\"}}}],\"bar\":[{\"error_x\":{\"color\":\"#2a3f5f\"},\"error_y\":{\"color\":\"#2a3f5f\"},\"marker\":{\"line\":{\"color\":\"#E5ECF6\",\"width\":0.5},\"pattern\":{\"fillmode\":\"overlay\",\"size\":10,\"solidity\":0.2}},\"type\":\"bar\"}],\"scattergeo\":[{\"type\":\"scattergeo\",\"marker\":{\"colorbar\":{\"outlinewidth\":0,\"ticks\":\"\"}}}],\"scatterpolar\":[{\"type\":\"scatterpolar\",\"marker\":{\"colorbar\":{\"outlinewidth\":0,\"ticks\":\"\"}}}],\"histogram\":[{\"marker\":{\"pattern\":{\"fillmode\":\"overlay\",\"size\":10,\"solidity\":0.2}},\"type\":\"histogram\"}],\"scattergl\":[{\"type\":\"scattergl\",\"marker\":{\"colorbar\":{\"outlinewidth\":0,\"ticks\":\"\"}}}],\"scatter3d\":[{\"type\":\"scatter3d\",\"line\":{\"colorbar\":{\"outlinewidth\":0,\"ticks\":\"\"}},\"marker\":{\"colorbar\":{\"outlinewidth\":0,\"ticks\":\"\"}}}],\"scattermapbox\":[{\"type\":\"scattermapbox\",\"marker\":{\"colorbar\":{\"outlinewidth\":0,\"ticks\":\"\"}}}],\"scatterternary\":[{\"type\":\"scatterternary\",\"marker\":{\"colorbar\":{\"outlinewidth\":0,\"ticks\":\"\"}}}],\"scattercarpet\":[{\"type\":\"scattercarpet\",\"marker\":{\"colorbar\":{\"outlinewidth\":0,\"ticks\":\"\"}}}],\"carpet\":[{\"aaxis\":{\"endlinecolor\":\"#2a3f5f\",\"gridcolor\":\"white\",\"linecolor\":\"white\",\"minorgridcolor\":\"white\",\"startlinecolor\":\"#2a3f5f\"},\"baxis\":{\"endlinecolor\":\"#2a3f5f\",\"gridcolor\":\"white\",\"linecolor\":\"white\",\"minorgridcolor\":\"white\",\"startlinecolor\":\"#2a3f5f\"},\"type\":\"carpet\"}],\"table\":[{\"cells\":{\"fill\":{\"color\":\"#EBF0F8\"},\"line\":{\"color\":\"white\"}},\"header\":{\"fill\":{\"color\":\"#C8D4E3\"},\"line\":{\"color\":\"white\"}},\"type\":\"table\"}],\"barpolar\":[{\"marker\":{\"line\":{\"color\":\"#E5ECF6\",\"width\":0.5},\"pattern\":{\"fillmode\":\"overlay\",\"size\":10,\"solidity\":0.2}},\"type\":\"barpolar\"}],\"pie\":[{\"automargin\":true,\"type\":\"pie\"}]},\"layout\":{\"autotypenumbers\":\"strict\",\"colorway\":[\"#636efa\",\"#EF553B\",\"#00cc96\",\"#ab63fa\",\"#FFA15A\",\"#19d3f3\",\"#FF6692\",\"#B6E880\",\"#FF97FF\",\"#FECB52\"],\"font\":{\"color\":\"#2a3f5f\"},\"hovermode\":\"closest\",\"hoverlabel\":{\"align\":\"left\"},\"paper_bgcolor\":\"white\",\"plot_bgcolor\":\"#E5ECF6\",\"polar\":{\"bgcolor\":\"#E5ECF6\",\"angularaxis\":{\"gridcolor\":\"white\",\"linecolor\":\"white\",\"ticks\":\"\"},\"radialaxis\":{\"gridcolor\":\"white\",\"linecolor\":\"white\",\"ticks\":\"\"}},\"ternary\":{\"bgcolor\":\"#E5ECF6\",\"aaxis\":{\"gridcolor\":\"white\",\"linecolor\":\"white\",\"ticks\":\"\"},\"baxis\":{\"gridcolor\":\"white\",\"linecolor\":\"white\",\"ticks\":\"\"},\"caxis\":{\"gridcolor\":\"white\",\"linecolor\":\"white\",\"ticks\":\"\"}},\"coloraxis\":{\"colorbar\":{\"outlinewidth\":0,\"ticks\":\"\"}},\"colorscale\":{\"sequential\":[[0.0,\"#0d0887\"],[0.1111111111111111,\"#46039f\"],[0.2222222222222222,\"#7201a8\"],[0.3333333333333333,\"#9c179e\"],[0.4444444444444444,\"#bd3786\"],[0.5555555555555556,\"#d8576b\"],[0.6666666666666666,\"#ed7953\"],[0.7777777777777778,\"#fb9f3a\"],[0.8888888888888888,\"#fdca26\"],[1.0,\"#f0f921\"]],\"sequentialminus\":[[0.0,\"#0d0887\"],[0.1111111111111111,\"#46039f\"],[0.2222222222222222,\"#7201a8\"],[0.3333333333333333,\"#9c179e\"],[0.4444444444444444,\"#bd3786\"],[0.5555555555555556,\"#d8576b\"],[0.6666666666666666,\"#ed7953\"],[0.7777777777777778,\"#fb9f3a\"],[0.8888888888888888,\"#fdca26\"],[1.0,\"#f0f921\"]],\"diverging\":[[0,\"#8e0152\"],[0.1,\"#c51b7d\"],[0.2,\"#de77ae\"],[0.3,\"#f1b6da\"],[0.4,\"#fde0ef\"],[0.5,\"#f7f7f7\"],[0.6,\"#e6f5d0\"],[0.7,\"#b8e186\"],[0.8,\"#7fbc41\"],[0.9,\"#4d9221\"],[1,\"#276419\"]]},\"xaxis\":{\"gridcolor\":\"white\",\"linecolor\":\"white\",\"ticks\":\"\",\"title\":{\"standoff\":15},\"zerolinecolor\":\"white\",\"automargin\":true,\"zerolinewidth\":2},\"yaxis\":{\"gridcolor\":\"white\",\"linecolor\":\"white\",\"ticks\":\"\",\"title\":{\"standoff\":15},\"zerolinecolor\":\"white\",\"automargin\":true,\"zerolinewidth\":2},\"scene\":{\"xaxis\":{\"backgroundcolor\":\"#E5ECF6\",\"gridcolor\":\"white\",\"linecolor\":\"white\",\"showbackground\":true,\"ticks\":\"\",\"zerolinecolor\":\"white\",\"gridwidth\":2},\"yaxis\":{\"backgroundcolor\":\"#E5ECF6\",\"gridcolor\":\"white\",\"linecolor\":\"white\",\"showbackground\":true,\"ticks\":\"\",\"zerolinecolor\":\"white\",\"gridwidth\":2},\"zaxis\":{\"backgroundcolor\":\"#E5ECF6\",\"gridcolor\":\"white\",\"linecolor\":\"white\",\"showbackground\":true,\"ticks\":\"\",\"zerolinecolor\":\"white\",\"gridwidth\":2}},\"shapedefaults\":{\"line\":{\"color\":\"#2a3f5f\"}},\"annotationdefaults\":{\"arrowcolor\":\"#2a3f5f\",\"arrowhead\":0,\"arrowwidth\":1},\"geo\":{\"bgcolor\":\"white\",\"landcolor\":\"#E5ECF6\",\"subunitcolor\":\"white\",\"showland\":true,\"showlakes\":true,\"lakecolor\":\"white\"},\"title\":{\"x\":0.05},\"mapbox\":{\"style\":\"light\"}}},\"xaxis\":{\"anchor\":\"y\",\"domain\":[0.0,1.0],\"title\":{\"text\":\"week_start\"}},\"yaxis\":{\"anchor\":\"x\",\"domain\":[0.0,1.0],\"title\":{\"text\":\"qualified_subscribers\"}},\"legend\":{\"tracegroupgap\":0},\"title\":{\"text\":\"Trend of Qualified Subscribers Over Time\"}},                        {\"responsive\": true}                    ).then(function(){\n",
              "                            \n",
              "var gd = document.getElementById('0e4e0a67-1e8c-467b-82e5-dac6afdab888');\n",
              "var x = new MutationObserver(function (mutations, observer) {{\n",
              "        var display = window.getComputedStyle(gd).display;\n",
              "        if (!display || display === 'none') {{\n",
              "            console.log([gd, 'removed!']);\n",
              "            Plotly.purge(gd);\n",
              "            observer.disconnect();\n",
              "        }}\n",
              "}});\n",
              "\n",
              "// Listen for the removal of the full notebook cells\n",
              "var notebookContainer = gd.closest('#notebook-container');\n",
              "if (notebookContainer) {{\n",
              "    x.observe(notebookContainer, {childList: true});\n",
              "}}\n",
              "\n",
              "// Listen for the clearing of the current output cell\n",
              "var outputEl = gd.closest('.output');\n",
              "if (outputEl) {{\n",
              "    x.observe(outputEl, {childList: true});\n",
              "}}\n",
              "\n",
              "                        })                };                            </script>        </div>\n",
              "</body>\n",
              "</html>"
            ]
          },
          "metadata": {}
        },
        {
          "output_type": "display_data",
          "data": {
            "text/html": [
              "<html>\n",
              "<head><meta charset=\"utf-8\" /></head>\n",
              "<body>\n",
              "    <div>            <script src=\"https://cdnjs.cloudflare.com/ajax/libs/mathjax/2.7.5/MathJax.js?config=TeX-AMS-MML_SVG\"></script><script type=\"text/javascript\">if (window.MathJax && window.MathJax.Hub && window.MathJax.Hub.Config) {window.MathJax.Hub.Config({SVG: {font: \"STIX-Web\"}});}</script>                <script type=\"text/javascript\">window.PlotlyConfig = {MathJaxConfig: 'local'};</script>\n",
              "        <script charset=\"utf-8\" src=\"https://cdn.plot.ly/plotly-2.35.2.min.js\"></script>                <div id=\"74544397-0662-42cb-b2d8-30bdc1c663b8\" class=\"plotly-graph-div\" style=\"height:525px; width:100%;\"></div>            <script type=\"text/javascript\">                                    window.PLOTLYENV=window.PLOTLYENV || {};                                    if (document.getElementById(\"74544397-0662-42cb-b2d8-30bdc1c663b8\")) {                    Plotly.newPlot(                        \"74544397-0662-42cb-b2d8-30bdc1c663b8\",                        [{\"alignmentgroup\":\"True\",\"hovertemplate\":\"region=Benoni\\u003cbr\\u003eweek_start=%{x}\\u003cbr\\u003equalified_subscribers=%{y}\\u003cextra\\u003e\\u003c\\u002fextra\\u003e\",\"legendgroup\":\"Benoni\",\"marker\":{\"color\":\"#636efa\",\"pattern\":{\"shape\":\"\"}},\"name\":\"Benoni\",\"offsetgroup\":\"Benoni\",\"orientation\":\"v\",\"showlegend\":true,\"textposition\":\"auto\",\"x\":[\"20250714\"],\"xaxis\":\"x\",\"y\":[2],\"yaxis\":\"y\",\"type\":\"bar\"},{\"alignmentgroup\":\"True\",\"hovertemplate\":\"region=Bloemfontein\\u003cbr\\u003eweek_start=%{x}\\u003cbr\\u003equalified_subscribers=%{y}\\u003cextra\\u003e\\u003c\\u002fextra\\u003e\",\"legendgroup\":\"Bloemfontein\",\"marker\":{\"color\":\"#EF553B\",\"pattern\":{\"shape\":\"\"}},\"name\":\"Bloemfontein\",\"offsetgroup\":\"Bloemfontein\",\"orientation\":\"v\",\"showlegend\":true,\"textposition\":\"auto\",\"x\":[\"20250714\"],\"xaxis\":\"x\",\"y\":[5],\"yaxis\":\"y\",\"type\":\"bar\"},{\"alignmentgroup\":\"True\",\"hovertemplate\":\"region=Boksburg\\u003cbr\\u003eweek_start=%{x}\\u003cbr\\u003equalified_subscribers=%{y}\\u003cextra\\u003e\\u003c\\u002fextra\\u003e\",\"legendgroup\":\"Boksburg\",\"marker\":{\"color\":\"#00cc96\",\"pattern\":{\"shape\":\"\"}},\"name\":\"Boksburg\",\"offsetgroup\":\"Boksburg\",\"orientation\":\"v\",\"showlegend\":true,\"textposition\":\"auto\",\"x\":[\"20250714\"],\"xaxis\":\"x\",\"y\":[4],\"yaxis\":\"y\",\"type\":\"bar\"},{\"alignmentgroup\":\"True\",\"hovertemplate\":\"region=Cape Town\\u003cbr\\u003eweek_start=%{x}\\u003cbr\\u003equalified_subscribers=%{y}\\u003cextra\\u003e\\u003c\\u002fextra\\u003e\",\"legendgroup\":\"Cape Town\",\"marker\":{\"color\":\"#ab63fa\",\"pattern\":{\"shape\":\"\"}},\"name\":\"Cape Town\",\"offsetgroup\":\"Cape Town\",\"orientation\":\"v\",\"showlegend\":true,\"textposition\":\"auto\",\"x\":[\"20250714\"],\"xaxis\":\"x\",\"y\":[42],\"yaxis\":\"y\",\"type\":\"bar\"},{\"alignmentgroup\":\"True\",\"hovertemplate\":\"region=Durban\\u003cbr\\u003eweek_start=%{x}\\u003cbr\\u003equalified_subscribers=%{y}\\u003cextra\\u003e\\u003c\\u002fextra\\u003e\",\"legendgroup\":\"Durban\",\"marker\":{\"color\":\"#FFA15A\",\"pattern\":{\"shape\":\"\"}},\"name\":\"Durban\",\"offsetgroup\":\"Durban\",\"orientation\":\"v\",\"showlegend\":true,\"textposition\":\"auto\",\"x\":[\"20250714\"],\"xaxis\":\"x\",\"y\":[25],\"yaxis\":\"y\",\"type\":\"bar\"},{\"alignmentgroup\":\"True\",\"hovertemplate\":\"region=East London\\u003cbr\\u003eweek_start=%{x}\\u003cbr\\u003equalified_subscribers=%{y}\\u003cextra\\u003e\\u003c\\u002fextra\\u003e\",\"legendgroup\":\"East London\",\"marker\":{\"color\":\"#19d3f3\",\"pattern\":{\"shape\":\"\"}},\"name\":\"East London\",\"offsetgroup\":\"East London\",\"orientation\":\"v\",\"showlegend\":true,\"textposition\":\"auto\",\"x\":[\"20250714\"],\"xaxis\":\"x\",\"y\":[7],\"yaxis\":\"y\",\"type\":\"bar\"},{\"alignmentgroup\":\"True\",\"hovertemplate\":\"region=Ekurhuleni\\u003cbr\\u003eweek_start=%{x}\\u003cbr\\u003equalified_subscribers=%{y}\\u003cextra\\u003e\\u003c\\u002fextra\\u003e\",\"legendgroup\":\"Ekurhuleni\",\"marker\":{\"color\":\"#FF6692\",\"pattern\":{\"shape\":\"\"}},\"name\":\"Ekurhuleni\",\"offsetgroup\":\"Ekurhuleni\",\"orientation\":\"v\",\"showlegend\":true,\"textposition\":\"auto\",\"x\":[\"20250714\"],\"xaxis\":\"x\",\"y\":[28],\"yaxis\":\"y\",\"type\":\"bar\"},{\"alignmentgroup\":\"True\",\"hovertemplate\":\"region=George\\u003cbr\\u003eweek_start=%{x}\\u003cbr\\u003equalified_subscribers=%{y}\\u003cextra\\u003e\\u003c\\u002fextra\\u003e\",\"legendgroup\":\"George\",\"marker\":{\"color\":\"#B6E880\",\"pattern\":{\"shape\":\"\"}},\"name\":\"George\",\"offsetgroup\":\"George\",\"orientation\":\"v\",\"showlegend\":true,\"textposition\":\"auto\",\"x\":[\"20250714\"],\"xaxis\":\"x\",\"y\":[1],\"yaxis\":\"y\",\"type\":\"bar\"},{\"alignmentgroup\":\"True\",\"hovertemplate\":\"region=Johannesburg\\u003cbr\\u003eweek_start=%{x}\\u003cbr\\u003equalified_subscribers=%{y}\\u003cextra\\u003e\\u003c\\u002fextra\\u003e\",\"legendgroup\":\"Johannesburg\",\"marker\":{\"color\":\"#FF97FF\",\"pattern\":{\"shape\":\"\"}},\"name\":\"Johannesburg\",\"offsetgroup\":\"Johannesburg\",\"orientation\":\"v\",\"showlegend\":true,\"textposition\":\"auto\",\"x\":[\"20250714\"],\"xaxis\":\"x\",\"y\":[32],\"yaxis\":\"y\",\"type\":\"bar\"},{\"alignmentgroup\":\"True\",\"hovertemplate\":\"region=Kaapstad\\u003cbr\\u003eweek_start=%{x}\\u003cbr\\u003equalified_subscribers=%{y}\\u003cextra\\u003e\\u003c\\u002fextra\\u003e\",\"legendgroup\":\"Kaapstad\",\"marker\":{\"color\":\"#FECB52\",\"pattern\":{\"shape\":\"\"}},\"name\":\"Kaapstad\",\"offsetgroup\":\"Kaapstad\",\"orientation\":\"v\",\"showlegend\":true,\"textposition\":\"auto\",\"x\":[\"20250714\"],\"xaxis\":\"x\",\"y\":[1],\"yaxis\":\"y\",\"type\":\"bar\"},{\"alignmentgroup\":\"True\",\"hovertemplate\":\"region=Kimberley\\u003cbr\\u003eweek_start=%{x}\\u003cbr\\u003equalified_subscribers=%{y}\\u003cextra\\u003e\\u003c\\u002fextra\\u003e\",\"legendgroup\":\"Kimberley\",\"marker\":{\"color\":\"#636efa\",\"pattern\":{\"shape\":\"\"}},\"name\":\"Kimberley\",\"offsetgroup\":\"Kimberley\",\"orientation\":\"v\",\"showlegend\":true,\"textposition\":\"auto\",\"x\":[\"20250714\"],\"xaxis\":\"x\",\"y\":[2],\"yaxis\":\"y\",\"type\":\"bar\"},{\"alignmentgroup\":\"True\",\"hovertemplate\":\"region=Klerksdorp\\u003cbr\\u003eweek_start=%{x}\\u003cbr\\u003equalified_subscribers=%{y}\\u003cextra\\u003e\\u003c\\u002fextra\\u003e\",\"legendgroup\":\"Klerksdorp\",\"marker\":{\"color\":\"#EF553B\",\"pattern\":{\"shape\":\"\"}},\"name\":\"Klerksdorp\",\"offsetgroup\":\"Klerksdorp\",\"orientation\":\"v\",\"showlegend\":true,\"textposition\":\"auto\",\"x\":[\"20250714\"],\"xaxis\":\"x\",\"y\":[4],\"yaxis\":\"y\",\"type\":\"bar\"},{\"alignmentgroup\":\"True\",\"hovertemplate\":\"region=Krugersdorp\\u003cbr\\u003eweek_start=%{x}\\u003cbr\\u003equalified_subscribers=%{y}\\u003cextra\\u003e\\u003c\\u002fextra\\u003e\",\"legendgroup\":\"Krugersdorp\",\"marker\":{\"color\":\"#00cc96\",\"pattern\":{\"shape\":\"\"}},\"name\":\"Krugersdorp\",\"offsetgroup\":\"Krugersdorp\",\"orientation\":\"v\",\"showlegend\":true,\"textposition\":\"auto\",\"x\":[\"20250714\"],\"xaxis\":\"x\",\"y\":[5],\"yaxis\":\"y\",\"type\":\"bar\"},{\"alignmentgroup\":\"True\",\"hovertemplate\":\"region=Middelburg\\u003cbr\\u003eweek_start=%{x}\\u003cbr\\u003equalified_subscribers=%{y}\\u003cextra\\u003e\\u003c\\u002fextra\\u003e\",\"legendgroup\":\"Middelburg\",\"marker\":{\"color\":\"#ab63fa\",\"pattern\":{\"shape\":\"\"}},\"name\":\"Middelburg\",\"offsetgroup\":\"Middelburg\",\"orientation\":\"v\",\"showlegend\":true,\"textposition\":\"auto\",\"x\":[\"20250714\"],\"xaxis\":\"x\",\"y\":[1],\"yaxis\":\"y\",\"type\":\"bar\"},{\"alignmentgroup\":\"True\",\"hovertemplate\":\"region=Nelspruit\\u003cbr\\u003eweek_start=%{x}\\u003cbr\\u003equalified_subscribers=%{y}\\u003cextra\\u003e\\u003c\\u002fextra\\u003e\",\"legendgroup\":\"Nelspruit\",\"marker\":{\"color\":\"#FFA15A\",\"pattern\":{\"shape\":\"\"}},\"name\":\"Nelspruit\",\"offsetgroup\":\"Nelspruit\",\"orientation\":\"v\",\"showlegend\":true,\"textposition\":\"auto\",\"x\":[\"20250714\"],\"xaxis\":\"x\",\"y\":[3],\"yaxis\":\"y\",\"type\":\"bar\"},{\"alignmentgroup\":\"True\",\"hovertemplate\":\"region=Newcastle\\u003cbr\\u003eweek_start=%{x}\\u003cbr\\u003equalified_subscribers=%{y}\\u003cextra\\u003e\\u003c\\u002fextra\\u003e\",\"legendgroup\":\"Newcastle\",\"marker\":{\"color\":\"#19d3f3\",\"pattern\":{\"shape\":\"\"}},\"name\":\"Newcastle\",\"offsetgroup\":\"Newcastle\",\"orientation\":\"v\",\"showlegend\":true,\"textposition\":\"auto\",\"x\":[\"20250714\"],\"xaxis\":\"x\",\"y\":[5],\"yaxis\":\"y\",\"type\":\"bar\"},{\"alignmentgroup\":\"True\",\"hovertemplate\":\"region=Pietermaritzburg\\u003cbr\\u003eweek_start=%{x}\\u003cbr\\u003equalified_subscribers=%{y}\\u003cextra\\u003e\\u003c\\u002fextra\\u003e\",\"legendgroup\":\"Pietermaritzburg\",\"marker\":{\"color\":\"#FF6692\",\"pattern\":{\"shape\":\"\"}},\"name\":\"Pietermaritzburg\",\"offsetgroup\":\"Pietermaritzburg\",\"orientation\":\"v\",\"showlegend\":true,\"textposition\":\"auto\",\"x\":[\"20250714\"],\"xaxis\":\"x\",\"y\":[4],\"yaxis\":\"y\",\"type\":\"bar\"},{\"alignmentgroup\":\"True\",\"hovertemplate\":\"region=Polokwane\\u003cbr\\u003eweek_start=%{x}\\u003cbr\\u003equalified_subscribers=%{y}\\u003cextra\\u003e\\u003c\\u002fextra\\u003e\",\"legendgroup\":\"Polokwane\",\"marker\":{\"color\":\"#B6E880\",\"pattern\":{\"shape\":\"\"}},\"name\":\"Polokwane\",\"offsetgroup\":\"Polokwane\",\"orientation\":\"v\",\"showlegend\":true,\"textposition\":\"auto\",\"x\":[\"20250714\"],\"xaxis\":\"x\",\"y\":[3],\"yaxis\":\"y\",\"type\":\"bar\"},{\"alignmentgroup\":\"True\",\"hovertemplate\":\"region=Port Elizabeth\\u003cbr\\u003eweek_start=%{x}\\u003cbr\\u003equalified_subscribers=%{y}\\u003cextra\\u003e\\u003c\\u002fextra\\u003e\",\"legendgroup\":\"Port Elizabeth\",\"marker\":{\"color\":\"#FF97FF\",\"pattern\":{\"shape\":\"\"}},\"name\":\"Port Elizabeth\",\"offsetgroup\":\"Port Elizabeth\",\"orientation\":\"v\",\"showlegend\":true,\"textposition\":\"auto\",\"x\":[\"20250714\"],\"xaxis\":\"x\",\"y\":[10],\"yaxis\":\"y\",\"type\":\"bar\"},{\"alignmentgroup\":\"True\",\"hovertemplate\":\"region=Pretoria\\u003cbr\\u003eweek_start=%{x}\\u003cbr\\u003equalified_subscribers=%{y}\\u003cextra\\u003e\\u003c\\u002fextra\\u003e\",\"legendgroup\":\"Pretoria\",\"marker\":{\"color\":\"#FECB52\",\"pattern\":{\"shape\":\"\"}},\"name\":\"Pretoria\",\"offsetgroup\":\"Pretoria\",\"orientation\":\"v\",\"showlegend\":true,\"textposition\":\"auto\",\"x\":[\"20250714\"],\"xaxis\":\"x\",\"y\":[19],\"yaxis\":\"y\",\"type\":\"bar\"},{\"alignmentgroup\":\"True\",\"hovertemplate\":\"region=Rustenburg\\u003cbr\\u003eweek_start=%{x}\\u003cbr\\u003equalified_subscribers=%{y}\\u003cextra\\u003e\\u003c\\u002fextra\\u003e\",\"legendgroup\":\"Rustenburg\",\"marker\":{\"color\":\"#636efa\",\"pattern\":{\"shape\":\"\"}},\"name\":\"Rustenburg\",\"offsetgroup\":\"Rustenburg\",\"orientation\":\"v\",\"showlegend\":true,\"textposition\":\"auto\",\"x\":[\"20250714\"],\"xaxis\":\"x\",\"y\":[2],\"yaxis\":\"y\",\"type\":\"bar\"},{\"alignmentgroup\":\"True\",\"hovertemplate\":\"region=Soshanguve\\u003cbr\\u003eweek_start=%{x}\\u003cbr\\u003equalified_subscribers=%{y}\\u003cextra\\u003e\\u003c\\u002fextra\\u003e\",\"legendgroup\":\"Soshanguve\",\"marker\":{\"color\":\"#EF553B\",\"pattern\":{\"shape\":\"\"}},\"name\":\"Soshanguve\",\"offsetgroup\":\"Soshanguve\",\"orientation\":\"v\",\"showlegend\":true,\"textposition\":\"auto\",\"x\":[\"20250714\"],\"xaxis\":\"x\",\"y\":[6],\"yaxis\":\"y\",\"type\":\"bar\"},{\"alignmentgroup\":\"True\",\"hovertemplate\":\"region=Springs\\u003cbr\\u003eweek_start=%{x}\\u003cbr\\u003equalified_subscribers=%{y}\\u003cextra\\u003e\\u003c\\u002fextra\\u003e\",\"legendgroup\":\"Springs\",\"marker\":{\"color\":\"#00cc96\",\"pattern\":{\"shape\":\"\"}},\"name\":\"Springs\",\"offsetgroup\":\"Springs\",\"orientation\":\"v\",\"showlegend\":true,\"textposition\":\"auto\",\"x\":[\"20250714\"],\"xaxis\":\"x\",\"y\":[2],\"yaxis\":\"y\",\"type\":\"bar\"},{\"alignmentgroup\":\"True\",\"hovertemplate\":\"region=Thohoyandou\\u003cbr\\u003eweek_start=%{x}\\u003cbr\\u003equalified_subscribers=%{y}\\u003cextra\\u003e\\u003c\\u002fextra\\u003e\",\"legendgroup\":\"Thohoyandou\",\"marker\":{\"color\":\"#ab63fa\",\"pattern\":{\"shape\":\"\"}},\"name\":\"Thohoyandou\",\"offsetgroup\":\"Thohoyandou\",\"orientation\":\"v\",\"showlegend\":true,\"textposition\":\"auto\",\"x\":[\"20250714\"],\"xaxis\":\"x\",\"y\":[1],\"yaxis\":\"y\",\"type\":\"bar\"},{\"alignmentgroup\":\"True\",\"hovertemplate\":\"region=Uitenhage\\u003cbr\\u003eweek_start=%{x}\\u003cbr\\u003equalified_subscribers=%{y}\\u003cextra\\u003e\\u003c\\u002fextra\\u003e\",\"legendgroup\":\"Uitenhage\",\"marker\":{\"color\":\"#FFA15A\",\"pattern\":{\"shape\":\"\"}},\"name\":\"Uitenhage\",\"offsetgroup\":\"Uitenhage\",\"orientation\":\"v\",\"showlegend\":true,\"textposition\":\"auto\",\"x\":[\"20250714\"],\"xaxis\":\"x\",\"y\":[1],\"yaxis\":\"y\",\"type\":\"bar\"},{\"alignmentgroup\":\"True\",\"hovertemplate\":\"region=Vereeniging\\u003cbr\\u003eweek_start=%{x}\\u003cbr\\u003equalified_subscribers=%{y}\\u003cextra\\u003e\\u003c\\u002fextra\\u003e\",\"legendgroup\":\"Vereeniging\",\"marker\":{\"color\":\"#19d3f3\",\"pattern\":{\"shape\":\"\"}},\"name\":\"Vereeniging\",\"offsetgroup\":\"Vereeniging\",\"orientation\":\"v\",\"showlegend\":true,\"textposition\":\"auto\",\"x\":[\"20250714\"],\"xaxis\":\"x\",\"y\":[8],\"yaxis\":\"y\",\"type\":\"bar\"},{\"alignmentgroup\":\"True\",\"hovertemplate\":\"region=Welkom\\u003cbr\\u003eweek_start=%{x}\\u003cbr\\u003equalified_subscribers=%{y}\\u003cextra\\u003e\\u003c\\u002fextra\\u003e\",\"legendgroup\":\"Welkom\",\"marker\":{\"color\":\"#FF6692\",\"pattern\":{\"shape\":\"\"}},\"name\":\"Welkom\",\"offsetgroup\":\"Welkom\",\"orientation\":\"v\",\"showlegend\":true,\"textposition\":\"auto\",\"x\":[\"20250714\"],\"xaxis\":\"x\",\"y\":[4],\"yaxis\":\"y\",\"type\":\"bar\"},{\"alignmentgroup\":\"True\",\"hovertemplate\":\"region=West Rand\\u003cbr\\u003eweek_start=%{x}\\u003cbr\\u003equalified_subscribers=%{y}\\u003cextra\\u003e\\u003c\\u002fextra\\u003e\",\"legendgroup\":\"West Rand\",\"marker\":{\"color\":\"#B6E880\",\"pattern\":{\"shape\":\"\"}},\"name\":\"West Rand\",\"offsetgroup\":\"West Rand\",\"orientation\":\"v\",\"showlegend\":true,\"textposition\":\"auto\",\"x\":[\"20250714\"],\"xaxis\":\"x\",\"y\":[10],\"yaxis\":\"y\",\"type\":\"bar\"},{\"alignmentgroup\":\"True\",\"hovertemplate\":\"region=Witbank\\u003cbr\\u003eweek_start=%{x}\\u003cbr\\u003equalified_subscribers=%{y}\\u003cextra\\u003e\\u003c\\u002fextra\\u003e\",\"legendgroup\":\"Witbank\",\"marker\":{\"color\":\"#FF97FF\",\"pattern\":{\"shape\":\"\"}},\"name\":\"Witbank\",\"offsetgroup\":\"Witbank\",\"orientation\":\"v\",\"showlegend\":true,\"textposition\":\"auto\",\"x\":[\"20250714\"],\"xaxis\":\"x\",\"y\":[3],\"yaxis\":\"y\",\"type\":\"bar\"}],                        {\"template\":{\"data\":{\"histogram2dcontour\":[{\"type\":\"histogram2dcontour\",\"colorbar\":{\"outlinewidth\":0,\"ticks\":\"\"},\"colorscale\":[[0.0,\"#0d0887\"],[0.1111111111111111,\"#46039f\"],[0.2222222222222222,\"#7201a8\"],[0.3333333333333333,\"#9c179e\"],[0.4444444444444444,\"#bd3786\"],[0.5555555555555556,\"#d8576b\"],[0.6666666666666666,\"#ed7953\"],[0.7777777777777778,\"#fb9f3a\"],[0.8888888888888888,\"#fdca26\"],[1.0,\"#f0f921\"]]}],\"choropleth\":[{\"type\":\"choropleth\",\"colorbar\":{\"outlinewidth\":0,\"ticks\":\"\"}}],\"histogram2d\":[{\"type\":\"histogram2d\",\"colorbar\":{\"outlinewidth\":0,\"ticks\":\"\"},\"colorscale\":[[0.0,\"#0d0887\"],[0.1111111111111111,\"#46039f\"],[0.2222222222222222,\"#7201a8\"],[0.3333333333333333,\"#9c179e\"],[0.4444444444444444,\"#bd3786\"],[0.5555555555555556,\"#d8576b\"],[0.6666666666666666,\"#ed7953\"],[0.7777777777777778,\"#fb9f3a\"],[0.8888888888888888,\"#fdca26\"],[1.0,\"#f0f921\"]]}],\"heatmap\":[{\"type\":\"heatmap\",\"colorbar\":{\"outlinewidth\":0,\"ticks\":\"\"},\"colorscale\":[[0.0,\"#0d0887\"],[0.1111111111111111,\"#46039f\"],[0.2222222222222222,\"#7201a8\"],[0.3333333333333333,\"#9c179e\"],[0.4444444444444444,\"#bd3786\"],[0.5555555555555556,\"#d8576b\"],[0.6666666666666666,\"#ed7953\"],[0.7777777777777778,\"#fb9f3a\"],[0.8888888888888888,\"#fdca26\"],[1.0,\"#f0f921\"]]}],\"heatmapgl\":[{\"type\":\"heatmapgl\",\"colorbar\":{\"outlinewidth\":0,\"ticks\":\"\"},\"colorscale\":[[0.0,\"#0d0887\"],[0.1111111111111111,\"#46039f\"],[0.2222222222222222,\"#7201a8\"],[0.3333333333333333,\"#9c179e\"],[0.4444444444444444,\"#bd3786\"],[0.5555555555555556,\"#d8576b\"],[0.6666666666666666,\"#ed7953\"],[0.7777777777777778,\"#fb9f3a\"],[0.8888888888888888,\"#fdca26\"],[1.0,\"#f0f921\"]]}],\"contourcarpet\":[{\"type\":\"contourcarpet\",\"colorbar\":{\"outlinewidth\":0,\"ticks\":\"\"}}],\"contour\":[{\"type\":\"contour\",\"colorbar\":{\"outlinewidth\":0,\"ticks\":\"\"},\"colorscale\":[[0.0,\"#0d0887\"],[0.1111111111111111,\"#46039f\"],[0.2222222222222222,\"#7201a8\"],[0.3333333333333333,\"#9c179e\"],[0.4444444444444444,\"#bd3786\"],[0.5555555555555556,\"#d8576b\"],[0.6666666666666666,\"#ed7953\"],[0.7777777777777778,\"#fb9f3a\"],[0.8888888888888888,\"#fdca26\"],[1.0,\"#f0f921\"]]}],\"surface\":[{\"type\":\"surface\",\"colorbar\":{\"outlinewidth\":0,\"ticks\":\"\"},\"colorscale\":[[0.0,\"#0d0887\"],[0.1111111111111111,\"#46039f\"],[0.2222222222222222,\"#7201a8\"],[0.3333333333333333,\"#9c179e\"],[0.4444444444444444,\"#bd3786\"],[0.5555555555555556,\"#d8576b\"],[0.6666666666666666,\"#ed7953\"],[0.7777777777777778,\"#fb9f3a\"],[0.8888888888888888,\"#fdca26\"],[1.0,\"#f0f921\"]]}],\"mesh3d\":[{\"type\":\"mesh3d\",\"colorbar\":{\"outlinewidth\":0,\"ticks\":\"\"}}],\"scatter\":[{\"fillpattern\":{\"fillmode\":\"overlay\",\"size\":10,\"solidity\":0.2},\"type\":\"scatter\"}],\"parcoords\":[{\"type\":\"parcoords\",\"line\":{\"colorbar\":{\"outlinewidth\":0,\"ticks\":\"\"}}}],\"scatterpolargl\":[{\"type\":\"scatterpolargl\",\"marker\":{\"colorbar\":{\"outlinewidth\":0,\"ticks\":\"\"}}}],\"bar\":[{\"error_x\":{\"color\":\"#2a3f5f\"},\"error_y\":{\"color\":\"#2a3f5f\"},\"marker\":{\"line\":{\"color\":\"#E5ECF6\",\"width\":0.5},\"pattern\":{\"fillmode\":\"overlay\",\"size\":10,\"solidity\":0.2}},\"type\":\"bar\"}],\"scattergeo\":[{\"type\":\"scattergeo\",\"marker\":{\"colorbar\":{\"outlinewidth\":0,\"ticks\":\"\"}}}],\"scatterpolar\":[{\"type\":\"scatterpolar\",\"marker\":{\"colorbar\":{\"outlinewidth\":0,\"ticks\":\"\"}}}],\"histogram\":[{\"marker\":{\"pattern\":{\"fillmode\":\"overlay\",\"size\":10,\"solidity\":0.2}},\"type\":\"histogram\"}],\"scattergl\":[{\"type\":\"scattergl\",\"marker\":{\"colorbar\":{\"outlinewidth\":0,\"ticks\":\"\"}}}],\"scatter3d\":[{\"type\":\"scatter3d\",\"line\":{\"colorbar\":{\"outlinewidth\":0,\"ticks\":\"\"}},\"marker\":{\"colorbar\":{\"outlinewidth\":0,\"ticks\":\"\"}}}],\"scattermapbox\":[{\"type\":\"scattermapbox\",\"marker\":{\"colorbar\":{\"outlinewidth\":0,\"ticks\":\"\"}}}],\"scatterternary\":[{\"type\":\"scatterternary\",\"marker\":{\"colorbar\":{\"outlinewidth\":0,\"ticks\":\"\"}}}],\"scattercarpet\":[{\"type\":\"scattercarpet\",\"marker\":{\"colorbar\":{\"outlinewidth\":0,\"ticks\":\"\"}}}],\"carpet\":[{\"aaxis\":{\"endlinecolor\":\"#2a3f5f\",\"gridcolor\":\"white\",\"linecolor\":\"white\",\"minorgridcolor\":\"white\",\"startlinecolor\":\"#2a3f5f\"},\"baxis\":{\"endlinecolor\":\"#2a3f5f\",\"gridcolor\":\"white\",\"linecolor\":\"white\",\"minorgridcolor\":\"white\",\"startlinecolor\":\"#2a3f5f\"},\"type\":\"carpet\"}],\"table\":[{\"cells\":{\"fill\":{\"color\":\"#EBF0F8\"},\"line\":{\"color\":\"white\"}},\"header\":{\"fill\":{\"color\":\"#C8D4E3\"},\"line\":{\"color\":\"white\"}},\"type\":\"table\"}],\"barpolar\":[{\"marker\":{\"line\":{\"color\":\"#E5ECF6\",\"width\":0.5},\"pattern\":{\"fillmode\":\"overlay\",\"size\":10,\"solidity\":0.2}},\"type\":\"barpolar\"}],\"pie\":[{\"automargin\":true,\"type\":\"pie\"}]},\"layout\":{\"autotypenumbers\":\"strict\",\"colorway\":[\"#636efa\",\"#EF553B\",\"#00cc96\",\"#ab63fa\",\"#FFA15A\",\"#19d3f3\",\"#FF6692\",\"#B6E880\",\"#FF97FF\",\"#FECB52\"],\"font\":{\"color\":\"#2a3f5f\"},\"hovermode\":\"closest\",\"hoverlabel\":{\"align\":\"left\"},\"paper_bgcolor\":\"white\",\"plot_bgcolor\":\"#E5ECF6\",\"polar\":{\"bgcolor\":\"#E5ECF6\",\"angularaxis\":{\"gridcolor\":\"white\",\"linecolor\":\"white\",\"ticks\":\"\"},\"radialaxis\":{\"gridcolor\":\"white\",\"linecolor\":\"white\",\"ticks\":\"\"}},\"ternary\":{\"bgcolor\":\"#E5ECF6\",\"aaxis\":{\"gridcolor\":\"white\",\"linecolor\":\"white\",\"ticks\":\"\"},\"baxis\":{\"gridcolor\":\"white\",\"linecolor\":\"white\",\"ticks\":\"\"},\"caxis\":{\"gridcolor\":\"white\",\"linecolor\":\"white\",\"ticks\":\"\"}},\"coloraxis\":{\"colorbar\":{\"outlinewidth\":0,\"ticks\":\"\"}},\"colorscale\":{\"sequential\":[[0.0,\"#0d0887\"],[0.1111111111111111,\"#46039f\"],[0.2222222222222222,\"#7201a8\"],[0.3333333333333333,\"#9c179e\"],[0.4444444444444444,\"#bd3786\"],[0.5555555555555556,\"#d8576b\"],[0.6666666666666666,\"#ed7953\"],[0.7777777777777778,\"#fb9f3a\"],[0.8888888888888888,\"#fdca26\"],[1.0,\"#f0f921\"]],\"sequentialminus\":[[0.0,\"#0d0887\"],[0.1111111111111111,\"#46039f\"],[0.2222222222222222,\"#7201a8\"],[0.3333333333333333,\"#9c179e\"],[0.4444444444444444,\"#bd3786\"],[0.5555555555555556,\"#d8576b\"],[0.6666666666666666,\"#ed7953\"],[0.7777777777777778,\"#fb9f3a\"],[0.8888888888888888,\"#fdca26\"],[1.0,\"#f0f921\"]],\"diverging\":[[0,\"#8e0152\"],[0.1,\"#c51b7d\"],[0.2,\"#de77ae\"],[0.3,\"#f1b6da\"],[0.4,\"#fde0ef\"],[0.5,\"#f7f7f7\"],[0.6,\"#e6f5d0\"],[0.7,\"#b8e186\"],[0.8,\"#7fbc41\"],[0.9,\"#4d9221\"],[1,\"#276419\"]]},\"xaxis\":{\"gridcolor\":\"white\",\"linecolor\":\"white\",\"ticks\":\"\",\"title\":{\"standoff\":15},\"zerolinecolor\":\"white\",\"automargin\":true,\"zerolinewidth\":2},\"yaxis\":{\"gridcolor\":\"white\",\"linecolor\":\"white\",\"ticks\":\"\",\"title\":{\"standoff\":15},\"zerolinecolor\":\"white\",\"automargin\":true,\"zerolinewidth\":2},\"scene\":{\"xaxis\":{\"backgroundcolor\":\"#E5ECF6\",\"gridcolor\":\"white\",\"linecolor\":\"white\",\"showbackground\":true,\"ticks\":\"\",\"zerolinecolor\":\"white\",\"gridwidth\":2},\"yaxis\":{\"backgroundcolor\":\"#E5ECF6\",\"gridcolor\":\"white\",\"linecolor\":\"white\",\"showbackground\":true,\"ticks\":\"\",\"zerolinecolor\":\"white\",\"gridwidth\":2},\"zaxis\":{\"backgroundcolor\":\"#E5ECF6\",\"gridcolor\":\"white\",\"linecolor\":\"white\",\"showbackground\":true,\"ticks\":\"\",\"zerolinecolor\":\"white\",\"gridwidth\":2}},\"shapedefaults\":{\"line\":{\"color\":\"#2a3f5f\"}},\"annotationdefaults\":{\"arrowcolor\":\"#2a3f5f\",\"arrowhead\":0,\"arrowwidth\":1},\"geo\":{\"bgcolor\":\"white\",\"landcolor\":\"#E5ECF6\",\"subunitcolor\":\"white\",\"showland\":true,\"showlakes\":true,\"lakecolor\":\"white\"},\"title\":{\"x\":0.05},\"mapbox\":{\"style\":\"light\"}}},\"xaxis\":{\"anchor\":\"y\",\"domain\":[0.0,1.0],\"title\":{\"text\":\"week_start\"}},\"yaxis\":{\"anchor\":\"x\",\"domain\":[0.0,1.0],\"title\":{\"text\":\"qualified_subscribers\"}},\"legend\":{\"title\":{\"text\":\"region\"},\"tracegroupgap\":0},\"title\":{\"text\":\"Qualified Subscribers per City per Week\"},\"barmode\":\"group\"},                        {\"responsive\": true}                    ).then(function(){\n",
              "                            \n",
              "var gd = document.getElementById('74544397-0662-42cb-b2d8-30bdc1c663b8');\n",
              "var x = new MutationObserver(function (mutations, observer) {{\n",
              "        var display = window.getComputedStyle(gd).display;\n",
              "        if (!display || display === 'none') {{\n",
              "            console.log([gd, 'removed!']);\n",
              "            Plotly.purge(gd);\n",
              "            observer.disconnect();\n",
              "        }}\n",
              "}});\n",
              "\n",
              "// Listen for the removal of the full notebook cells\n",
              "var notebookContainer = gd.closest('#notebook-container');\n",
              "if (notebookContainer) {{\n",
              "    x.observe(notebookContainer, {childList: true});\n",
              "}}\n",
              "\n",
              "// Listen for the clearing of the current output cell\n",
              "var outputEl = gd.closest('.output');\n",
              "if (outputEl) {{\n",
              "    x.observe(outputEl, {childList: true});\n",
              "}}\n",
              "\n",
              "                        })                };                            </script>        </div>\n",
              "</body>\n",
              "</html>"
            ]
          },
          "metadata": {}
        }
      ]
    },
    {
      "cell_type": "code",
      "source": [
        "#Load & Concatenate Usage Files"
      ],
      "metadata": {
        "id": "jk5t1Zj84MHB"
      },
      "execution_count": null,
      "outputs": []
    },
    {
      "cell_type": "code",
      "source": [
        "import pandas as pd\n",
        "\n",
        "# Load both weeks\n",
        "week1 = pd.read_csv(\"VMobile_Usage_Records_Week1.csv\")\n",
        "week2 = pd.read_csv(\"VMobile_Usage_Records_Week2.csv\")\n",
        "\n",
        "# Combine\n",
        "VMobile_Usage_Records = pd.concat([week1, week2], ignore_index=True)\n",
        "\n",
        "# Parse dates\n",
        "VMobile_Usage_Records[\"USAGE_EVENT_DATE_TIME\"] = pd.to_datetime(\n",
        "    VMobile_Usage_Records[\"USAGE_EVENT_DATE_TIME\"],\n",
        "    format=\"%d %m %Y %H:%M\", errors=\"coerce\"\n",
        ")\n"
      ],
      "metadata": {
        "id": "4WPTssaj4Nuy"
      },
      "execution_count": null,
      "outputs": []
    }
  ]
}